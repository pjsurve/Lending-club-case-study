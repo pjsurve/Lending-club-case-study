{
 "cells": [
  {
   "cell_type": "code",
   "execution_count": 1,
   "id": "4bcc7a58",
   "metadata": {},
   "outputs": [],
   "source": [
    "import numpy as np\n",
    "import pandas as pd\n",
    "import seaborn as sns\n",
    "import warnings\n",
    "warnings.filterwarnings('ignore')\n",
    "import datetime as dt\n",
    "import matplotlib.pyplot as plt\n",
    "from matplotlib.ticker import FuncFormatter"
   ]
  },
  {
   "cell_type": "code",
   "execution_count": 2,
   "id": "1e7f8cb8",
   "metadata": {},
   "outputs": [],
   "source": [
    "df = pd.read_csv('loan.csv')"
   ]
  },
  {
   "cell_type": "code",
   "execution_count": 3,
   "id": "b19ba0c3",
   "metadata": {},
   "outputs": [
    {
     "data": {
      "text/plain": [
       "(39717, 111)"
      ]
     },
     "execution_count": 3,
     "metadata": {},
     "output_type": "execute_result"
    }
   ],
   "source": [
    "df.shape"
   ]
  },
  {
   "cell_type": "code",
   "execution_count": 4,
   "id": "5033c14e",
   "metadata": {},
   "outputs": [
    {
     "data": {
      "text/html": [
       "<div>\n",
       "<style scoped>\n",
       "    .dataframe tbody tr th:only-of-type {\n",
       "        vertical-align: middle;\n",
       "    }\n",
       "\n",
       "    .dataframe tbody tr th {\n",
       "        vertical-align: top;\n",
       "    }\n",
       "\n",
       "    .dataframe thead th {\n",
       "        text-align: right;\n",
       "    }\n",
       "</style>\n",
       "<table border=\"1\" class=\"dataframe\">\n",
       "  <thead>\n",
       "    <tr style=\"text-align: right;\">\n",
       "      <th></th>\n",
       "      <th>id</th>\n",
       "      <th>member_id</th>\n",
       "      <th>loan_amnt</th>\n",
       "      <th>funded_amnt</th>\n",
       "      <th>funded_amnt_inv</th>\n",
       "      <th>term</th>\n",
       "      <th>int_rate</th>\n",
       "      <th>installment</th>\n",
       "      <th>grade</th>\n",
       "      <th>sub_grade</th>\n",
       "      <th>...</th>\n",
       "      <th>num_tl_90g_dpd_24m</th>\n",
       "      <th>num_tl_op_past_12m</th>\n",
       "      <th>pct_tl_nvr_dlq</th>\n",
       "      <th>percent_bc_gt_75</th>\n",
       "      <th>pub_rec_bankruptcies</th>\n",
       "      <th>tax_liens</th>\n",
       "      <th>tot_hi_cred_lim</th>\n",
       "      <th>total_bal_ex_mort</th>\n",
       "      <th>total_bc_limit</th>\n",
       "      <th>total_il_high_credit_limit</th>\n",
       "    </tr>\n",
       "  </thead>\n",
       "  <tbody>\n",
       "    <tr>\n",
       "      <th>0</th>\n",
       "      <td>1077501</td>\n",
       "      <td>1296599</td>\n",
       "      <td>5000</td>\n",
       "      <td>5000</td>\n",
       "      <td>4975.0</td>\n",
       "      <td>36 months</td>\n",
       "      <td>10.65%</td>\n",
       "      <td>162.87</td>\n",
       "      <td>B</td>\n",
       "      <td>B2</td>\n",
       "      <td>...</td>\n",
       "      <td>NaN</td>\n",
       "      <td>NaN</td>\n",
       "      <td>NaN</td>\n",
       "      <td>NaN</td>\n",
       "      <td>0.0</td>\n",
       "      <td>0.0</td>\n",
       "      <td>NaN</td>\n",
       "      <td>NaN</td>\n",
       "      <td>NaN</td>\n",
       "      <td>NaN</td>\n",
       "    </tr>\n",
       "    <tr>\n",
       "      <th>1</th>\n",
       "      <td>1077430</td>\n",
       "      <td>1314167</td>\n",
       "      <td>2500</td>\n",
       "      <td>2500</td>\n",
       "      <td>2500.0</td>\n",
       "      <td>60 months</td>\n",
       "      <td>15.27%</td>\n",
       "      <td>59.83</td>\n",
       "      <td>C</td>\n",
       "      <td>C4</td>\n",
       "      <td>...</td>\n",
       "      <td>NaN</td>\n",
       "      <td>NaN</td>\n",
       "      <td>NaN</td>\n",
       "      <td>NaN</td>\n",
       "      <td>0.0</td>\n",
       "      <td>0.0</td>\n",
       "      <td>NaN</td>\n",
       "      <td>NaN</td>\n",
       "      <td>NaN</td>\n",
       "      <td>NaN</td>\n",
       "    </tr>\n",
       "    <tr>\n",
       "      <th>2</th>\n",
       "      <td>1077175</td>\n",
       "      <td>1313524</td>\n",
       "      <td>2400</td>\n",
       "      <td>2400</td>\n",
       "      <td>2400.0</td>\n",
       "      <td>36 months</td>\n",
       "      <td>15.96%</td>\n",
       "      <td>84.33</td>\n",
       "      <td>C</td>\n",
       "      <td>C5</td>\n",
       "      <td>...</td>\n",
       "      <td>NaN</td>\n",
       "      <td>NaN</td>\n",
       "      <td>NaN</td>\n",
       "      <td>NaN</td>\n",
       "      <td>0.0</td>\n",
       "      <td>0.0</td>\n",
       "      <td>NaN</td>\n",
       "      <td>NaN</td>\n",
       "      <td>NaN</td>\n",
       "      <td>NaN</td>\n",
       "    </tr>\n",
       "    <tr>\n",
       "      <th>3</th>\n",
       "      <td>1076863</td>\n",
       "      <td>1277178</td>\n",
       "      <td>10000</td>\n",
       "      <td>10000</td>\n",
       "      <td>10000.0</td>\n",
       "      <td>36 months</td>\n",
       "      <td>13.49%</td>\n",
       "      <td>339.31</td>\n",
       "      <td>C</td>\n",
       "      <td>C1</td>\n",
       "      <td>...</td>\n",
       "      <td>NaN</td>\n",
       "      <td>NaN</td>\n",
       "      <td>NaN</td>\n",
       "      <td>NaN</td>\n",
       "      <td>0.0</td>\n",
       "      <td>0.0</td>\n",
       "      <td>NaN</td>\n",
       "      <td>NaN</td>\n",
       "      <td>NaN</td>\n",
       "      <td>NaN</td>\n",
       "    </tr>\n",
       "    <tr>\n",
       "      <th>4</th>\n",
       "      <td>1075358</td>\n",
       "      <td>1311748</td>\n",
       "      <td>3000</td>\n",
       "      <td>3000</td>\n",
       "      <td>3000.0</td>\n",
       "      <td>60 months</td>\n",
       "      <td>12.69%</td>\n",
       "      <td>67.79</td>\n",
       "      <td>B</td>\n",
       "      <td>B5</td>\n",
       "      <td>...</td>\n",
       "      <td>NaN</td>\n",
       "      <td>NaN</td>\n",
       "      <td>NaN</td>\n",
       "      <td>NaN</td>\n",
       "      <td>0.0</td>\n",
       "      <td>0.0</td>\n",
       "      <td>NaN</td>\n",
       "      <td>NaN</td>\n",
       "      <td>NaN</td>\n",
       "      <td>NaN</td>\n",
       "    </tr>\n",
       "  </tbody>\n",
       "</table>\n",
       "<p>5 rows × 111 columns</p>\n",
       "</div>"
      ],
      "text/plain": [
       "        id  member_id  loan_amnt  funded_amnt  funded_amnt_inv        term  \\\n",
       "0  1077501    1296599       5000         5000           4975.0   36 months   \n",
       "1  1077430    1314167       2500         2500           2500.0   60 months   \n",
       "2  1077175    1313524       2400         2400           2400.0   36 months   \n",
       "3  1076863    1277178      10000        10000          10000.0   36 months   \n",
       "4  1075358    1311748       3000         3000           3000.0   60 months   \n",
       "\n",
       "  int_rate  installment grade sub_grade  ... num_tl_90g_dpd_24m  \\\n",
       "0   10.65%       162.87     B        B2  ...                NaN   \n",
       "1   15.27%        59.83     C        C4  ...                NaN   \n",
       "2   15.96%        84.33     C        C5  ...                NaN   \n",
       "3   13.49%       339.31     C        C1  ...                NaN   \n",
       "4   12.69%        67.79     B        B5  ...                NaN   \n",
       "\n",
       "  num_tl_op_past_12m pct_tl_nvr_dlq  percent_bc_gt_75 pub_rec_bankruptcies  \\\n",
       "0                NaN            NaN               NaN                  0.0   \n",
       "1                NaN            NaN               NaN                  0.0   \n",
       "2                NaN            NaN               NaN                  0.0   \n",
       "3                NaN            NaN               NaN                  0.0   \n",
       "4                NaN            NaN               NaN                  0.0   \n",
       "\n",
       "  tax_liens tot_hi_cred_lim total_bal_ex_mort total_bc_limit  \\\n",
       "0       0.0             NaN               NaN            NaN   \n",
       "1       0.0             NaN               NaN            NaN   \n",
       "2       0.0             NaN               NaN            NaN   \n",
       "3       0.0             NaN               NaN            NaN   \n",
       "4       0.0             NaN               NaN            NaN   \n",
       "\n",
       "  total_il_high_credit_limit  \n",
       "0                        NaN  \n",
       "1                        NaN  \n",
       "2                        NaN  \n",
       "3                        NaN  \n",
       "4                        NaN  \n",
       "\n",
       "[5 rows x 111 columns]"
      ]
     },
     "execution_count": 4,
     "metadata": {},
     "output_type": "execute_result"
    }
   ],
   "source": [
    "df.head()"
   ]
  },
  {
   "cell_type": "markdown",
   "id": "fa4775e8",
   "metadata": {},
   "source": [
    "## Data cleaning"
   ]
  },
  {
   "cell_type": "markdown",
   "id": "6099ccc0",
   "metadata": {},
   "source": [
    "### Missing values"
   ]
  },
  {
   "cell_type": "markdown",
   "id": "a950d71f",
   "metadata": {},
   "source": [
    "##### Checking for null columns"
   ]
  },
  {
   "cell_type": "code",
   "execution_count": 5,
   "id": "ccf706f8",
   "metadata": {
    "scrolled": true
   },
   "outputs": [
    {
     "data": {
      "text/plain": [
       "id                                0\n",
       "member_id                         0\n",
       "loan_amnt                         0\n",
       "funded_amnt                       0\n",
       "funded_amnt_inv                   0\n",
       "                              ...  \n",
       "tax_liens                        39\n",
       "tot_hi_cred_lim               39717\n",
       "total_bal_ex_mort             39717\n",
       "total_bc_limit                39717\n",
       "total_il_high_credit_limit    39717\n",
       "Length: 111, dtype: int64"
      ]
     },
     "execution_count": 5,
     "metadata": {},
     "output_type": "execute_result"
    }
   ],
   "source": [
    "df.isnull().sum()"
   ]
  },
  {
   "cell_type": "markdown",
   "id": "2639b636",
   "metadata": {},
   "source": [
    "##### Dropping all columns having only null values"
   ]
  },
  {
   "cell_type": "code",
   "execution_count": 6,
   "id": "c16e2773",
   "metadata": {},
   "outputs": [],
   "source": [
    "df.dropna(axis=1, how='all', inplace=True)"
   ]
  },
  {
   "cell_type": "code",
   "execution_count": 7,
   "id": "013f32d7",
   "metadata": {},
   "outputs": [
    {
     "data": {
      "text/plain": [
       "(39717, 57)"
      ]
     },
     "execution_count": 7,
     "metadata": {},
     "output_type": "execute_result"
    }
   ],
   "source": [
    "df.shape"
   ]
  },
  {
   "cell_type": "code",
   "execution_count": 8,
   "id": "2fab1c26",
   "metadata": {},
   "outputs": [
    {
     "data": {
      "text/plain": [
       "id                                0\n",
       "member_id                         0\n",
       "loan_amnt                         0\n",
       "funded_amnt                       0\n",
       "funded_amnt_inv                   0\n",
       "term                              0\n",
       "int_rate                          0\n",
       "installment                       0\n",
       "grade                             0\n",
       "sub_grade                         0\n",
       "emp_title                      2459\n",
       "emp_length                     1075\n",
       "home_ownership                    0\n",
       "annual_inc                        0\n",
       "verification_status               0\n",
       "issue_d                           0\n",
       "loan_status                       0\n",
       "pymnt_plan                        0\n",
       "url                               0\n",
       "desc                          12940\n",
       "purpose                           0\n",
       "title                            11\n",
       "zip_code                          0\n",
       "addr_state                        0\n",
       "dti                               0\n",
       "delinq_2yrs                       0\n",
       "earliest_cr_line                  0\n",
       "inq_last_6mths                    0\n",
       "mths_since_last_delinq        25682\n",
       "mths_since_last_record        36931\n",
       "open_acc                          0\n",
       "pub_rec                           0\n",
       "revol_bal                         0\n",
       "revol_util                       50\n",
       "total_acc                         0\n",
       "initial_list_status               0\n",
       "out_prncp                         0\n",
       "out_prncp_inv                     0\n",
       "total_pymnt                       0\n",
       "total_pymnt_inv                   0\n",
       "total_rec_prncp                   0\n",
       "total_rec_int                     0\n",
       "total_rec_late_fee                0\n",
       "recoveries                        0\n",
       "collection_recovery_fee           0\n",
       "last_pymnt_d                     71\n",
       "last_pymnt_amnt                   0\n",
       "next_pymnt_d                  38577\n",
       "last_credit_pull_d                2\n",
       "collections_12_mths_ex_med       56\n",
       "policy_code                       0\n",
       "application_type                  0\n",
       "acc_now_delinq                    0\n",
       "chargeoff_within_12_mths         56\n",
       "delinq_amnt                       0\n",
       "pub_rec_bankruptcies            697\n",
       "tax_liens                        39\n",
       "dtype: int64"
      ]
     },
     "execution_count": 8,
     "metadata": {},
     "output_type": "execute_result"
    }
   ],
   "source": [
    "df.isnull().sum()"
   ]
  },
  {
   "cell_type": "markdown",
   "id": "ee281ddb",
   "metadata": {},
   "source": [
    "##### Additional columns to be removed\n",
    "- Columns like next_pymnt_d, mths_since_last_record, mths_since_last_delinq have too many null values hence they are useless\n",
    "- desc, emp_title, url, title are of no use in this case\n",
    "- collections_12_mths_ex_med, chargeoff_within_12_mths, tax_liens columns have only 0 and NA\n",
    "- last_pymnt_d, last_credit_pull_d are also of no use in this case"
   ]
  },
  {
   "cell_type": "code",
   "execution_count": 9,
   "id": "d7ee5def",
   "metadata": {},
   "outputs": [],
   "source": [
    "df.drop(columns=['next_pymnt_d', 'mths_since_last_record', 'mths_since_last_delinq', 'desc', 'emp_title', 'url', 'title', 'collections_12_mths_ex_med', 'chargeoff_within_12_mths', 'tax_liens', 'last_pymnt_d', 'last_credit_pull_d'], axis=1, inplace=True)"
   ]
  },
  {
   "cell_type": "code",
   "execution_count": 10,
   "id": "4537a325",
   "metadata": {},
   "outputs": [
    {
     "data": {
      "text/plain": [
       "id                            0\n",
       "member_id                     0\n",
       "loan_amnt                     0\n",
       "funded_amnt                   0\n",
       "funded_amnt_inv               0\n",
       "term                          0\n",
       "int_rate                      0\n",
       "installment                   0\n",
       "grade                         0\n",
       "sub_grade                     0\n",
       "emp_length                 1075\n",
       "home_ownership                0\n",
       "annual_inc                    0\n",
       "verification_status           0\n",
       "issue_d                       0\n",
       "loan_status                   0\n",
       "pymnt_plan                    0\n",
       "purpose                       0\n",
       "zip_code                      0\n",
       "addr_state                    0\n",
       "dti                           0\n",
       "delinq_2yrs                   0\n",
       "earliest_cr_line              0\n",
       "inq_last_6mths                0\n",
       "open_acc                      0\n",
       "pub_rec                       0\n",
       "revol_bal                     0\n",
       "revol_util                   50\n",
       "total_acc                     0\n",
       "initial_list_status           0\n",
       "out_prncp                     0\n",
       "out_prncp_inv                 0\n",
       "total_pymnt                   0\n",
       "total_pymnt_inv               0\n",
       "total_rec_prncp               0\n",
       "total_rec_int                 0\n",
       "total_rec_late_fee            0\n",
       "recoveries                    0\n",
       "collection_recovery_fee       0\n",
       "last_pymnt_amnt               0\n",
       "policy_code                   0\n",
       "application_type              0\n",
       "acc_now_delinq                0\n",
       "delinq_amnt                   0\n",
       "pub_rec_bankruptcies        697\n",
       "dtype: int64"
      ]
     },
     "execution_count": 10,
     "metadata": {},
     "output_type": "execute_result"
    }
   ],
   "source": [
    "df.isnull().sum()"
   ]
  },
  {
   "cell_type": "markdown",
   "id": "ad4826e3",
   "metadata": {},
   "source": [
    "##### Searching for columns having only one unique value\n",
    "These columns can be droped because there cannot be any analysis done"
   ]
  },
  {
   "cell_type": "code",
   "execution_count": 11,
   "id": "554d8a7a",
   "metadata": {},
   "outputs": [],
   "source": [
    "df.drop(columns = [c for c in list(df) if len(df[c].unique()) == 1], axis=1, inplace=True)"
   ]
  },
  {
   "cell_type": "code",
   "execution_count": 12,
   "id": "be49b720",
   "metadata": {},
   "outputs": [
    {
     "data": {
      "text/plain": [
       "id                            0\n",
       "member_id                     0\n",
       "loan_amnt                     0\n",
       "funded_amnt                   0\n",
       "funded_amnt_inv               0\n",
       "term                          0\n",
       "int_rate                      0\n",
       "installment                   0\n",
       "grade                         0\n",
       "sub_grade                     0\n",
       "emp_length                 1075\n",
       "home_ownership                0\n",
       "annual_inc                    0\n",
       "verification_status           0\n",
       "issue_d                       0\n",
       "loan_status                   0\n",
       "purpose                       0\n",
       "zip_code                      0\n",
       "addr_state                    0\n",
       "dti                           0\n",
       "delinq_2yrs                   0\n",
       "earliest_cr_line              0\n",
       "inq_last_6mths                0\n",
       "open_acc                      0\n",
       "pub_rec                       0\n",
       "revol_bal                     0\n",
       "revol_util                   50\n",
       "total_acc                     0\n",
       "out_prncp                     0\n",
       "out_prncp_inv                 0\n",
       "total_pymnt                   0\n",
       "total_pymnt_inv               0\n",
       "total_rec_prncp               0\n",
       "total_rec_int                 0\n",
       "total_rec_late_fee            0\n",
       "recoveries                    0\n",
       "collection_recovery_fee       0\n",
       "last_pymnt_amnt               0\n",
       "pub_rec_bankruptcies        697\n",
       "dtype: int64"
      ]
     },
     "execution_count": 12,
     "metadata": {},
     "output_type": "execute_result"
    }
   ],
   "source": [
    "df.isnull().sum()"
   ]
  },
  {
   "cell_type": "markdown",
   "id": "33888a53",
   "metadata": {},
   "source": [
    "### Assigning values\n",
    "###### emp_length"
   ]
  },
  {
   "cell_type": "markdown",
   "id": "a558fd5b",
   "metadata": {},
   "source": [
    "For 'emp_length' column lets assume 0 as less than 1 year and 10 >= 10 years, other numbers remain as it is"
   ]
  },
  {
   "cell_type": "code",
   "execution_count": 13,
   "id": "a0029961",
   "metadata": {},
   "outputs": [
    {
     "data": {
      "text/plain": [
       "10+ years    8879\n",
       "< 1 year     4583\n",
       "2 years      4388\n",
       "3 years      4095\n",
       "4 years      3436\n",
       "5 years      3282\n",
       "1 year       3240\n",
       "6 years      2229\n",
       "7 years      1773\n",
       "8 years      1479\n",
       "9 years      1258\n",
       "Name: emp_length, dtype: int64"
      ]
     },
     "execution_count": 13,
     "metadata": {},
     "output_type": "execute_result"
    }
   ],
   "source": [
    "df.emp_length.value_counts()"
   ]
  },
  {
   "cell_type": "code",
   "execution_count": 14,
   "id": "4576f1f3",
   "metadata": {},
   "outputs": [
    {
     "data": {
      "text/plain": [
       "array(['10+ years', '< 1 year', '1 year', '3 years', '8 years', '9 years',\n",
       "       '4 years', '5 years', '6 years', '2 years', '7 years'],\n",
       "      dtype=object)"
      ]
     },
     "execution_count": 14,
     "metadata": {},
     "output_type": "execute_result"
    }
   ],
   "source": [
    "df.emp_length.unique()[:-1]"
   ]
  },
  {
   "cell_type": "code",
   "execution_count": 15,
   "id": "3c3a7ee2",
   "metadata": {},
   "outputs": [],
   "source": [
    "df = df.replace(df.emp_length.unique()[:-1], [10, 0, 1, 3, 8, 9, 4, 5, 6, 2, 7])"
   ]
  },
  {
   "cell_type": "code",
   "execution_count": 16,
   "id": "6123d2df",
   "metadata": {},
   "outputs": [
    {
     "data": {
      "text/plain": [
       "count    38642.000000\n",
       "mean         4.973449\n",
       "std          3.562580\n",
       "min          0.000000\n",
       "25%          2.000000\n",
       "50%          4.000000\n",
       "75%          9.000000\n",
       "max         10.000000\n",
       "Name: emp_length, dtype: float64"
      ]
     },
     "execution_count": 16,
     "metadata": {},
     "output_type": "execute_result"
    }
   ],
   "source": [
    "df.emp_length.describe()"
   ]
  },
  {
   "cell_type": "markdown",
   "id": "be4eec39",
   "metadata": {},
   "source": [
    "Since mean and median of the emp_length are almost equal, filling up the missing values by 4"
   ]
  },
  {
   "cell_type": "code",
   "execution_count": 17,
   "id": "0e045939",
   "metadata": {},
   "outputs": [],
   "source": [
    "df.emp_length.fillna(4, inplace=True)"
   ]
  },
  {
   "cell_type": "code",
   "execution_count": 18,
   "id": "ebe8b076",
   "metadata": {},
   "outputs": [
    {
     "data": {
      "text/plain": [
       "id                           0\n",
       "member_id                    0\n",
       "loan_amnt                    0\n",
       "funded_amnt                  0\n",
       "funded_amnt_inv              0\n",
       "term                         0\n",
       "int_rate                     0\n",
       "installment                  0\n",
       "grade                        0\n",
       "sub_grade                    0\n",
       "emp_length                   0\n",
       "home_ownership               0\n",
       "annual_inc                   0\n",
       "verification_status          0\n",
       "issue_d                      0\n",
       "loan_status                  0\n",
       "purpose                      0\n",
       "zip_code                     0\n",
       "addr_state                   0\n",
       "dti                          0\n",
       "delinq_2yrs                  0\n",
       "earliest_cr_line             0\n",
       "inq_last_6mths               0\n",
       "open_acc                     0\n",
       "pub_rec                      0\n",
       "revol_bal                    0\n",
       "revol_util                  50\n",
       "total_acc                    0\n",
       "out_prncp                    0\n",
       "out_prncp_inv                0\n",
       "total_pymnt                  0\n",
       "total_pymnt_inv              0\n",
       "total_rec_prncp              0\n",
       "total_rec_int                0\n",
       "total_rec_late_fee           0\n",
       "recoveries                   0\n",
       "collection_recovery_fee      0\n",
       "last_pymnt_amnt              0\n",
       "pub_rec_bankruptcies       697\n",
       "dtype: int64"
      ]
     },
     "execution_count": 18,
     "metadata": {},
     "output_type": "execute_result"
    }
   ],
   "source": [
    "df.isnull().sum()"
   ]
  },
  {
   "cell_type": "markdown",
   "id": "935ab80b",
   "metadata": {},
   "source": [
    "##### revol_util"
   ]
  },
  {
   "cell_type": "code",
   "execution_count": 19,
   "id": "461f8b48",
   "metadata": {},
   "outputs": [
    {
     "data": {
      "text/plain": [
       "0%        977\n",
       "0.20%      63\n",
       "63%        62\n",
       "40.70%     58\n",
       "66.70%     58\n",
       "         ... \n",
       "25.74%      1\n",
       "47.36%      1\n",
       "24.65%      1\n",
       "10.61%      1\n",
       "7.28%       1\n",
       "Name: revol_util, Length: 1089, dtype: int64"
      ]
     },
     "execution_count": 19,
     "metadata": {},
     "output_type": "execute_result"
    }
   ],
   "source": [
    "df.revol_util.value_counts()"
   ]
  },
  {
   "cell_type": "markdown",
   "id": "8ae66478",
   "metadata": {},
   "source": [
    "Changing values to float"
   ]
  },
  {
   "cell_type": "code",
   "execution_count": 20,
   "id": "32fdc823",
   "metadata": {},
   "outputs": [],
   "source": [
    "df.revol_util = df.revol_util.apply(lambda x: x if type(x) == float else float(x[:-1]))"
   ]
  },
  {
   "cell_type": "code",
   "execution_count": 21,
   "id": "76f6e573",
   "metadata": {},
   "outputs": [
    {
     "data": {
      "text/plain": [
       "count    39667.000000\n",
       "mean        48.832152\n",
       "std         28.332634\n",
       "min          0.000000\n",
       "25%         25.400000\n",
       "50%         49.300000\n",
       "75%         72.400000\n",
       "max         99.900000\n",
       "Name: revol_util, dtype: float64"
      ]
     },
     "execution_count": 21,
     "metadata": {},
     "output_type": "execute_result"
    }
   ],
   "source": [
    "df.revol_util.describe()"
   ]
  },
  {
   "cell_type": "markdown",
   "id": "a10b15fd",
   "metadata": {},
   "source": [
    "Since there is not much difference between mean and median, replacing null values with mean"
   ]
  },
  {
   "cell_type": "code",
   "execution_count": 22,
   "id": "a9bbfca9",
   "metadata": {},
   "outputs": [],
   "source": [
    "df.revol_util.fillna(df.revol_util.mean(), inplace=True)"
   ]
  },
  {
   "cell_type": "markdown",
   "id": "35f019b6",
   "metadata": {},
   "source": [
    "##### int_rate\n",
    "Similarly converting interest rate to float"
   ]
  },
  {
   "cell_type": "code",
   "execution_count": 23,
   "id": "b819e4af",
   "metadata": {},
   "outputs": [],
   "source": [
    "df.int_rate = df.int_rate.apply(lambda x: x if type(x) == float else float(x[:-1]))"
   ]
  },
  {
   "cell_type": "code",
   "execution_count": 24,
   "id": "6464600d",
   "metadata": {},
   "outputs": [
    {
     "data": {
      "text/plain": [
       "id                           0\n",
       "member_id                    0\n",
       "loan_amnt                    0\n",
       "funded_amnt                  0\n",
       "funded_amnt_inv              0\n",
       "term                         0\n",
       "int_rate                     0\n",
       "installment                  0\n",
       "grade                        0\n",
       "sub_grade                    0\n",
       "emp_length                   0\n",
       "home_ownership               0\n",
       "annual_inc                   0\n",
       "verification_status          0\n",
       "issue_d                      0\n",
       "loan_status                  0\n",
       "purpose                      0\n",
       "zip_code                     0\n",
       "addr_state                   0\n",
       "dti                          0\n",
       "delinq_2yrs                  0\n",
       "earliest_cr_line             0\n",
       "inq_last_6mths               0\n",
       "open_acc                     0\n",
       "pub_rec                      0\n",
       "revol_bal                    0\n",
       "revol_util                   0\n",
       "total_acc                    0\n",
       "out_prncp                    0\n",
       "out_prncp_inv                0\n",
       "total_pymnt                  0\n",
       "total_pymnt_inv              0\n",
       "total_rec_prncp              0\n",
       "total_rec_int                0\n",
       "total_rec_late_fee           0\n",
       "recoveries                   0\n",
       "collection_recovery_fee      0\n",
       "last_pymnt_amnt              0\n",
       "pub_rec_bankruptcies       697\n",
       "dtype: int64"
      ]
     },
     "execution_count": 24,
     "metadata": {},
     "output_type": "execute_result"
    }
   ],
   "source": [
    "df.isnull().sum()"
   ]
  },
  {
   "cell_type": "markdown",
   "id": "a0c30e68",
   "metadata": {},
   "source": [
    "##### pub_rec_bankruptcies       "
   ]
  },
  {
   "cell_type": "code",
   "execution_count": 25,
   "id": "d260e229",
   "metadata": {},
   "outputs": [
    {
     "data": {
      "text/plain": [
       "count    39020.000000\n",
       "mean         0.043260\n",
       "std          0.204324\n",
       "min          0.000000\n",
       "25%          0.000000\n",
       "50%          0.000000\n",
       "75%          0.000000\n",
       "max          2.000000\n",
       "Name: pub_rec_bankruptcies, dtype: float64"
      ]
     },
     "execution_count": 25,
     "metadata": {},
     "output_type": "execute_result"
    }
   ],
   "source": [
    "df.pub_rec_bankruptcies.describe()"
   ]
  },
  {
   "cell_type": "markdown",
   "id": "f3bf67fd",
   "metadata": {},
   "source": [
    "Since mean and median are nearly same i.e. 0, replacing null vlaues by 0"
   ]
  },
  {
   "cell_type": "code",
   "execution_count": 26,
   "id": "b1fa5399",
   "metadata": {},
   "outputs": [],
   "source": [
    "df.pub_rec_bankruptcies.fillna(0, inplace=True)"
   ]
  },
  {
   "cell_type": "code",
   "execution_count": 27,
   "id": "76d283d5",
   "metadata": {},
   "outputs": [
    {
     "data": {
      "text/plain": [
       "id                         0\n",
       "member_id                  0\n",
       "loan_amnt                  0\n",
       "funded_amnt                0\n",
       "funded_amnt_inv            0\n",
       "term                       0\n",
       "int_rate                   0\n",
       "installment                0\n",
       "grade                      0\n",
       "sub_grade                  0\n",
       "emp_length                 0\n",
       "home_ownership             0\n",
       "annual_inc                 0\n",
       "verification_status        0\n",
       "issue_d                    0\n",
       "loan_status                0\n",
       "purpose                    0\n",
       "zip_code                   0\n",
       "addr_state                 0\n",
       "dti                        0\n",
       "delinq_2yrs                0\n",
       "earliest_cr_line           0\n",
       "inq_last_6mths             0\n",
       "open_acc                   0\n",
       "pub_rec                    0\n",
       "revol_bal                  0\n",
       "revol_util                 0\n",
       "total_acc                  0\n",
       "out_prncp                  0\n",
       "out_prncp_inv              0\n",
       "total_pymnt                0\n",
       "total_pymnt_inv            0\n",
       "total_rec_prncp            0\n",
       "total_rec_int              0\n",
       "total_rec_late_fee         0\n",
       "recoveries                 0\n",
       "collection_recovery_fee    0\n",
       "last_pymnt_amnt            0\n",
       "pub_rec_bankruptcies       0\n",
       "dtype: int64"
      ]
     },
     "execution_count": 27,
     "metadata": {},
     "output_type": "execute_result"
    }
   ],
   "source": [
    "df.isnull().sum()"
   ]
  },
  {
   "cell_type": "markdown",
   "id": "b2a9be3e",
   "metadata": {},
   "source": [
    "##### home_ownership             "
   ]
  },
  {
   "cell_type": "code",
   "execution_count": 28,
   "id": "3a69b49b",
   "metadata": {},
   "outputs": [
    {
     "data": {
      "text/plain": [
       "RENT        18899\n",
       "MORTGAGE    17659\n",
       "OWN          3058\n",
       "OTHER          98\n",
       "NONE            3\n",
       "Name: home_ownership, dtype: int64"
      ]
     },
     "execution_count": 28,
     "metadata": {},
     "output_type": "execute_result"
    }
   ],
   "source": [
    "df.home_ownership.value_counts()"
   ]
  },
  {
   "cell_type": "markdown",
   "id": "0e9eceff",
   "metadata": {},
   "source": [
    "As per data dictionary, there are only 4 values for home ownership RENT, MORTGAGE, OWN, OTHER.\n",
    "Also, RENT has maximum count. Hence, replacing 3 NONE values with RENT"
   ]
  },
  {
   "cell_type": "code",
   "execution_count": 29,
   "id": "0cd4be1a",
   "metadata": {},
   "outputs": [],
   "source": [
    "df.home_ownership = df.home_ownership.replace(\"NONE\", 'RENT')"
   ]
  },
  {
   "cell_type": "markdown",
   "id": "a57b5357",
   "metadata": {},
   "source": [
    "#### The current loans are not going to help in analysis. Hence dropping the same"
   ]
  },
  {
   "cell_type": "code",
   "execution_count": 30,
   "id": "a07758cd",
   "metadata": {},
   "outputs": [],
   "source": [
    "df = df[df.loan_status != 'Current']"
   ]
  },
  {
   "cell_type": "markdown",
   "id": "a189ec19",
   "metadata": {},
   "source": [
    "### Removing outliers"
   ]
  },
  {
   "cell_type": "markdown",
   "id": "89ba311e",
   "metadata": {},
   "source": [
    "#### Total income"
   ]
  },
  {
   "cell_type": "code",
   "execution_count": 31,
   "id": "6dd042c0",
   "metadata": {},
   "outputs": [
    {
     "data": {
      "text/plain": [
       "<AxesSubplot:>"
      ]
     },
     "execution_count": 31,
     "metadata": {},
     "output_type": "execute_result"
    },
    {
     "data": {
      "image/png": "[encoded data removed]",
      "text/plain": [
       "<Figure size 432x288 with 1 Axes>"
      ]
     },
     "metadata": {
      "needs_background": "light"
     },
     "output_type": "display_data"
    }
   ],
   "source": [
    "df.annual_inc.plot.box()"
   ]
  },
  {
   "cell_type": "code",
   "execution_count": 32,
   "id": "cd47a4fd",
   "metadata": {},
   "outputs": [],
   "source": [
    "#Removing outliers based on 95 percentile rule\n",
    "df = df[df.annual_inc <= df.annual_inc.quantile(0.95)]"
   ]
  },
  {
   "cell_type": "code",
   "execution_count": 33,
   "id": "f92945c4",
   "metadata": {},
   "outputs": [
    {
     "data": {
      "text/plain": [
       "<AxesSubplot:>"
      ]
     },
     "execution_count": 33,
     "metadata": {},
     "output_type": "execute_result"
    },
    {
     "data": {
      "image/png": "[encoded data removed]",
      "text/plain": [
       "<Figure size 432x288 with 1 Axes>"
      ]
     },
     "metadata": {
      "needs_background": "light"
     },
     "output_type": "display_data"
    }
   ],
   "source": [
    "df.annual_inc.plot.box()"
   ]
  },
  {
   "cell_type": "markdown",
   "id": "759096b7",
   "metadata": {},
   "source": [
    "### Loan amount"
   ]
  },
  {
   "cell_type": "code",
   "execution_count": 34,
   "id": "1f566c84",
   "metadata": {},
   "outputs": [
    {
     "data": {
      "text/plain": [
       "<AxesSubplot:>"
      ]
     },
     "execution_count": 34,
     "metadata": {},
     "output_type": "execute_result"
    },
    {
     "data": {
      "image/png": "[encoded data removed]",
      "text/plain": [
       "<Figure size 432x288 with 1 Axes>"
      ]
     },
     "metadata": {
      "needs_background": "light"
     },
     "output_type": "display_data"
    }
   ],
   "source": [
    "df.loan_amnt.plot.box()"
   ]
  },
  {
   "cell_type": "markdown",
   "id": "8099481c",
   "metadata": {},
   "source": [
    "There are not many outlier hence keeping the records same"
   ]
  },
  {
   "cell_type": "code",
   "execution_count": 35,
   "id": "ce288006",
   "metadata": {
    "scrolled": true
   },
   "outputs": [
    {
     "data": {
      "text/plain": [
       "25000.0"
      ]
     },
     "execution_count": 35,
     "metadata": {},
     "output_type": "execute_result"
    }
   ],
   "source": [
    "df.loan_amnt.quantile(0.95)"
   ]
  },
  {
   "cell_type": "markdown",
   "id": "272c1095",
   "metadata": {},
   "source": [
    "### Deriving values"
   ]
  },
  {
   "cell_type": "markdown",
   "id": "e7f3fafa",
   "metadata": {},
   "source": [
    "#### Month and year from date "
   ]
  },
  {
   "cell_type": "code",
   "execution_count": 36,
   "id": "ac90084e",
   "metadata": {},
   "outputs": [
    {
     "data": {
      "text/plain": [
       "0       2011-12-01\n",
       "1       2011-12-01\n",
       "2       2011-12-01\n",
       "3       2011-12-01\n",
       "5       2011-12-01\n",
       "           ...    \n",
       "39711   2007-07-01\n",
       "39712   2007-07-01\n",
       "39713   2007-07-01\n",
       "39714   2007-07-01\n",
       "39716   2007-06-01\n",
       "Name: issue_d, Length: 36654, dtype: datetime64[ns]"
      ]
     },
     "execution_count": 36,
     "metadata": {},
     "output_type": "execute_result"
    }
   ],
   "source": [
    "#Converting mmm-yy to date\n",
    "pd.to_datetime(df.issue_d, format='%b-%y')"
   ]
  },
  {
   "cell_type": "code",
   "execution_count": 37,
   "id": "66f7ab52",
   "metadata": {},
   "outputs": [],
   "source": [
    "df['issue_month']=df.issue_d.apply(lambda x: dt.datetime.strptime(x, '%b-%y').month)"
   ]
  },
  {
   "cell_type": "code",
   "execution_count": 38,
   "id": "47fda477",
   "metadata": {},
   "outputs": [],
   "source": [
    "df['issue_year']=df.issue_d.apply(lambda x: dt.datetime.strptime(x, '%b-%y').year)"
   ]
  },
  {
   "cell_type": "markdown",
   "id": "77afbf4c",
   "metadata": {},
   "source": [
    "#### Savings from installment and monthly income"
   ]
  },
  {
   "cell_type": "code",
   "execution_count": 39,
   "id": "f6efc99f",
   "metadata": {},
   "outputs": [],
   "source": [
    "df['monthly_savings']=(df.annual_inc / 12) - df.installment"
   ]
  },
  {
   "cell_type": "code",
   "execution_count": 40,
   "id": "17cfa5d0",
   "metadata": {},
   "outputs": [
    {
     "data": {
      "text/html": [
       "<div>\n",
       "<style scoped>\n",
       "    .dataframe tbody tr th:only-of-type {\n",
       "        vertical-align: middle;\n",
       "    }\n",
       "\n",
       "    .dataframe tbody tr th {\n",
       "        vertical-align: top;\n",
       "    }\n",
       "\n",
       "    .dataframe thead th {\n",
       "        text-align: right;\n",
       "    }\n",
       "</style>\n",
       "<table border=\"1\" class=\"dataframe\">\n",
       "  <thead>\n",
       "    <tr style=\"text-align: right;\">\n",
       "      <th></th>\n",
       "      <th>id</th>\n",
       "      <th>member_id</th>\n",
       "      <th>loan_amnt</th>\n",
       "      <th>funded_amnt</th>\n",
       "      <th>funded_amnt_inv</th>\n",
       "      <th>term</th>\n",
       "      <th>int_rate</th>\n",
       "      <th>installment</th>\n",
       "      <th>grade</th>\n",
       "      <th>sub_grade</th>\n",
       "      <th>...</th>\n",
       "      <th>total_rec_prncp</th>\n",
       "      <th>total_rec_int</th>\n",
       "      <th>total_rec_late_fee</th>\n",
       "      <th>recoveries</th>\n",
       "      <th>collection_recovery_fee</th>\n",
       "      <th>last_pymnt_amnt</th>\n",
       "      <th>pub_rec_bankruptcies</th>\n",
       "      <th>issue_month</th>\n",
       "      <th>issue_year</th>\n",
       "      <th>monthly_savings</th>\n",
       "    </tr>\n",
       "  </thead>\n",
       "  <tbody>\n",
       "    <tr>\n",
       "      <th>0</th>\n",
       "      <td>1077501</td>\n",
       "      <td>1296599</td>\n",
       "      <td>5000</td>\n",
       "      <td>5000</td>\n",
       "      <td>4975.0</td>\n",
       "      <td>36 months</td>\n",
       "      <td>10.65</td>\n",
       "      <td>162.87</td>\n",
       "      <td>B</td>\n",
       "      <td>B2</td>\n",
       "      <td>...</td>\n",
       "      <td>5000.00</td>\n",
       "      <td>863.16</td>\n",
       "      <td>0.00</td>\n",
       "      <td>0.00</td>\n",
       "      <td>0.00</td>\n",
       "      <td>171.62</td>\n",
       "      <td>0.0</td>\n",
       "      <td>12</td>\n",
       "      <td>2011</td>\n",
       "      <td>1837.13</td>\n",
       "    </tr>\n",
       "    <tr>\n",
       "      <th>1</th>\n",
       "      <td>1077430</td>\n",
       "      <td>1314167</td>\n",
       "      <td>2500</td>\n",
       "      <td>2500</td>\n",
       "      <td>2500.0</td>\n",
       "      <td>60 months</td>\n",
       "      <td>15.27</td>\n",
       "      <td>59.83</td>\n",
       "      <td>C</td>\n",
       "      <td>C4</td>\n",
       "      <td>...</td>\n",
       "      <td>456.46</td>\n",
       "      <td>435.17</td>\n",
       "      <td>0.00</td>\n",
       "      <td>117.08</td>\n",
       "      <td>1.11</td>\n",
       "      <td>119.66</td>\n",
       "      <td>0.0</td>\n",
       "      <td>12</td>\n",
       "      <td>2011</td>\n",
       "      <td>2440.17</td>\n",
       "    </tr>\n",
       "    <tr>\n",
       "      <th>2</th>\n",
       "      <td>1077175</td>\n",
       "      <td>1313524</td>\n",
       "      <td>2400</td>\n",
       "      <td>2400</td>\n",
       "      <td>2400.0</td>\n",
       "      <td>36 months</td>\n",
       "      <td>15.96</td>\n",
       "      <td>84.33</td>\n",
       "      <td>C</td>\n",
       "      <td>C5</td>\n",
       "      <td>...</td>\n",
       "      <td>2400.00</td>\n",
       "      <td>605.67</td>\n",
       "      <td>0.00</td>\n",
       "      <td>0.00</td>\n",
       "      <td>0.00</td>\n",
       "      <td>649.91</td>\n",
       "      <td>0.0</td>\n",
       "      <td>12</td>\n",
       "      <td>2011</td>\n",
       "      <td>936.67</td>\n",
       "    </tr>\n",
       "    <tr>\n",
       "      <th>3</th>\n",
       "      <td>1076863</td>\n",
       "      <td>1277178</td>\n",
       "      <td>10000</td>\n",
       "      <td>10000</td>\n",
       "      <td>10000.0</td>\n",
       "      <td>36 months</td>\n",
       "      <td>13.49</td>\n",
       "      <td>339.31</td>\n",
       "      <td>C</td>\n",
       "      <td>C1</td>\n",
       "      <td>...</td>\n",
       "      <td>10000.00</td>\n",
       "      <td>2214.92</td>\n",
       "      <td>16.97</td>\n",
       "      <td>0.00</td>\n",
       "      <td>0.00</td>\n",
       "      <td>357.48</td>\n",
       "      <td>0.0</td>\n",
       "      <td>12</td>\n",
       "      <td>2011</td>\n",
       "      <td>3760.69</td>\n",
       "    </tr>\n",
       "    <tr>\n",
       "      <th>5</th>\n",
       "      <td>1075269</td>\n",
       "      <td>1311441</td>\n",
       "      <td>5000</td>\n",
       "      <td>5000</td>\n",
       "      <td>5000.0</td>\n",
       "      <td>36 months</td>\n",
       "      <td>7.90</td>\n",
       "      <td>156.46</td>\n",
       "      <td>A</td>\n",
       "      <td>A4</td>\n",
       "      <td>...</td>\n",
       "      <td>5000.00</td>\n",
       "      <td>632.21</td>\n",
       "      <td>0.00</td>\n",
       "      <td>0.00</td>\n",
       "      <td>0.00</td>\n",
       "      <td>161.03</td>\n",
       "      <td>0.0</td>\n",
       "      <td>12</td>\n",
       "      <td>2011</td>\n",
       "      <td>2843.54</td>\n",
       "    </tr>\n",
       "  </tbody>\n",
       "</table>\n",
       "<p>5 rows × 42 columns</p>\n",
       "</div>"
      ],
      "text/plain": [
       "        id  member_id  loan_amnt  funded_amnt  funded_amnt_inv        term  \\\n",
       "0  1077501    1296599       5000         5000           4975.0   36 months   \n",
       "1  1077430    1314167       2500         2500           2500.0   60 months   \n",
       "2  1077175    1313524       2400         2400           2400.0   36 months   \n",
       "3  1076863    1277178      10000        10000          10000.0   36 months   \n",
       "5  1075269    1311441       5000         5000           5000.0   36 months   \n",
       "\n",
       "   int_rate  installment grade sub_grade  ...  total_rec_prncp total_rec_int  \\\n",
       "0     10.65       162.87     B        B2  ...          5000.00        863.16   \n",
       "1     15.27        59.83     C        C4  ...           456.46        435.17   \n",
       "2     15.96        84.33     C        C5  ...          2400.00        605.67   \n",
       "3     13.49       339.31     C        C1  ...         10000.00       2214.92   \n",
       "5      7.90       156.46     A        A4  ...          5000.00        632.21   \n",
       "\n",
       "   total_rec_late_fee recoveries collection_recovery_fee last_pymnt_amnt  \\\n",
       "0                0.00       0.00                    0.00          171.62   \n",
       "1                0.00     117.08                    1.11          119.66   \n",
       "2                0.00       0.00                    0.00          649.91   \n",
       "3               16.97       0.00                    0.00          357.48   \n",
       "5                0.00       0.00                    0.00          161.03   \n",
       "\n",
       "  pub_rec_bankruptcies issue_month issue_year  monthly_savings  \n",
       "0                  0.0          12       2011          1837.13  \n",
       "1                  0.0          12       2011          2440.17  \n",
       "2                  0.0          12       2011           936.67  \n",
       "3                  0.0          12       2011          3760.69  \n",
       "5                  0.0          12       2011          2843.54  \n",
       "\n",
       "[5 rows x 42 columns]"
      ]
     },
     "execution_count": 40,
     "metadata": {},
     "output_type": "execute_result"
    }
   ],
   "source": [
    "df.head()"
   ]
  },
  {
   "cell_type": "code",
   "execution_count": 41,
   "id": "d3e41b68",
   "metadata": {},
   "outputs": [
    {
     "data": {
      "text/plain": [
       "(36654, 42)"
      ]
     },
     "execution_count": 41,
     "metadata": {},
     "output_type": "execute_result"
    }
   ],
   "source": [
    "df.shape"
   ]
  },
  {
   "cell_type": "markdown",
   "id": "9838622f",
   "metadata": {},
   "source": [
    "### Exploring Columns"
   ]
  },
  {
   "cell_type": "code",
   "execution_count": 42,
   "id": "92a32cec",
   "metadata": {
    "scrolled": false
   },
   "outputs": [
    {
     "data": {
      "text/html": [
       "<div>\n",
       "<style scoped>\n",
       "    .dataframe tbody tr th:only-of-type {\n",
       "        vertical-align: middle;\n",
       "    }\n",
       "\n",
       "    .dataframe tbody tr th {\n",
       "        vertical-align: top;\n",
       "    }\n",
       "\n",
       "    .dataframe thead th {\n",
       "        text-align: right;\n",
       "    }\n",
       "</style>\n",
       "<table border=\"1\" class=\"dataframe\">\n",
       "  <thead>\n",
       "    <tr style=\"text-align: right;\">\n",
       "      <th></th>\n",
       "      <th>id</th>\n",
       "      <th>member_id</th>\n",
       "      <th>loan_amnt</th>\n",
       "      <th>funded_amnt</th>\n",
       "      <th>funded_amnt_inv</th>\n",
       "      <th>term</th>\n",
       "      <th>int_rate</th>\n",
       "      <th>installment</th>\n",
       "      <th>grade</th>\n",
       "      <th>sub_grade</th>\n",
       "      <th>emp_length</th>\n",
       "      <th>home_ownership</th>\n",
       "    </tr>\n",
       "  </thead>\n",
       "  <tbody>\n",
       "    <tr>\n",
       "      <th>0</th>\n",
       "      <td>1077501</td>\n",
       "      <td>1296599</td>\n",
       "      <td>5000</td>\n",
       "      <td>5000</td>\n",
       "      <td>4975.0</td>\n",
       "      <td>36 months</td>\n",
       "      <td>10.65</td>\n",
       "      <td>162.87</td>\n",
       "      <td>B</td>\n",
       "      <td>B2</td>\n",
       "      <td>10.0</td>\n",
       "      <td>RENT</td>\n",
       "    </tr>\n",
       "    <tr>\n",
       "      <th>1</th>\n",
       "      <td>1077430</td>\n",
       "      <td>1314167</td>\n",
       "      <td>2500</td>\n",
       "      <td>2500</td>\n",
       "      <td>2500.0</td>\n",
       "      <td>60 months</td>\n",
       "      <td>15.27</td>\n",
       "      <td>59.83</td>\n",
       "      <td>C</td>\n",
       "      <td>C4</td>\n",
       "      <td>0.0</td>\n",
       "      <td>RENT</td>\n",
       "    </tr>\n",
       "    <tr>\n",
       "      <th>2</th>\n",
       "      <td>1077175</td>\n",
       "      <td>1313524</td>\n",
       "      <td>2400</td>\n",
       "      <td>2400</td>\n",
       "      <td>2400.0</td>\n",
       "      <td>36 months</td>\n",
       "      <td>15.96</td>\n",
       "      <td>84.33</td>\n",
       "      <td>C</td>\n",
       "      <td>C5</td>\n",
       "      <td>10.0</td>\n",
       "      <td>RENT</td>\n",
       "    </tr>\n",
       "    <tr>\n",
       "      <th>3</th>\n",
       "      <td>1076863</td>\n",
       "      <td>1277178</td>\n",
       "      <td>10000</td>\n",
       "      <td>10000</td>\n",
       "      <td>10000.0</td>\n",
       "      <td>36 months</td>\n",
       "      <td>13.49</td>\n",
       "      <td>339.31</td>\n",
       "      <td>C</td>\n",
       "      <td>C1</td>\n",
       "      <td>10.0</td>\n",
       "      <td>RENT</td>\n",
       "    </tr>\n",
       "    <tr>\n",
       "      <th>5</th>\n",
       "      <td>1075269</td>\n",
       "      <td>1311441</td>\n",
       "      <td>5000</td>\n",
       "      <td>5000</td>\n",
       "      <td>5000.0</td>\n",
       "      <td>36 months</td>\n",
       "      <td>7.90</td>\n",
       "      <td>156.46</td>\n",
       "      <td>A</td>\n",
       "      <td>A4</td>\n",
       "      <td>3.0</td>\n",
       "      <td>RENT</td>\n",
       "    </tr>\n",
       "    <tr>\n",
       "      <th>6</th>\n",
       "      <td>1069639</td>\n",
       "      <td>1304742</td>\n",
       "      <td>7000</td>\n",
       "      <td>7000</td>\n",
       "      <td>7000.0</td>\n",
       "      <td>60 months</td>\n",
       "      <td>15.96</td>\n",
       "      <td>170.08</td>\n",
       "      <td>C</td>\n",
       "      <td>C5</td>\n",
       "      <td>8.0</td>\n",
       "      <td>RENT</td>\n",
       "    </tr>\n",
       "    <tr>\n",
       "      <th>7</th>\n",
       "      <td>1072053</td>\n",
       "      <td>1288686</td>\n",
       "      <td>3000</td>\n",
       "      <td>3000</td>\n",
       "      <td>3000.0</td>\n",
       "      <td>36 months</td>\n",
       "      <td>18.64</td>\n",
       "      <td>109.43</td>\n",
       "      <td>E</td>\n",
       "      <td>E1</td>\n",
       "      <td>9.0</td>\n",
       "      <td>RENT</td>\n",
       "    </tr>\n",
       "  </tbody>\n",
       "</table>\n",
       "</div>"
      ],
      "text/plain": [
       "        id  member_id  loan_amnt  funded_amnt  funded_amnt_inv        term  \\\n",
       "0  1077501    1296599       5000         5000           4975.0   36 months   \n",
       "1  1077430    1314167       2500         2500           2500.0   60 months   \n",
       "2  1077175    1313524       2400         2400           2400.0   36 months   \n",
       "3  1076863    1277178      10000        10000          10000.0   36 months   \n",
       "5  1075269    1311441       5000         5000           5000.0   36 months   \n",
       "6  1069639    1304742       7000         7000           7000.0   60 months   \n",
       "7  1072053    1288686       3000         3000           3000.0   36 months   \n",
       "\n",
       "   int_rate  installment grade sub_grade  emp_length home_ownership  \n",
       "0     10.65       162.87     B        B2        10.0           RENT  \n",
       "1     15.27        59.83     C        C4         0.0           RENT  \n",
       "2     15.96        84.33     C        C5        10.0           RENT  \n",
       "3     13.49       339.31     C        C1        10.0           RENT  \n",
       "5      7.90       156.46     A        A4         3.0           RENT  \n",
       "6     15.96       170.08     C        C5         8.0           RENT  \n",
       "7     18.64       109.43     E        E1         9.0           RENT  "
      ]
     },
     "execution_count": 42,
     "metadata": {},
     "output_type": "execute_result"
    }
   ],
   "source": [
    "df.iloc[0:7, 0:12]"
   ]
  },
  {
   "cell_type": "code",
   "execution_count": 43,
   "id": "bccb28e5",
   "metadata": {
    "scrolled": true
   },
   "outputs": [
    {
     "data": {
      "text/html": [
       "<div>\n",
       "<style scoped>\n",
       "    .dataframe tbody tr th:only-of-type {\n",
       "        vertical-align: middle;\n",
       "    }\n",
       "\n",
       "    .dataframe tbody tr th {\n",
       "        vertical-align: top;\n",
       "    }\n",
       "\n",
       "    .dataframe thead th {\n",
       "        text-align: right;\n",
       "    }\n",
       "</style>\n",
       "<table border=\"1\" class=\"dataframe\">\n",
       "  <thead>\n",
       "    <tr style=\"text-align: right;\">\n",
       "      <th></th>\n",
       "      <th>annual_inc</th>\n",
       "      <th>verification_status</th>\n",
       "      <th>issue_d</th>\n",
       "      <th>loan_status</th>\n",
       "      <th>purpose</th>\n",
       "      <th>zip_code</th>\n",
       "      <th>addr_state</th>\n",
       "      <th>dti</th>\n",
       "      <th>delinq_2yrs</th>\n",
       "      <th>earliest_cr_line</th>\n",
       "      <th>inq_last_6mths</th>\n",
       "      <th>open_acc</th>\n",
       "    </tr>\n",
       "  </thead>\n",
       "  <tbody>\n",
       "    <tr>\n",
       "      <th>0</th>\n",
       "      <td>24000.0</td>\n",
       "      <td>Verified</td>\n",
       "      <td>Dec-11</td>\n",
       "      <td>Fully Paid</td>\n",
       "      <td>credit_card</td>\n",
       "      <td>860xx</td>\n",
       "      <td>AZ</td>\n",
       "      <td>27.65</td>\n",
       "      <td>0</td>\n",
       "      <td>Jan-85</td>\n",
       "      <td>1</td>\n",
       "      <td>3</td>\n",
       "    </tr>\n",
       "    <tr>\n",
       "      <th>1</th>\n",
       "      <td>30000.0</td>\n",
       "      <td>Source Verified</td>\n",
       "      <td>Dec-11</td>\n",
       "      <td>Charged Off</td>\n",
       "      <td>car</td>\n",
       "      <td>309xx</td>\n",
       "      <td>GA</td>\n",
       "      <td>1.00</td>\n",
       "      <td>0</td>\n",
       "      <td>Apr-99</td>\n",
       "      <td>5</td>\n",
       "      <td>3</td>\n",
       "    </tr>\n",
       "    <tr>\n",
       "      <th>2</th>\n",
       "      <td>12252.0</td>\n",
       "      <td>Not Verified</td>\n",
       "      <td>Dec-11</td>\n",
       "      <td>Fully Paid</td>\n",
       "      <td>small_business</td>\n",
       "      <td>606xx</td>\n",
       "      <td>IL</td>\n",
       "      <td>8.72</td>\n",
       "      <td>0</td>\n",
       "      <td>Nov-01</td>\n",
       "      <td>2</td>\n",
       "      <td>2</td>\n",
       "    </tr>\n",
       "    <tr>\n",
       "      <th>3</th>\n",
       "      <td>49200.0</td>\n",
       "      <td>Source Verified</td>\n",
       "      <td>Dec-11</td>\n",
       "      <td>Fully Paid</td>\n",
       "      <td>other</td>\n",
       "      <td>917xx</td>\n",
       "      <td>CA</td>\n",
       "      <td>20.00</td>\n",
       "      <td>0</td>\n",
       "      <td>Feb-96</td>\n",
       "      <td>1</td>\n",
       "      <td>10</td>\n",
       "    </tr>\n",
       "    <tr>\n",
       "      <th>5</th>\n",
       "      <td>36000.0</td>\n",
       "      <td>Source Verified</td>\n",
       "      <td>Dec-11</td>\n",
       "      <td>Fully Paid</td>\n",
       "      <td>wedding</td>\n",
       "      <td>852xx</td>\n",
       "      <td>AZ</td>\n",
       "      <td>11.20</td>\n",
       "      <td>0</td>\n",
       "      <td>Nov-04</td>\n",
       "      <td>3</td>\n",
       "      <td>9</td>\n",
       "    </tr>\n",
       "    <tr>\n",
       "      <th>6</th>\n",
       "      <td>47004.0</td>\n",
       "      <td>Not Verified</td>\n",
       "      <td>Dec-11</td>\n",
       "      <td>Fully Paid</td>\n",
       "      <td>debt_consolidation</td>\n",
       "      <td>280xx</td>\n",
       "      <td>NC</td>\n",
       "      <td>23.51</td>\n",
       "      <td>0</td>\n",
       "      <td>Jul-05</td>\n",
       "      <td>1</td>\n",
       "      <td>7</td>\n",
       "    </tr>\n",
       "    <tr>\n",
       "      <th>7</th>\n",
       "      <td>48000.0</td>\n",
       "      <td>Source Verified</td>\n",
       "      <td>Dec-11</td>\n",
       "      <td>Fully Paid</td>\n",
       "      <td>car</td>\n",
       "      <td>900xx</td>\n",
       "      <td>CA</td>\n",
       "      <td>5.35</td>\n",
       "      <td>0</td>\n",
       "      <td>Jan-07</td>\n",
       "      <td>2</td>\n",
       "      <td>4</td>\n",
       "    </tr>\n",
       "  </tbody>\n",
       "</table>\n",
       "</div>"
      ],
      "text/plain": [
       "   annual_inc verification_status issue_d  loan_status             purpose  \\\n",
       "0     24000.0            Verified  Dec-11   Fully Paid         credit_card   \n",
       "1     30000.0     Source Verified  Dec-11  Charged Off                 car   \n",
       "2     12252.0        Not Verified  Dec-11   Fully Paid      small_business   \n",
       "3     49200.0     Source Verified  Dec-11   Fully Paid               other   \n",
       "5     36000.0     Source Verified  Dec-11   Fully Paid             wedding   \n",
       "6     47004.0        Not Verified  Dec-11   Fully Paid  debt_consolidation   \n",
       "7     48000.0     Source Verified  Dec-11   Fully Paid                 car   \n",
       "\n",
       "  zip_code addr_state    dti  delinq_2yrs earliest_cr_line  inq_last_6mths  \\\n",
       "0    860xx         AZ  27.65            0           Jan-85               1   \n",
       "1    309xx         GA   1.00            0           Apr-99               5   \n",
       "2    606xx         IL   8.72            0           Nov-01               2   \n",
       "3    917xx         CA  20.00            0           Feb-96               1   \n",
       "5    852xx         AZ  11.20            0           Nov-04               3   \n",
       "6    280xx         NC  23.51            0           Jul-05               1   \n",
       "7    900xx         CA   5.35            0           Jan-07               2   \n",
       "\n",
       "   open_acc  \n",
       "0         3  \n",
       "1         3  \n",
       "2         2  \n",
       "3        10  \n",
       "5         9  \n",
       "6         7  \n",
       "7         4  "
      ]
     },
     "execution_count": 43,
     "metadata": {},
     "output_type": "execute_result"
    }
   ],
   "source": [
    "df.iloc[0:7, 12:24]"
   ]
  },
  {
   "cell_type": "code",
   "execution_count": 44,
   "id": "78fc832a",
   "metadata": {
    "scrolled": true
   },
   "outputs": [
    {
     "data": {
      "text/html": [
       "<div>\n",
       "<style scoped>\n",
       "    .dataframe tbody tr th:only-of-type {\n",
       "        vertical-align: middle;\n",
       "    }\n",
       "\n",
       "    .dataframe tbody tr th {\n",
       "        vertical-align: top;\n",
       "    }\n",
       "\n",
       "    .dataframe thead th {\n",
       "        text-align: right;\n",
       "    }\n",
       "</style>\n",
       "<table border=\"1\" class=\"dataframe\">\n",
       "  <thead>\n",
       "    <tr style=\"text-align: right;\">\n",
       "      <th></th>\n",
       "      <th>pub_rec</th>\n",
       "      <th>revol_bal</th>\n",
       "      <th>revol_util</th>\n",
       "      <th>total_acc</th>\n",
       "      <th>out_prncp</th>\n",
       "      <th>out_prncp_inv</th>\n",
       "      <th>total_pymnt</th>\n",
       "      <th>total_pymnt_inv</th>\n",
       "      <th>total_rec_prncp</th>\n",
       "      <th>total_rec_int</th>\n",
       "      <th>total_rec_late_fee</th>\n",
       "      <th>recoveries</th>\n",
       "    </tr>\n",
       "  </thead>\n",
       "  <tbody>\n",
       "    <tr>\n",
       "      <th>0</th>\n",
       "      <td>0</td>\n",
       "      <td>13648</td>\n",
       "      <td>83.7</td>\n",
       "      <td>9</td>\n",
       "      <td>0.0</td>\n",
       "      <td>0.0</td>\n",
       "      <td>5863.155187</td>\n",
       "      <td>5833.84</td>\n",
       "      <td>5000.00</td>\n",
       "      <td>863.16</td>\n",
       "      <td>0.00</td>\n",
       "      <td>0.00</td>\n",
       "    </tr>\n",
       "    <tr>\n",
       "      <th>1</th>\n",
       "      <td>0</td>\n",
       "      <td>1687</td>\n",
       "      <td>9.4</td>\n",
       "      <td>4</td>\n",
       "      <td>0.0</td>\n",
       "      <td>0.0</td>\n",
       "      <td>1008.710000</td>\n",
       "      <td>1008.71</td>\n",
       "      <td>456.46</td>\n",
       "      <td>435.17</td>\n",
       "      <td>0.00</td>\n",
       "      <td>117.08</td>\n",
       "    </tr>\n",
       "    <tr>\n",
       "      <th>2</th>\n",
       "      <td>0</td>\n",
       "      <td>2956</td>\n",
       "      <td>98.5</td>\n",
       "      <td>10</td>\n",
       "      <td>0.0</td>\n",
       "      <td>0.0</td>\n",
       "      <td>3005.666844</td>\n",
       "      <td>3005.67</td>\n",
       "      <td>2400.00</td>\n",
       "      <td>605.67</td>\n",
       "      <td>0.00</td>\n",
       "      <td>0.00</td>\n",
       "    </tr>\n",
       "    <tr>\n",
       "      <th>3</th>\n",
       "      <td>0</td>\n",
       "      <td>5598</td>\n",
       "      <td>21.0</td>\n",
       "      <td>37</td>\n",
       "      <td>0.0</td>\n",
       "      <td>0.0</td>\n",
       "      <td>12231.890000</td>\n",
       "      <td>12231.89</td>\n",
       "      <td>10000.00</td>\n",
       "      <td>2214.92</td>\n",
       "      <td>16.97</td>\n",
       "      <td>0.00</td>\n",
       "    </tr>\n",
       "    <tr>\n",
       "      <th>5</th>\n",
       "      <td>0</td>\n",
       "      <td>7963</td>\n",
       "      <td>28.3</td>\n",
       "      <td>12</td>\n",
       "      <td>0.0</td>\n",
       "      <td>0.0</td>\n",
       "      <td>5632.210000</td>\n",
       "      <td>5632.21</td>\n",
       "      <td>5000.00</td>\n",
       "      <td>632.21</td>\n",
       "      <td>0.00</td>\n",
       "      <td>0.00</td>\n",
       "    </tr>\n",
       "    <tr>\n",
       "      <th>6</th>\n",
       "      <td>0</td>\n",
       "      <td>17726</td>\n",
       "      <td>85.6</td>\n",
       "      <td>11</td>\n",
       "      <td>0.0</td>\n",
       "      <td>0.0</td>\n",
       "      <td>10110.840000</td>\n",
       "      <td>10110.84</td>\n",
       "      <td>6985.61</td>\n",
       "      <td>3125.23</td>\n",
       "      <td>0.00</td>\n",
       "      <td>0.00</td>\n",
       "    </tr>\n",
       "    <tr>\n",
       "      <th>7</th>\n",
       "      <td>0</td>\n",
       "      <td>8221</td>\n",
       "      <td>87.5</td>\n",
       "      <td>4</td>\n",
       "      <td>0.0</td>\n",
       "      <td>0.0</td>\n",
       "      <td>3939.135294</td>\n",
       "      <td>3939.14</td>\n",
       "      <td>3000.00</td>\n",
       "      <td>939.14</td>\n",
       "      <td>0.00</td>\n",
       "      <td>0.00</td>\n",
       "    </tr>\n",
       "  </tbody>\n",
       "</table>\n",
       "</div>"
      ],
      "text/plain": [
       "   pub_rec  revol_bal  revol_util  total_acc  out_prncp  out_prncp_inv  \\\n",
       "0        0      13648        83.7          9        0.0            0.0   \n",
       "1        0       1687         9.4          4        0.0            0.0   \n",
       "2        0       2956        98.5         10        0.0            0.0   \n",
       "3        0       5598        21.0         37        0.0            0.0   \n",
       "5        0       7963        28.3         12        0.0            0.0   \n",
       "6        0      17726        85.6         11        0.0            0.0   \n",
       "7        0       8221        87.5          4        0.0            0.0   \n",
       "\n",
       "    total_pymnt  total_pymnt_inv  total_rec_prncp  total_rec_int  \\\n",
       "0   5863.155187          5833.84          5000.00         863.16   \n",
       "1   1008.710000          1008.71           456.46         435.17   \n",
       "2   3005.666844          3005.67          2400.00         605.67   \n",
       "3  12231.890000         12231.89         10000.00        2214.92   \n",
       "5   5632.210000          5632.21          5000.00         632.21   \n",
       "6  10110.840000         10110.84          6985.61        3125.23   \n",
       "7   3939.135294          3939.14          3000.00         939.14   \n",
       "\n",
       "   total_rec_late_fee  recoveries  \n",
       "0                0.00        0.00  \n",
       "1                0.00      117.08  \n",
       "2                0.00        0.00  \n",
       "3               16.97        0.00  \n",
       "5                0.00        0.00  \n",
       "6                0.00        0.00  \n",
       "7                0.00        0.00  "
      ]
     },
     "execution_count": 44,
     "metadata": {},
     "output_type": "execute_result"
    }
   ],
   "source": [
    "df.iloc[0:7, 24:36]"
   ]
  },
  {
   "cell_type": "code",
   "execution_count": 45,
   "id": "a415205b",
   "metadata": {},
   "outputs": [
    {
     "data": {
      "text/html": [
       "<div>\n",
       "<style scoped>\n",
       "    .dataframe tbody tr th:only-of-type {\n",
       "        vertical-align: middle;\n",
       "    }\n",
       "\n",
       "    .dataframe tbody tr th {\n",
       "        vertical-align: top;\n",
       "    }\n",
       "\n",
       "    .dataframe thead th {\n",
       "        text-align: right;\n",
       "    }\n",
       "</style>\n",
       "<table border=\"1\" class=\"dataframe\">\n",
       "  <thead>\n",
       "    <tr style=\"text-align: right;\">\n",
       "      <th></th>\n",
       "      <th>collection_recovery_fee</th>\n",
       "      <th>last_pymnt_amnt</th>\n",
       "      <th>pub_rec_bankruptcies</th>\n",
       "      <th>issue_month</th>\n",
       "      <th>issue_year</th>\n",
       "      <th>monthly_savings</th>\n",
       "    </tr>\n",
       "  </thead>\n",
       "  <tbody>\n",
       "    <tr>\n",
       "      <th>0</th>\n",
       "      <td>0.00</td>\n",
       "      <td>171.62</td>\n",
       "      <td>0.0</td>\n",
       "      <td>12</td>\n",
       "      <td>2011</td>\n",
       "      <td>1837.13</td>\n",
       "    </tr>\n",
       "    <tr>\n",
       "      <th>1</th>\n",
       "      <td>1.11</td>\n",
       "      <td>119.66</td>\n",
       "      <td>0.0</td>\n",
       "      <td>12</td>\n",
       "      <td>2011</td>\n",
       "      <td>2440.17</td>\n",
       "    </tr>\n",
       "    <tr>\n",
       "      <th>2</th>\n",
       "      <td>0.00</td>\n",
       "      <td>649.91</td>\n",
       "      <td>0.0</td>\n",
       "      <td>12</td>\n",
       "      <td>2011</td>\n",
       "      <td>936.67</td>\n",
       "    </tr>\n",
       "    <tr>\n",
       "      <th>3</th>\n",
       "      <td>0.00</td>\n",
       "      <td>357.48</td>\n",
       "      <td>0.0</td>\n",
       "      <td>12</td>\n",
       "      <td>2011</td>\n",
       "      <td>3760.69</td>\n",
       "    </tr>\n",
       "    <tr>\n",
       "      <th>5</th>\n",
       "      <td>0.00</td>\n",
       "      <td>161.03</td>\n",
       "      <td>0.0</td>\n",
       "      <td>12</td>\n",
       "      <td>2011</td>\n",
       "      <td>2843.54</td>\n",
       "    </tr>\n",
       "    <tr>\n",
       "      <th>6</th>\n",
       "      <td>0.00</td>\n",
       "      <td>1313.76</td>\n",
       "      <td>0.0</td>\n",
       "      <td>12</td>\n",
       "      <td>2011</td>\n",
       "      <td>3746.92</td>\n",
       "    </tr>\n",
       "    <tr>\n",
       "      <th>7</th>\n",
       "      <td>0.00</td>\n",
       "      <td>111.34</td>\n",
       "      <td>0.0</td>\n",
       "      <td>12</td>\n",
       "      <td>2011</td>\n",
       "      <td>3890.57</td>\n",
       "    </tr>\n",
       "  </tbody>\n",
       "</table>\n",
       "</div>"
      ],
      "text/plain": [
       "   collection_recovery_fee  last_pymnt_amnt  pub_rec_bankruptcies  \\\n",
       "0                     0.00           171.62                   0.0   \n",
       "1                     1.11           119.66                   0.0   \n",
       "2                     0.00           649.91                   0.0   \n",
       "3                     0.00           357.48                   0.0   \n",
       "5                     0.00           161.03                   0.0   \n",
       "6                     0.00          1313.76                   0.0   \n",
       "7                     0.00           111.34                   0.0   \n",
       "\n",
       "   issue_month  issue_year  monthly_savings  \n",
       "0           12        2011          1837.13  \n",
       "1           12        2011          2440.17  \n",
       "2           12        2011           936.67  \n",
       "3           12        2011          3760.69  \n",
       "5           12        2011          2843.54  \n",
       "6           12        2011          3746.92  \n",
       "7           12        2011          3890.57  "
      ]
     },
     "execution_count": 45,
     "metadata": {},
     "output_type": "execute_result"
    }
   ],
   "source": [
    "df.iloc[0:7, 36:48]"
   ]
  },
  {
   "cell_type": "code",
   "execution_count": 46,
   "id": "7abefee4",
   "metadata": {
    "scrolled": false
   },
   "outputs": [
    {
     "data": {
      "text/plain": [
       "10000    2688\n",
       "12000    2148\n",
       "5000     1979\n",
       "6000     1836\n",
       "15000    1713\n",
       "         ... \n",
       "14725       1\n",
       "15025       1\n",
       "19250       1\n",
       "14775       1\n",
       "15650       1\n",
       "Name: loan_amnt, Length: 854, dtype: int64"
      ]
     },
     "execution_count": 46,
     "metadata": {},
     "output_type": "execute_result"
    }
   ],
   "source": [
    "df.loan_amnt.value_counts()"
   ]
  },
  {
   "cell_type": "code",
   "execution_count": 47,
   "id": "27218d49",
   "metadata": {
    "scrolled": true
   },
   "outputs": [
    {
     "data": {
      "text/plain": [
       "count    36654.000000\n",
       "mean     10682.249550\n",
       "std       7048.414166\n",
       "min        500.000000\n",
       "25%       5000.000000\n",
       "50%       9250.000000\n",
       "75%      15000.000000\n",
       "max      35000.000000\n",
       "Name: loan_amnt, dtype: float64"
      ]
     },
     "execution_count": 47,
     "metadata": {},
     "output_type": "execute_result"
    }
   ],
   "source": [
    "df.loan_amnt.describe()"
   ]
  },
  {
   "cell_type": "code",
   "execution_count": 48,
   "id": "7bc18a60",
   "metadata": {},
   "outputs": [
    {
     "data": {
      "text/plain": [
       "<AxesSubplot:xlabel='loan_amnt', ylabel='Count'>"
      ]
     },
     "execution_count": 48,
     "metadata": {},
     "output_type": "execute_result"
    },
    {
     "data": {
      "image/png": "[encoded data removed]",
      "text/plain": [
       "<Figure size 432x288 with 1 Axes>"
      ]
     },
     "metadata": {
      "needs_background": "light"
     },
     "output_type": "display_data"
    }
   ],
   "source": [
    "sns.histplot(df, x=\"loan_amnt\",bins=20, alpha=0.5)"
   ]
  },
  {
   "cell_type": "code",
   "execution_count": 49,
   "id": "5275e0d8",
   "metadata": {},
   "outputs": [
    {
     "data": {
      "text/plain": [
       "<AxesSubplot:xlabel='loan_amnt', ylabel='Count'>"
      ]
     },
     "execution_count": 49,
     "metadata": {},
     "output_type": "execute_result"
    },
    {
     "data": {
      "image/png": "[encoded data removed]",
      "text/plain": [
       "<Figure size 432x288 with 1 Axes>"
      ]
     },
     "metadata": {
      "needs_background": "light"
     },
     "output_type": "display_data"
    }
   ],
   "source": [
    "sns.histplot(df, x=\"loan_amnt\", bins=5, alpha=0.7)"
   ]
  },
  {
   "cell_type": "markdown",
   "id": "9607ff7a",
   "metadata": {},
   "source": [
    "### Exploring relationship between Loan Amount and Delinquency"
   ]
  },
  {
   "cell_type": "code",
   "execution_count": 50,
   "id": "8f3fb70e",
   "metadata": {},
   "outputs": [],
   "source": [
    "#df = df.drop(['binned'], axis=1)\n",
    "#df.iloc[0:7, 36:48]"
   ]
  },
  {
   "cell_type": "code",
   "execution_count": 51,
   "id": "e65a2e98",
   "metadata": {
    "scrolled": true
   },
   "outputs": [
    {
     "data": {
      "text/html": [
       "<div>\n",
       "<style scoped>\n",
       "    .dataframe tbody tr th:only-of-type {\n",
       "        vertical-align: middle;\n",
       "    }\n",
       "\n",
       "    .dataframe tbody tr th {\n",
       "        vertical-align: top;\n",
       "    }\n",
       "\n",
       "    .dataframe thead th {\n",
       "        text-align: right;\n",
       "    }\n",
       "</style>\n",
       "<table border=\"1\" class=\"dataframe\">\n",
       "  <thead>\n",
       "    <tr style=\"text-align: right;\">\n",
       "      <th></th>\n",
       "      <th>collection_recovery_fee</th>\n",
       "      <th>last_pymnt_amnt</th>\n",
       "      <th>pub_rec_bankruptcies</th>\n",
       "      <th>issue_month</th>\n",
       "      <th>issue_year</th>\n",
       "      <th>monthly_savings</th>\n",
       "      <th>loan_amnt_bin</th>\n",
       "    </tr>\n",
       "  </thead>\n",
       "  <tbody>\n",
       "    <tr>\n",
       "      <th>0</th>\n",
       "      <td>0.00</td>\n",
       "      <td>171.62</td>\n",
       "      <td>0.0</td>\n",
       "      <td>12</td>\n",
       "      <td>2011</td>\n",
       "      <td>1837.13</td>\n",
       "      <td>0-5k</td>\n",
       "    </tr>\n",
       "    <tr>\n",
       "      <th>1</th>\n",
       "      <td>1.11</td>\n",
       "      <td>119.66</td>\n",
       "      <td>0.0</td>\n",
       "      <td>12</td>\n",
       "      <td>2011</td>\n",
       "      <td>2440.17</td>\n",
       "      <td>0-5k</td>\n",
       "    </tr>\n",
       "    <tr>\n",
       "      <th>2</th>\n",
       "      <td>0.00</td>\n",
       "      <td>649.91</td>\n",
       "      <td>0.0</td>\n",
       "      <td>12</td>\n",
       "      <td>2011</td>\n",
       "      <td>936.67</td>\n",
       "      <td>0-5k</td>\n",
       "    </tr>\n",
       "    <tr>\n",
       "      <th>3</th>\n",
       "      <td>0.00</td>\n",
       "      <td>357.48</td>\n",
       "      <td>0.0</td>\n",
       "      <td>12</td>\n",
       "      <td>2011</td>\n",
       "      <td>3760.69</td>\n",
       "      <td>5k-10k</td>\n",
       "    </tr>\n",
       "    <tr>\n",
       "      <th>5</th>\n",
       "      <td>0.00</td>\n",
       "      <td>161.03</td>\n",
       "      <td>0.0</td>\n",
       "      <td>12</td>\n",
       "      <td>2011</td>\n",
       "      <td>2843.54</td>\n",
       "      <td>0-5k</td>\n",
       "    </tr>\n",
       "    <tr>\n",
       "      <th>6</th>\n",
       "      <td>0.00</td>\n",
       "      <td>1313.76</td>\n",
       "      <td>0.0</td>\n",
       "      <td>12</td>\n",
       "      <td>2011</td>\n",
       "      <td>3746.92</td>\n",
       "      <td>5k-10k</td>\n",
       "    </tr>\n",
       "    <tr>\n",
       "      <th>7</th>\n",
       "      <td>0.00</td>\n",
       "      <td>111.34</td>\n",
       "      <td>0.0</td>\n",
       "      <td>12</td>\n",
       "      <td>2011</td>\n",
       "      <td>3890.57</td>\n",
       "      <td>0-5k</td>\n",
       "    </tr>\n",
       "  </tbody>\n",
       "</table>\n",
       "</div>"
      ],
      "text/plain": [
       "   collection_recovery_fee  last_pymnt_amnt  pub_rec_bankruptcies  \\\n",
       "0                     0.00           171.62                   0.0   \n",
       "1                     1.11           119.66                   0.0   \n",
       "2                     0.00           649.91                   0.0   \n",
       "3                     0.00           357.48                   0.0   \n",
       "5                     0.00           161.03                   0.0   \n",
       "6                     0.00          1313.76                   0.0   \n",
       "7                     0.00           111.34                   0.0   \n",
       "\n",
       "   issue_month  issue_year  monthly_savings loan_amnt_bin  \n",
       "0           12        2011          1837.13          0-5k  \n",
       "1           12        2011          2440.17          0-5k  \n",
       "2           12        2011           936.67          0-5k  \n",
       "3           12        2011          3760.69        5k-10k  \n",
       "5           12        2011          2843.54          0-5k  \n",
       "6           12        2011          3746.92        5k-10k  \n",
       "7           12        2011          3890.57          0-5k  "
      ]
     },
     "execution_count": 51,
     "metadata": {},
     "output_type": "execute_result"
    }
   ],
   "source": [
    "# binning or bucketing with labels\n",
    "\n",
    "bins = [0, 5000, 10000, 15000, 20000, 25000, 30000, 35000, 40000]\n",
    "labels =['0-5k','5k-10k','10k-15k','15k-20k', '20k-25k', '25k-30k', '30k-35k', '35k-40k']\n",
    "df['loan_amnt_bin'] = pd.cut(df['loan_amnt'], bins,labels=labels)\n",
    "df.iloc[0:7, 36:48]"
   ]
  },
  {
   "cell_type": "code",
   "execution_count": 54,
   "id": "5bfc3259",
   "metadata": {},
   "outputs": [
    {
     "data": {
      "text/html": [
       "<div>\n",
       "<style scoped>\n",
       "    .dataframe tbody tr th:only-of-type {\n",
       "        vertical-align: middle;\n",
       "    }\n",
       "\n",
       "    .dataframe tbody tr th {\n",
       "        vertical-align: top;\n",
       "    }\n",
       "\n",
       "    .dataframe thead th {\n",
       "        text-align: right;\n",
       "    }\n",
       "</style>\n",
       "<table border=\"1\" class=\"dataframe\">\n",
       "  <thead>\n",
       "    <tr style=\"text-align: right;\">\n",
       "      <th></th>\n",
       "      <th>loan_amnt_bin</th>\n",
       "      <th>loan_status</th>\n",
       "      <th>member_id</th>\n",
       "    </tr>\n",
       "  </thead>\n",
       "  <tbody>\n",
       "    <tr>\n",
       "      <th>0</th>\n",
       "      <td>0-5k</td>\n",
       "      <td>Fully Paid</td>\n",
       "      <td>1296599</td>\n",
       "    </tr>\n",
       "    <tr>\n",
       "      <th>1</th>\n",
       "      <td>0-5k</td>\n",
       "      <td>Charged Off</td>\n",
       "      <td>1314167</td>\n",
       "    </tr>\n",
       "    <tr>\n",
       "      <th>2</th>\n",
       "      <td>0-5k</td>\n",
       "      <td>Fully Paid</td>\n",
       "      <td>1313524</td>\n",
       "    </tr>\n",
       "    <tr>\n",
       "      <th>3</th>\n",
       "      <td>5k-10k</td>\n",
       "      <td>Fully Paid</td>\n",
       "      <td>1277178</td>\n",
       "    </tr>\n",
       "    <tr>\n",
       "      <th>5</th>\n",
       "      <td>0-5k</td>\n",
       "      <td>Fully Paid</td>\n",
       "      <td>1311441</td>\n",
       "    </tr>\n",
       "  </tbody>\n",
       "</table>\n",
       "</div>"
      ],
      "text/plain": [
       "  loan_amnt_bin  loan_status  member_id\n",
       "0          0-5k   Fully Paid    1296599\n",
       "1          0-5k  Charged Off    1314167\n",
       "2          0-5k   Fully Paid    1313524\n",
       "3        5k-10k   Fully Paid    1277178\n",
       "5          0-5k   Fully Paid    1311441"
      ]
     },
     "execution_count": 54,
     "metadata": {},
     "output_type": "execute_result"
    }
   ],
   "source": [
    "df1 = df[['loan_amnt_bin','loan_status' ,'member_id']]\n",
    "df1.head()"
   ]
  },
  {
   "cell_type": "code",
   "execution_count": 55,
   "id": "d233c243",
   "metadata": {},
   "outputs": [
    {
     "data": {
      "text/html": [
       "<div>\n",
       "<style scoped>\n",
       "    .dataframe tbody tr th:only-of-type {\n",
       "        vertical-align: middle;\n",
       "    }\n",
       "\n",
       "    .dataframe tbody tr th {\n",
       "        vertical-align: top;\n",
       "    }\n",
       "\n",
       "    .dataframe thead th {\n",
       "        text-align: right;\n",
       "    }\n",
       "</style>\n",
       "<table border=\"1\" class=\"dataframe\">\n",
       "  <thead>\n",
       "    <tr style=\"text-align: right;\">\n",
       "      <th></th>\n",
       "      <th>member_id</th>\n",
       "    </tr>\n",
       "    <tr>\n",
       "      <th>loan_amnt_bin</th>\n",
       "      <th></th>\n",
       "    </tr>\n",
       "  </thead>\n",
       "  <tbody>\n",
       "    <tr>\n",
       "      <th>0-5k</th>\n",
       "      <td>9320</td>\n",
       "    </tr>\n",
       "    <tr>\n",
       "      <th>5k-10k</th>\n",
       "      <td>12424</td>\n",
       "    </tr>\n",
       "    <tr>\n",
       "      <th>10k-15k</th>\n",
       "      <td>7327</td>\n",
       "    </tr>\n",
       "    <tr>\n",
       "      <th>15k-20k</th>\n",
       "      <td>4053</td>\n",
       "    </tr>\n",
       "    <tr>\n",
       "      <th>20k-25k</th>\n",
       "      <td>2413</td>\n",
       "    </tr>\n",
       "  </tbody>\n",
       "</table>\n",
       "</div>"
      ],
      "text/plain": [
       "               member_id\n",
       "loan_amnt_bin           \n",
       "0-5k                9320\n",
       "5k-10k             12424\n",
       "10k-15k             7327\n",
       "15k-20k             4053\n",
       "20k-25k             2413"
      ]
     },
     "execution_count": 55,
     "metadata": {},
     "output_type": "execute_result"
    }
   ],
   "source": [
    "df1_pivot = pd.pivot_table(df1, index='loan_amnt_bin', values = 'member_id',  aggfunc='count')\n",
    "df1_pivot.head()"
   ]
  },
  {
   "cell_type": "code",
   "execution_count": 56,
   "id": "a1253c71",
   "metadata": {},
   "outputs": [
    {
     "data": {
      "text/html": [
       "<div>\n",
       "<style scoped>\n",
       "    .dataframe tbody tr th:only-of-type {\n",
       "        vertical-align: middle;\n",
       "    }\n",
       "\n",
       "    .dataframe tbody tr th {\n",
       "        vertical-align: top;\n",
       "    }\n",
       "\n",
       "    .dataframe thead th {\n",
       "        text-align: right;\n",
       "    }\n",
       "</style>\n",
       "<table border=\"1\" class=\"dataframe\">\n",
       "  <thead>\n",
       "    <tr style=\"text-align: right;\">\n",
       "      <th>loan_status</th>\n",
       "      <th>Charged Off</th>\n",
       "      <th>Fully Paid</th>\n",
       "    </tr>\n",
       "    <tr>\n",
       "      <th>loan_amnt_bin</th>\n",
       "      <th></th>\n",
       "      <th></th>\n",
       "    </tr>\n",
       "  </thead>\n",
       "  <tbody>\n",
       "    <tr>\n",
       "      <th>0-5k</th>\n",
       "      <td>1299</td>\n",
       "      <td>8021</td>\n",
       "    </tr>\n",
       "    <tr>\n",
       "      <th>5k-10k</th>\n",
       "      <td>1607</td>\n",
       "      <td>10817</td>\n",
       "    </tr>\n",
       "    <tr>\n",
       "      <th>10k-15k</th>\n",
       "      <td>1027</td>\n",
       "      <td>6300</td>\n",
       "    </tr>\n",
       "    <tr>\n",
       "      <th>15k-20k</th>\n",
       "      <td>723</td>\n",
       "      <td>3330</td>\n",
       "    </tr>\n",
       "    <tr>\n",
       "      <th>20k-25k</th>\n",
       "      <td>485</td>\n",
       "      <td>1928</td>\n",
       "    </tr>\n",
       "  </tbody>\n",
       "</table>\n",
       "</div>"
      ],
      "text/plain": [
       "loan_status    Charged Off  Fully Paid\n",
       "loan_amnt_bin                         \n",
       "0-5k                  1299        8021\n",
       "5k-10k                1607       10817\n",
       "10k-15k               1027        6300\n",
       "15k-20k                723        3330\n",
       "20k-25k                485        1928"
      ]
     },
     "execution_count": 56,
     "metadata": {},
     "output_type": "execute_result"
    }
   ],
   "source": [
    "\n",
    "\n",
    "df2_pivot = pd.pivot_table(df1, index='loan_amnt_bin', columns = 'loan_status', values = 'member_id',  aggfunc='count')\n",
    "df2_pivot.head()"
   ]
  },
  {
   "cell_type": "code",
   "execution_count": 57,
   "id": "057ef834",
   "metadata": {
    "scrolled": true
   },
   "outputs": [
    {
     "data": {
      "text/html": [
       "<div>\n",
       "<style scoped>\n",
       "    .dataframe tbody tr th:only-of-type {\n",
       "        vertical-align: middle;\n",
       "    }\n",
       "\n",
       "    .dataframe tbody tr th {\n",
       "        vertical-align: top;\n",
       "    }\n",
       "\n",
       "    .dataframe thead th {\n",
       "        text-align: right;\n",
       "    }\n",
       "</style>\n",
       "<table border=\"1\" class=\"dataframe\">\n",
       "  <thead>\n",
       "    <tr style=\"text-align: right;\">\n",
       "      <th>loan_status</th>\n",
       "      <th>Charged Off</th>\n",
       "      <th>Fully Paid</th>\n",
       "      <th>Ch_O_%</th>\n",
       "    </tr>\n",
       "    <tr>\n",
       "      <th>loan_amnt_bin</th>\n",
       "      <th></th>\n",
       "      <th></th>\n",
       "      <th></th>\n",
       "    </tr>\n",
       "  </thead>\n",
       "  <tbody>\n",
       "    <tr>\n",
       "      <th>0-5k</th>\n",
       "      <td>1299</td>\n",
       "      <td>8021</td>\n",
       "      <td>13.94</td>\n",
       "    </tr>\n",
       "    <tr>\n",
       "      <th>5k-10k</th>\n",
       "      <td>1607</td>\n",
       "      <td>10817</td>\n",
       "      <td>12.93</td>\n",
       "    </tr>\n",
       "    <tr>\n",
       "      <th>10k-15k</th>\n",
       "      <td>1027</td>\n",
       "      <td>6300</td>\n",
       "      <td>14.02</td>\n",
       "    </tr>\n",
       "    <tr>\n",
       "      <th>15k-20k</th>\n",
       "      <td>723</td>\n",
       "      <td>3330</td>\n",
       "      <td>17.84</td>\n",
       "    </tr>\n",
       "    <tr>\n",
       "      <th>20k-25k</th>\n",
       "      <td>485</td>\n",
       "      <td>1928</td>\n",
       "      <td>20.10</td>\n",
       "    </tr>\n",
       "  </tbody>\n",
       "</table>\n",
       "</div>"
      ],
      "text/plain": [
       "loan_status    Charged Off  Fully Paid  Ch_O_%\n",
       "loan_amnt_bin                                 \n",
       "0-5k                  1299        8021   13.94\n",
       "5k-10k                1607       10817   12.93\n",
       "10k-15k               1027        6300   14.02\n",
       "15k-20k                723        3330   17.84\n",
       "20k-25k                485        1928   20.10"
      ]
     },
     "execution_count": 57,
     "metadata": {},
     "output_type": "execute_result"
    }
   ],
   "source": [
    "df2_pivot['Ch_O_%'] = round((df2_pivot['Charged Off']/(df2_pivot['Fully Paid']+df2_pivot['Charged Off'])*100),2)\n",
    "df2_pivot.head()"
   ]
  },
  {
   "cell_type": "code",
   "execution_count": 58,
   "id": "50472306",
   "metadata": {},
   "outputs": [
    {
     "data": {
      "text/plain": [
       "<AxesSubplot:xlabel='loan_amnt_bin'>"
      ]
     },
     "execution_count": 58,
     "metadata": {},
     "output_type": "execute_result"
    },
    {
     "data": {
      "image/png": "[encoded data removed]",
      "text/plain": [
       "<Figure size 432x288 with 1 Axes>"
      ]
     },
     "metadata": {
      "needs_background": "light"
     },
     "output_type": "display_data"
    }
   ],
   "source": [
    "df2_pivot['FP_%'] = round((df2_pivot['Fully Paid']/(df2_pivot['Fully Paid']+df2_pivot['Charged Off'])*100),2)\n",
    "df2_pivot.head()\n",
    "df1_pivot.plot(kind='bar')"
   ]
  },
  {
   "cell_type": "code",
   "execution_count": 59,
   "id": "b6ef9121",
   "metadata": {
    "scrolled": true
   },
   "outputs": [
    {
     "data": {
      "text/plain": [
       "<AxesSubplot:xlabel='loan_amnt_bin'>"
      ]
     },
     "execution_count": 59,
     "metadata": {},
     "output_type": "execute_result"
    },
    {
     "data": {
      "image/png": "[encoded data removed]",
      "text/plain": [
       "<Figure size 432x288 with 1 Axes>"
      ]
     },
     "metadata": {
      "needs_background": "light"
     },
     "output_type": "display_data"
    }
   ],
   "source": [
    "df2_pivot[['Ch_O_%', 'FP_%']].plot.bar(stacked = True)"
   ]
  },
  {
   "cell_type": "markdown",
   "id": "c4637e69",
   "metadata": {},
   "source": [
    "### Interim Takeaway: There's an increasing trend of delinquency with increasing loan amount\n",
    "#### Parking this analysis here for now"
   ]
  },
  {
   "cell_type": "markdown",
   "id": "ec2acd75",
   "metadata": {},
   "source": [
    "### ---   ---   ---"
   ]
  },
  {
   "cell_type": "code",
   "execution_count": 60,
   "id": "00a9f27a",
   "metadata": {
    "scrolled": false
   },
   "outputs": [
    {
     "data": {
      "text/plain": [
       "<AxesSubplot:>"
      ]
     },
     "execution_count": 60,
     "metadata": {},
     "output_type": "execute_result"
    },
    {
     "data": {
      "image/png": "[encoded data removed]",
      "text/plain": [
       "<Figure size 432x288 with 1 Axes>"
      ]
     },
     "metadata": {
      "needs_background": "light"
     },
     "output_type": "display_data"
    }
   ],
   "source": [
    "df.corr().dti[df.corr().dti < 0.9].plot(kind='bar')"
   ]
  },
  {
   "cell_type": "code",
   "execution_count": 137,
   "id": "c169dfd6",
   "metadata": {
    "scrolled": true
   },
   "outputs": [
    {
     "data": {
      "image/png": "[encoded data removed]",
      "text/plain": [
       "<Figure size 1080x360 with 2 Axes>"
      ]
     },
     "metadata": {
      "needs_background": "light"
     },
     "output_type": "display_data"
    }
   ],
   "source": [
    "fig, axs = plt.subplots(1, 2, figsize=(15,5))\n",
    "sns.histplot(x='dti', data=df[df.loan_status == 'Fully Paid'], stat='probability', y='annual_inc', bins=10, ax=axs[0], color='green')\n",
    "sns.histplot(x='dti', data=df[df.loan_status == 'Charged Off'], stat='probability', y='annual_inc', bins=10, ax=axs[1], color='red')\n",
    "plt.show()"
   ]
  },
  {
   "cell_type": "code",
   "execution_count": null,
   "id": "2c191f57",
   "metadata": {},
   "outputs": [],
   "source": [
    "fig, axs = plt.subplots(1, 2, figsize=(15,5))\n",
    "sns.histplot(x='home_ownership', data=df[df.loan_status == 'Fully Paid'], stat='probability', y='annual_inc', bins=10, ax=axs[0], color='green')\n",
    "sns.histplot(x='home_ownership', data=df[df.loan_status == 'Charged Off'], stat='probability', y='annual_inc', bins=10, ax=axs[1], color='red')\n",
    "plt.show()"
   ]
  },
  {
   "cell_type": "markdown",
   "id": "de4c1a70",
   "metadata": {},
   "source": [
    "### Exploring Relationship with loan amount and duration for loan amounts <=5000"
   ]
  },
  {
   "cell_type": "code",
   "execution_count": null,
   "id": "f7aa387f",
   "metadata": {},
   "outputs": [],
   "source": [
    "df.iloc[0:7, 0:12]"
   ]
  },
  {
   "cell_type": "code",
   "execution_count": null,
   "id": "7462d0eb",
   "metadata": {},
   "outputs": [],
   "source": [
    "df_5k = df.loc[df['loan_amnt'] <= 5000]\n",
    "df_5k.iloc[0:7, 12:12]"
   ]
  },
  {
   "cell_type": "code",
   "execution_count": null,
   "id": "f1d9802f",
   "metadata": {},
   "outputs": [],
   "source": [
    "df_5k.iloc[0:7, 36:48]"
   ]
  },
  {
   "cell_type": "code",
   "execution_count": null,
   "id": "f1023841",
   "metadata": {},
   "outputs": [],
   "source": [
    "df5k_1 = df_5k[['term','loan_status' ,'member_id']]\n",
    "df5k_1.head()"
   ]
  },
  {
   "cell_type": "code",
   "execution_count": null,
   "id": "d0372921",
   "metadata": {},
   "outputs": [],
   "source": [
    "#df5k1_pivot = pd.pivot_table(df5k_1, index='term', values = 'member_id',  aggfunc='count')\n",
    "df5k1_pivot.head()"
   ]
  },
  {
   "cell_type": "code",
   "execution_count": null,
   "id": "3d311a27",
   "metadata": {},
   "outputs": [],
   "source": [
    "df5k2_pivot = pd.pivot_table(df5k_1, index='term', columns = 'loan_status', values = 'member_id',  aggfunc='count')\n",
    "df5k2_pivot.head()"
   ]
  },
  {
   "cell_type": "code",
   "execution_count": null,
   "id": "0555a376",
   "metadata": {},
   "outputs": [],
   "source": [
    "df5k2_pivot['Ch_O_%'] = round((df5k2_pivot['Charged Off']/(df5k2_pivot['Fully Paid']+df5k2_pivot['Charged Off'])*100),2)\n",
    "df5k2_pivot['FP_%'] = round((df5k2_pivot['Fully Paid']/(df5k2_pivot['Fully Paid']+df5k2_pivot['Charged Off'])*100),2)\n",
    "df5k2_pivot.head()"
   ]
  },
  {
   "cell_type": "code",
   "execution_count": null,
   "id": "37f8f43d",
   "metadata": {},
   "outputs": [],
   "source": [
    "df5k2_pivot[['Ch_O_%', 'FP_%']].plot.bar(stacked = True)"
   ]
  },
  {
   "cell_type": "code",
   "execution_count": null,
   "id": "f7fef485",
   "metadata": {
    "scrolled": true
   },
   "outputs": [],
   "source": [
    "df_10k = df.loc[df['loan_amnt_bin'] == '5k-10k']\n",
    "df10k_1 = df_10k[['term','loan_status' ,'member_id']]\n",
    "#df10k_1.head()\n",
    "df_10k.iloc[0:7, 0:12]"
   ]
  },
  {
   "cell_type": "code",
   "execution_count": null,
   "id": "d617ec67",
   "metadata": {},
   "outputs": [],
   "source": []
  },
  {
   "cell_type": "code",
   "execution_count": null,
   "id": "9e076319",
   "metadata": {},
   "outputs": [],
   "source": [
    "df10k2_pivot = pd.pivot_table(df10k_1, index='term', columns = 'loan_status', values = 'member_id',  aggfunc='count')\n",
    "#df10k2_pivot.head()\n",
    "\n",
    "df10k2_pivot['Ch_O_%'] = round((df10k2_pivot['Charged Off']/( df10k2_pivot['Fully Paid']+ df10k2_pivot['Charged Off'])*100),2)\n",
    "df10k2_pivot['FP_%'] = round((df10k2_pivot['Fully Paid']/( df10k2_pivot['Fully Paid']+ df10k2_pivot['Charged Off'])*100),2)\n",
    "df10k2_pivot.head()\n",
    "\n"
   ]
  },
  {
   "cell_type": "code",
   "execution_count": null,
   "id": "e365f431",
   "metadata": {},
   "outputs": [],
   "source": [
    "df10k2_pivot[['Ch_O_%', 'FP_%']].plot.bar(stacked = True)"
   ]
  },
  {
   "cell_type": "code",
   "execution_count": null,
   "id": "61df7374",
   "metadata": {},
   "outputs": [],
   "source": [
    "df_15k = df.loc[df['loan_amnt_bin'] == '10k-15k']\n",
    "df15k_1 = df_15k[['term','loan_status' ,'member_id']]\n",
    "#df15k_1.head()\n",
    "df_15k.iloc[0:7, 0:12]\n"
   ]
  },
  {
   "cell_type": "code",
   "execution_count": null,
   "id": "7bde0688",
   "metadata": {},
   "outputs": [],
   "source": [
    "df15k2_pivot = pd.pivot_table(df15k_1, index='term', columns = 'loan_status', values = 'member_id',  aggfunc='count')\n",
    "#df15k2_pivot.head()\n"
   ]
  },
  {
   "cell_type": "code",
   "execution_count": null,
   "id": "902edc2c",
   "metadata": {},
   "outputs": [],
   "source": [
    "df15k2_pivot['Ch_O_%'] = round((df15k2_pivot['Charged Off']/( df15k2_pivot['Fully Paid']+ df15k2_pivot['Charged Off'])*100),2)\n",
    "df15k2_pivot['FP_%'] = round((df15k2_pivot['Fully Paid']/( df15k2_pivot['Fully Paid']+ df15k2_pivot['Charged Off'])*100),2)\n",
    "df15k2_pivot.head()\n"
   ]
  },
  {
   "cell_type": "code",
   "execution_count": null,
   "id": "d42a6bb3",
   "metadata": {},
   "outputs": [],
   "source": [
    "df15k2_pivot[['Ch_O_%', 'FP_%']].plot.bar(stacked = True)"
   ]
  },
  {
   "cell_type": "code",
   "execution_count": null,
   "id": "e12ecf79",
   "metadata": {},
   "outputs": [],
   "source": [
    "df_20k = df.loc[df['loan_amnt_bin'] == '15k-20k']\n",
    "df20k_1 = df_20k[['term','loan_status' ,'member_id']]\n",
    "#df20k_1.head()\n",
    "df_20k.iloc[0:7, 0:12]\n"
   ]
  },
  {
   "cell_type": "code",
   "execution_count": null,
   "id": "130ee6cf",
   "metadata": {},
   "outputs": [],
   "source": [
    "df20k2_pivot = pd.pivot_table(df20k_1, index='term', columns = 'loan_status', values = 'member_id',  aggfunc='count')\n",
    "df20k2_pivot.head()\n"
   ]
  },
  {
   "cell_type": "code",
   "execution_count": null,
   "id": "8cf562be",
   "metadata": {},
   "outputs": [],
   "source": [
    "df20k2_pivot['Ch_O_%'] = round((df20k2_pivot['Charged Off']/( df20k2_pivot['Fully Paid']+ df20k2_pivot['Charged Off'])*100),2)\n",
    "df20k2_pivot['FP_%'] = round((df20k2_pivot['Fully Paid']/( df20k2_pivot['Fully Paid']+ df20k2_pivot['Charged Off'])*100),2)\n",
    "df20k2_pivot.head()\n"
   ]
  },
  {
   "cell_type": "code",
   "execution_count": null,
   "id": "2358de11",
   "metadata": {
    "scrolled": true
   },
   "outputs": [],
   "source": [
    "df20k2_pivot[['Ch_O_%', 'FP_%']].plot.bar(stacked = True)"
   ]
  },
  {
   "cell_type": "markdown",
   "id": "7d27c33a",
   "metadata": {},
   "source": []
  },
  {
   "cell_type": "code",
   "execution_count": null,
   "id": "eff3ed68",
   "metadata": {},
   "outputs": [],
   "source": [
    "df_term1 = df[['term','loan_status' ,'member_id']]\n",
    "#df20k_1.head()\n",
    "df_term1.iloc[0:7, 0:12]\n"
   ]
  },
  {
   "cell_type": "code",
   "execution_count": null,
   "id": "dc9a757d",
   "metadata": {},
   "outputs": [],
   "source": [
    "df_term1_pivot = pd.pivot_table(df_term1, index='term', columns = 'loan_status', values = 'member_id',  aggfunc='count')\n",
    "df_term1_pivot.head()\n"
   ]
  },
  {
   "cell_type": "code",
   "execution_count": null,
   "id": "405e2c9a",
   "metadata": {},
   "outputs": [],
   "source": [
    "df_term1_pivot['Ch_O_%'] = round((df_term1_pivot['Charged Off']/( df_term1_pivot['Fully Paid']+ df_term1_pivot['Charged Off'])*100),2)\n",
    "df_term1_pivot['FP_%'] = round((df_term1_pivot['Fully Paid']/( df_term1_pivot['Fully Paid']+ df_term1_pivot['Charged Off'])*100),2)\n",
    "df_term1_pivot.head()\n"
   ]
  },
  {
   "cell_type": "code",
   "execution_count": null,
   "id": "4630866c",
   "metadata": {},
   "outputs": [],
   "source": [
    "df_term1_pivot[['Ch_O_%', 'FP_%']].plot.bar(stacked = True)"
   ]
  },
  {
   "cell_type": "markdown",
   "id": "6dca5e51",
   "metadata": {},
   "source": [
    "### 1). ~14% increased chance of delinquency if the term is 60 months compared to 36 months\n",
    "### 2). Individual Bins analyses also reveal similar picture - higher percentage of delinquency in 60 months term category compared to 36 months"
   ]
  },
  {
   "cell_type": "code",
   "execution_count": null,
   "id": "7073f7a3",
   "metadata": {},
   "outputs": [],
   "source": []
  },
  {
   "cell_type": "markdown",
   "id": "ed8950b6",
   "metadata": {},
   "source": [
    "## Univariate analysis"
   ]
  },
  {
   "cell_type": "markdown",
   "id": "bbe089e0",
   "metadata": {},
   "source": [
    "#### purpose"
   ]
  },
  {
   "cell_type": "code",
   "execution_count": null,
   "id": "315dacdc",
   "metadata": {},
   "outputs": [],
   "source": [
    "sns.displot(df[df.loan_status == 'Charged Off'], x=\"purpose\")\n",
    "plt.xticks(rotation=90)\n",
    "plt.show()"
   ]
  },
  {
   "cell_type": "markdown",
   "id": "23b8b8b1",
   "metadata": {},
   "source": [
    "<span style= 'background:yellow'>Based on above chart, people who take loan for debt_consolidation are the ones to be defaulters</span>"
   ]
  },
  {
   "cell_type": "markdown",
   "id": "2c033f54",
   "metadata": {},
   "source": [
    "#### issue_year"
   ]
  },
  {
   "cell_type": "code",
   "execution_count": null,
   "id": "792bee8e",
   "metadata": {},
   "outputs": [],
   "source": [
    "df[df.loan_status == 'Charged Off'].issue_year.value_counts().sort_index().plot.bar()"
   ]
  },
  {
   "cell_type": "markdown",
   "id": "eaf03d24",
   "metadata": {},
   "source": [
    "<span style= 'background:yellow'>Based on above chart, most of the defaulters are from year 2011. Maybe because of recession.</span>"
   ]
  },
  {
   "cell_type": "markdown",
   "id": "fe230d1e",
   "metadata": {},
   "source": [
    "#### loan_amnt"
   ]
  },
  {
   "cell_type": "code",
   "execution_count": null,
   "id": "c539e9e7",
   "metadata": {
    "scrolled": true
   },
   "outputs": [],
   "source": [
    "sns.histplot(df, x=\"loan_amnt\", bins=5, alpha=0.7)"
   ]
  },
  {
   "cell_type": "markdown",
   "id": "83074c2d",
   "metadata": {},
   "source": [
    "<span style= 'background:yellow'>People are mostly applying for lower loan amounts.</span>"
   ]
  },
  {
   "cell_type": "markdown",
   "id": "80456332",
   "metadata": {},
   "source": [
    "#### home_ownership"
   ]
  },
  {
   "cell_type": "code",
   "execution_count": null,
   "id": "c9495084",
   "metadata": {},
   "outputs": [],
   "source": []
  },
  {
   "cell_type": "markdown",
   "id": "b71430e4",
   "metadata": {},
   "source": [
    "## Bivariate analysis "
   ]
  },
  {
   "cell_type": "code",
   "execution_count": null,
   "id": "7804a036",
   "metadata": {},
   "outputs": [],
   "source": [
    "fig, ax = plt.subplots(1,1)\n",
    "sns.histplot(df[df.loan_status == 'Charged Off'], x=\"int_rate\", bins=5, stat='probability', ax=ax, label=\"Charged Off\", color='red', alpha=0.4)\n",
    "sns.histplot(df[df.loan_status == 'Fully Paid'], x=\"int_rate\", bins=5, stat='probability', ax=ax, label=\"Fully Paid\", color='green', alpha=0.4)\n",
    "ax.legend()\n",
    "plt.show()"
   ]
  },
  {
   "cell_type": "markdown",
   "id": "6df3817d",
   "metadata": {},
   "source": [
    "<ul>\n",
    "    <li><span style= 'background:yellow'>From above graph it is clear that loans with interest rate between 12.5 - 20 have high probability of getting charged off\n",
    "    <li><span style= 'background:yellow'>Also it can be seen that as interest rate increases probability of loan getting defaulted increases</ul>\n"
   ]
  },
  {
   "cell_type": "code",
   "execution_count": null,
   "id": "04fea362",
   "metadata": {},
   "outputs": [],
   "source": [
    "fig, axs = plt.subplots(1, 4, figsize=(15, 7))\n",
    "\n",
    "sns.histplot(data=df[(df.loan_status == 'Charged Off') & (df.home_ownership == 'RENT') ], x=\"home_ownership\", y=\"monthly_savings\", kde=True, color=\"skyblue\", ax=axs[0])\n",
    "sns.histplot(data=df[(df.loan_status == 'Charged Off') & (df.home_ownership == 'MORTGAGE')], x=\"home_ownership\", y=\"monthly_savings\", kde=True, color=\"olive\", ax=axs[1])\n",
    "sns.histplot(data=df[(df.loan_status == 'Charged Off') & (df.home_ownership == 'OWN')], x=\"home_ownership\", y=\"monthly_savings\", kde=True, color=\"gold\", ax=axs[2])\n",
    "sns.histplot(data=df[(df.loan_status == 'Charged Off') & (df.home_ownership == 'OTHER')], x=\"home_ownership\", y=\"monthly_savings\", kde=True, color=\"teal\", ax=axs[3])\n",
    "\n",
    "plt.show()"
   ]
  },
  {
   "cell_type": "markdown",
   "id": "7202acaf",
   "metadata": {},
   "source": [
    "<span style= 'background:yellow'>People with rented or mortgaged house with saving between 3000 - 4500 are highly likely to be defaulters "
   ]
  },
  {
   "cell_type": "code",
   "execution_count": null,
   "id": "ac2739fd",
   "metadata": {
    "scrolled": true
   },
   "outputs": [],
   "source": [
    "df.iloc[0:7, 0:12]"
   ]
  },
  {
   "cell_type": "code",
   "execution_count": null,
   "id": "1c2d2d49",
   "metadata": {},
   "outputs": [],
   "source": [
    "df.iloc[0:7, 12:24]"
   ]
  },
  {
   "cell_type": "code",
   "execution_count": null,
   "id": "1a104865",
   "metadata": {},
   "outputs": [],
   "source": [
    "df.iloc[0:7, 24:36]"
   ]
  },
  {
   "cell_type": "code",
   "execution_count": null,
   "id": "e9b2f080",
   "metadata": {},
   "outputs": [],
   "source": [
    "df.iloc[0:7, 36:48]"
   ]
  },
  {
   "cell_type": "markdown",
   "id": "300e00cb",
   "metadata": {},
   "source": [
    "### Exploring correlation between Loan Amnt and Int. Rate"
   ]
  },
  {
   "cell_type": "code",
   "execution_count": null,
   "id": "19516db8",
   "metadata": {},
   "outputs": [],
   "source": [
    "df_amnt_vs_int = df[['loan_amnt', 'int_rate']]\n",
    "df_amnt_vs_int.head()"
   ]
  },
  {
   "cell_type": "code",
   "execution_count": null,
   "id": "3f964af0",
   "metadata": {},
   "outputs": [],
   "source": [
    "df_amnt_vs_int.plot.scatter(x = 'loan_amnt', y = 'int_rate', figsize=(10, 10))"
   ]
  },
  {
   "cell_type": "code",
   "execution_count": null,
   "id": "194f32aa",
   "metadata": {},
   "outputs": [],
   "source": [
    "df_amnt_vs_int.corr(method ='pearson')"
   ]
  },
  {
   "cell_type": "markdown",
   "id": "99d3c2ee",
   "metadata": {},
   "source": [
    "#### Correlation is 0.3% between Loan Amount and Int. Rate. Can be omitted from further analysis. "
   ]
  },
  {
   "cell_type": "code",
   "execution_count": null,
   "id": "5016de34",
   "metadata": {},
   "outputs": [],
   "source": [
    "df.emp_length.describe()"
   ]
  },
  {
   "cell_type": "code",
   "execution_count": null,
   "id": "30824ff5",
   "metadata": {},
   "outputs": [],
   "source": [
    "\n",
    "df_home = df[['home_ownership','loan_status' ,'member_id']]\n",
    "\n",
    "df_home.iloc[0:7, 0:12]\n"
   ]
  },
  {
   "cell_type": "code",
   "execution_count": null,
   "id": "ed29e172",
   "metadata": {},
   "outputs": [],
   "source": [
    "df_home_pivot = pd.pivot_table(df_home, index='home_ownership', columns = 'loan_status', values = 'member_id',  aggfunc='count')\n",
    "df_home_pivot.head()\n"
   ]
  },
  {
   "cell_type": "code",
   "execution_count": null,
   "id": "60d34771",
   "metadata": {},
   "outputs": [],
   "source": [
    "df_home_pivot['Ch_O_%'] = round((df_home_pivot['Charged Off']/( df_home_pivot['Fully Paid']+ df_home_pivot['Charged Off'])*100),2)\n",
    "df_home_pivot['FP_%'] = round((df_home_pivot['Fully Paid']/( df_home_pivot['Fully Paid']+ df_home_pivot['Charged Off'])*100),2)\n",
    "df_home_pivot.head()"
   ]
  },
  {
   "cell_type": "code",
   "execution_count": null,
   "id": "36185222",
   "metadata": {},
   "outputs": [],
   "source": [
    "df_home_pivot[['Ch_O_%', 'FP_%']].plot.bar(stacked = True)"
   ]
  },
  {
   "cell_type": "code",
   "execution_count": null,
   "id": "0eefd073",
   "metadata": {},
   "outputs": [],
   "source": [
    "df_home_pivot.sort_values(by=['Ch_O_%'], ascending = False)"
   ]
  },
  {
   "cell_type": "markdown",
   "id": "77cb4c73",
   "metadata": {},
   "source": [
    "#### Delinquency is higher in 'OTHER' home category, but since the count is small compared to other categories, this cannot be taken as a directive input. Among other three categories MORTGAGE has lower chance of delinquency compared to RENT and OWN"
   ]
  },
  {
   "cell_type": "code",
   "execution_count": null,
   "id": "dd7474f1",
   "metadata": {},
   "outputs": [],
   "source": [
    "df.annual_inc.describe()"
   ]
  },
  {
   "cell_type": "code",
   "execution_count": null,
   "id": "a80dfdce",
   "metadata": {},
   "outputs": [],
   "source": [
    "sns.histplot(df, x=\"annual_inc\",bins=20, alpha=0.5)"
   ]
  },
  {
   "cell_type": "code",
   "execution_count": null,
   "id": "7ce2b588",
   "metadata": {},
   "outputs": [],
   "source": [
    "df_purp = df[['loan_status','purpose' ,'member_id']]\n",
    "\n",
    "df_purp.iloc[0:7, 0:12]\n"
   ]
  },
  {
   "cell_type": "code",
   "execution_count": null,
   "id": "0b252f0d",
   "metadata": {},
   "outputs": [],
   "source": [
    "df_purp_pivot = pd.pivot_table(df_purp, index='purpose', columns = 'loan_status', values = 'member_id',  aggfunc='count')\n",
    "df_purp_pivot.head()\n"
   ]
  },
  {
   "cell_type": "code",
   "execution_count": null,
   "id": "4f94a1ea",
   "metadata": {},
   "outputs": [],
   "source": [
    "df_purp_pivot['Ch_O_%'] = round((df_purp_pivot['Charged Off']/( df_purp_pivot['Fully Paid']+ df_purp_pivot['Charged Off'])*100),2)\n",
    "df_purp_pivot['FP_%'] = round((df_purp_pivot['Fully Paid']/( df_purp_pivot['Fully Paid']+ df_purp_pivot['Charged Off'])*100),2)\n",
    "df_purp_pivot"
   ]
  },
  {
   "cell_type": "code",
   "execution_count": null,
   "id": "bf894de1",
   "metadata": {},
   "outputs": [],
   "source": [
    "df_purp_pivot = df_purp_pivot.sort_values(by=['Ch_O_%'], ascending = False)\n",
    "df_purp_pivot"
   ]
  },
  {
   "cell_type": "code",
   "execution_count": null,
   "id": "334d7939",
   "metadata": {},
   "outputs": [],
   "source": [
    "df_purp_pivot[['Ch_O_%', 'FP_%']].plot.bar(stacked = True, figsize=(10, 5))"
   ]
  },
  {
   "cell_type": "code",
   "execution_count": null,
   "id": "4d678689",
   "metadata": {},
   "outputs": [],
   "source": [
    "27.97-10.3"
   ]
  },
  {
   "cell_type": "code",
   "execution_count": null,
   "id": "d064fbf4",
   "metadata": {},
   "outputs": [],
   "source": [
    "18.95-10.3"
   ]
  },
  {
   "cell_type": "markdown",
   "id": "03639ed7",
   "metadata": {},
   "source": [
    "#### Loan Purpose is coming out a key driver with purposes SMALL BUSINESS and showing higher delinquency ~18% higher than wedding, RENEWABLE ENERGY showing ~9% higher than wedding"
   ]
  },
  {
   "cell_type": "markdown",
   "id": "dcbf2c6e",
   "metadata": {},
   "source": [
    "#### Small business can be further analyzed by slicing the income group. For that need to bucketize the income into groups"
   ]
  },
  {
   "cell_type": "markdown",
   "id": "1750fe63",
   "metadata": {},
   "source": [
    "### Employment years"
   ]
  },
  {
   "cell_type": "code",
   "execution_count": null,
   "id": "a1309146",
   "metadata": {},
   "outputs": [],
   "source": [
    "# binning employment years\n",
    "bins = [-1, 2, 4, 6, 8, 10]\n",
    "labels =['0-2 yrs','2-4 yrs','4-6 yrs','6-8 yrs', '8-10 yrs']\n",
    "df['emp_length_bin'] = pd.cut(df['emp_length'], bins,labels=labels)\n",
    "df.iloc[0:7, 36:48]"
   ]
  },
  {
   "cell_type": "code",
   "execution_count": null,
   "id": "c4d57ab5",
   "metadata": {},
   "outputs": [],
   "source": [
    "df_emp_len_pivot = pd.pivot_table(df, index='emp_length_bin', columns='loan_status', values='member_id',  aggfunc='count').reset_index()\n",
    "df_emp_len_pivot"
   ]
  },
  {
   "cell_type": "code",
   "execution_count": null,
   "id": "e1a5a0a9",
   "metadata": {},
   "outputs": [],
   "source": [
    "df_emp_len_pivot['Ch_O_%'] = round((df_emp_len_pivot['Charged Off']/( df_emp_len_pivot['Fully Paid']+ df_emp_len_pivot['Charged Off'])*100),2)\n",
    "df_emp_len_pivot['FP_%'] = round((df_emp_len_pivot['Fully Paid']/( df_emp_len_pivot['Fully Paid']+ df_emp_len_pivot['Charged Off'])*100),2)\n",
    "print(df_emp_len_pivot)\n",
    "df_emp_len_pivot[['Ch_O_%', 'FP_%']].plot.bar(stacked = True, figsize=(10, 5))"
   ]
  },
  {
   "cell_type": "markdown",
   "id": "bc67dff3",
   "metadata": {},
   "source": [
    "<span style='background:yellow'>There is not much variation in % of defaulters in case of Employment length. Hence dropping this for further analysis."
   ]
  },
  {
   "cell_type": "code",
   "execution_count": 61,
   "id": "16155130",
   "metadata": {},
   "outputs": [],
   "source": [
    "def analyse_param(df, param_name, bins, bin_labels):\n",
    "    df[param_name + '_bin'] = pd.cut(df[param_name], bins, labels=bin_labels)\n",
    "    df_temp_pivot = pd.pivot_table(df, index=param_name + '_bin', columns='loan_status', values='member_id',  aggfunc='count').reset_index()\n",
    "    df_temp_pivot['Ch_O_%'] = round((df_temp_pivot['Charged Off']/( df_temp_pivot['Fully Paid']+ df_temp_pivot['Charged Off'])*100),2)\n",
    "    df_temp_pivot['FP_%'] = round((df_temp_pivot['Fully Paid']/( df_temp_pivot['Fully Paid']+ df_temp_pivot['Charged Off'])*100),2)\n",
    "    df_temp_pivot.set_index(param_name + '_bin')\n",
    "    df_temp_pivot=df_temp_pivot.groupby(by=param_name+'_bin').sum().sort_values(by=['Ch_O_%'], ascending = False)\n",
    "    print(df_temp_pivot)\n",
    "    df_temp_pivot[['Ch_O_%', 'FP_%']].plot.bar(stacked = True, figsize=(10, 5))"
   ]
  },
  {
   "cell_type": "code",
   "execution_count": 62,
   "id": "15bf327a",
   "metadata": {},
   "outputs": [
    {
     "name": "stdout",
     "output_type": "stream",
     "text": [
      "loan_status  Charged Off  Fully Paid  Ch_O_%   FP_%\n",
      "dti_bin                                            \n",
      "20-25               1103        5355   17.08  82.92\n",
      "15-20               1346        7182   15.78  84.22\n",
      "10-15               1348        7819   14.70  85.30\n",
      "25-30                 87         528   14.15  85.85\n",
      "5-10                 945        6321   13.01  86.99\n",
      "0-5                  589        4031   12.75  87.25\n"
     ]
    },
    {
     "data": {
      "image/png": "[encoded data removed]",
      "text/plain": [
       "<Figure size 720x360 with 1 Axes>"
      ]
     },
     "metadata": {
      "needs_background": "light"
     },
     "output_type": "display_data"
    }
   ],
   "source": [
    "analyse_param(df, 'dti', [-1,5,10,15,20,25,30], ['0-5', '5-10', '10-15', '15-20', '20-25', '25-30'])"
   ]
  },
  {
   "cell_type": "code",
   "execution_count": null,
   "id": "85778f68",
   "metadata": {},
   "outputs": [],
   "source": [
    "analyse_param(df, 'issue_year', [2006,2007,2008,2009,2010,2011], ['2007', '2008', '2009', '2010', '2011'])"
   ]
  },
  {
   "cell_type": "code",
   "execution_count": null,
   "id": "031d617c",
   "metadata": {},
   "outputs": [],
   "source": [
    "analyse_param(df, 'issue_month', [0,1,2,3,4,5,6,7,8,9,10,11,12], ['1','2','3','4','5','6','7','8','9','10','11','12'])"
   ]
  },
  {
   "cell_type": "code",
   "execution_count": 64,
   "id": "d63d1925",
   "metadata": {
    "scrolled": true
   },
   "outputs": [
    {
     "data": {
      "text/plain": [
       "count     36654.000000\n",
       "mean      60855.751621\n",
       "std       27750.284125\n",
       "min        4000.000000\n",
       "25%       40000.000000\n",
       "50%       56000.000000\n",
       "75%       77970.500000\n",
       "max      140004.000000\n",
       "Name: annual_inc, dtype: float64"
      ]
     },
     "execution_count": 64,
     "metadata": {},
     "output_type": "execute_result"
    }
   ],
   "source": [
    "df.annual_inc.describe()"
   ]
  },
  {
   "cell_type": "code",
   "execution_count": 81,
   "id": "5c1e7fcc",
   "metadata": {},
   "outputs": [
    {
     "data": {
      "text/plain": [
       "<AxesSubplot:>"
      ]
     },
     "execution_count": 81,
     "metadata": {},
     "output_type": "execute_result"
    },
    {
     "data": {
      "image/png": "[encoded data removed]",
      "text/plain": [
       "<Figure size 432x288 with 1 Axes>"
      ]
     },
     "metadata": {
      "needs_background": "light"
     },
     "output_type": "display_data"
    }
   ],
   "source": [
    "df.annual_inc.hist()"
   ]
  },
  {
   "cell_type": "code",
   "execution_count": 67,
   "id": "13944188",
   "metadata": {},
   "outputs": [
    {
     "data": {
      "text/plain": [
       "0         (17600.4, 31200.8]\n",
       "1         (17600.4, 31200.8]\n",
       "2        (3863.996, 17600.4]\n",
       "3         (44801.2, 58401.6]\n",
       "5         (31200.8, 44801.2]\n",
       "                ...         \n",
       "39711     (72002.0, 85602.4]\n",
       "39712    (99202.8, 112803.2]\n",
       "39713     (17600.4, 31200.8]\n",
       "39714    (99202.8, 112803.2]\n",
       "39716     (17600.4, 31200.8]\n",
       "Name: annual_inc, Length: 36654, dtype: category\n",
       "Categories (10, interval[float64, right]): [(3863.996, 17600.4] < (17600.4, 31200.8] < (31200.8, 44801.2] < (44801.2, 58401.6] ... (85602.4, 99202.8] < (99202.8, 112803.2] < (112803.2, 126403.6] < (126403.6, 140004.0]]"
      ]
     },
     "execution_count": 67,
     "metadata": {},
     "output_type": "execute_result"
    }
   ],
   "source": [
    "pd.cut(df.annual_inc, bins=10)"
   ]
  },
  {
   "cell_type": "code",
   "execution_count": 69,
   "id": "a5574b0b",
   "metadata": {},
   "outputs": [
    {
     "name": "stdout",
     "output_type": "stream",
     "text": [
      "loan_status     Charged Off  Fully Paid  Ch_O_%   FP_%\n",
      "annual_inc_bin                                        \n",
      "<17.6k                  153         541   22.05  77.95\n",
      "17.6k-31k               730        3334   17.96  82.04\n",
      "31k-45k                1284        6385   16.74  83.26\n",
      "45k-58k                1004        5767   14.83  85.17\n",
      "58k-86k                1507        9377   13.85  86.15\n",
      "86k-99k                 297        2141   12.18  87.82\n",
      "112k-126k               161        1248   11.43  88.57\n",
      "126k-141k                85         725   10.49  89.51\n",
      "99k-112k                197        1718   10.29  89.71\n"
     ]
    },
    {
     "data": {
      "image/png": "[encoded data removed]",
      "text/plain": [
       "<Figure size 720x360 with 1 Axes>"
      ]
     },
     "metadata": {
      "needs_background": "light"
     },
     "output_type": "display_data"
    }
   ],
   "source": [
    "analyse_param(df, 'annual_inc', [3800,17600,31000,45000,58000,86000,99000,112000,126000,141000], ['<17.6k','17.6k-31k','31k-45k','45k-58k','58k-86k','86k-99k','99k-112k','112k-126k', '126k-141k'])"
   ]
  },
  {
   "cell_type": "code",
   "execution_count": 70,
   "id": "7428b33b",
   "metadata": {},
   "outputs": [
    {
     "name": "stdout",
     "output_type": "stream",
     "text": [
      "<class 'pandas.core.frame.DataFrame'>\n",
      "Int64Index: 36654 entries, 0 to 39716\n",
      "Data columns (total 46 columns):\n",
      " #   Column                   Non-Null Count  Dtype   \n",
      "---  ------                   --------------  -----   \n",
      " 0   id                       36654 non-null  int64   \n",
      " 1   member_id                36654 non-null  int64   \n",
      " 2   loan_amnt                36654 non-null  int64   \n",
      " 3   funded_amnt              36654 non-null  int64   \n",
      " 4   funded_amnt_inv          36654 non-null  float64 \n",
      " 5   term                     36654 non-null  object  \n",
      " 6   int_rate                 36654 non-null  float64 \n",
      " 7   installment              36654 non-null  float64 \n",
      " 8   grade                    36654 non-null  object  \n",
      " 9   sub_grade                36654 non-null  object  \n",
      " 10  emp_length               36654 non-null  float64 \n",
      " 11  home_ownership           36654 non-null  object  \n",
      " 12  annual_inc               36654 non-null  float64 \n",
      " 13  verification_status      36654 non-null  object  \n",
      " 14  issue_d                  36654 non-null  object  \n",
      " 15  loan_status              36654 non-null  object  \n",
      " 16  purpose                  36654 non-null  object  \n",
      " 17  zip_code                 36654 non-null  object  \n",
      " 18  addr_state               36654 non-null  object  \n",
      " 19  dti                      36654 non-null  float64 \n",
      " 20  delinq_2yrs              36654 non-null  int64   \n",
      " 21  earliest_cr_line         36654 non-null  object  \n",
      " 22  inq_last_6mths           36654 non-null  int64   \n",
      " 23  open_acc                 36654 non-null  int64   \n",
      " 24  pub_rec                  36654 non-null  int64   \n",
      " 25  revol_bal                36654 non-null  int64   \n",
      " 26  revol_util               36654 non-null  float64 \n",
      " 27  total_acc                36654 non-null  int64   \n",
      " 28  out_prncp                36654 non-null  float64 \n",
      " 29  out_prncp_inv            36654 non-null  float64 \n",
      " 30  total_pymnt              36654 non-null  float64 \n",
      " 31  total_pymnt_inv          36654 non-null  float64 \n",
      " 32  total_rec_prncp          36654 non-null  float64 \n",
      " 33  total_rec_int            36654 non-null  float64 \n",
      " 34  total_rec_late_fee       36654 non-null  float64 \n",
      " 35  recoveries               36654 non-null  float64 \n",
      " 36  collection_recovery_fee  36654 non-null  float64 \n",
      " 37  last_pymnt_amnt          36654 non-null  float64 \n",
      " 38  pub_rec_bankruptcies     36654 non-null  float64 \n",
      " 39  issue_month              36654 non-null  int64   \n",
      " 40  issue_year               36654 non-null  int64   \n",
      " 41  monthly_savings          36654 non-null  float64 \n",
      " 42  loan_amnt_bin            36654 non-null  category\n",
      " 43  emp_length_bin           32327 non-null  category\n",
      " 44  dti_bin                  36654 non-null  category\n",
      " 45  annual_inc_bin           36654 non-null  category\n",
      "dtypes: category(4), float64(19), int64(12), object(11)\n",
      "memory usage: 13.2+ MB\n"
     ]
    }
   ],
   "source": [
    "df.info()"
   ]
  },
  {
   "cell_type": "code",
   "execution_count": 72,
   "id": "3e54d734",
   "metadata": {},
   "outputs": [
    {
     "name": "stdout",
     "output_type": "stream",
     "text": [
      "<class 'pandas.core.frame.DataFrame'>\n",
      "CategoricalIndex: 6 entries, 0-5 to 25-30\n",
      "Data columns (total 18 columns):\n",
      " #   Column                    Non-Null Count  Dtype\n",
      "---  ------                    --------------  -----\n",
      " 0   (<17.6k, Charged Off)     6 non-null      int64\n",
      " 1   (<17.6k, Fully Paid)      6 non-null      int64\n",
      " 2   (17.6k-31k, Charged Off)  6 non-null      int64\n",
      " 3   (17.6k-31k, Fully Paid)   6 non-null      int64\n",
      " 4   (31k-45k, Charged Off)    6 non-null      int64\n",
      " 5   (31k-45k, Fully Paid)     6 non-null      int64\n",
      " 6   (45k-58k, Charged Off)    6 non-null      int64\n",
      " 7   (45k-58k, Fully Paid)     6 non-null      int64\n",
      " 8   (58k-86k, Charged Off)    6 non-null      int64\n",
      " 9   (58k-86k, Fully Paid)     6 non-null      int64\n",
      " 10  (86k-99k, Charged Off)    6 non-null      int64\n",
      " 11  (86k-99k, Fully Paid)     6 non-null      int64\n",
      " 12  (99k-112k, Charged Off)   6 non-null      int64\n",
      " 13  (99k-112k, Fully Paid)    6 non-null      int64\n",
      " 14  (112k-126k, Charged Off)  6 non-null      int64\n",
      " 15  (112k-126k, Fully Paid)   6 non-null      int64\n",
      " 16  (126k-141k, Charged Off)  6 non-null      int64\n",
      " 17  (126k-141k, Fully Paid)   6 non-null      int64\n",
      "dtypes: int64(18)\n",
      "memory usage: 1.1 KB\n"
     ]
    }
   ],
   "source": [
    "pd.pivot_table(df, index='dti_bin', columns=['annual_inc_bin', 'loan_status'], values='member_id', aggfunc='count').info()"
   ]
  },
  {
   "cell_type": "code",
   "execution_count": 127,
   "id": "8d319dff",
   "metadata": {},
   "outputs": [
    {
     "data": {
      "text/html": [
       "<div>\n",
       "<style scoped>\n",
       "    .dataframe tbody tr th:only-of-type {\n",
       "        vertical-align: middle;\n",
       "    }\n",
       "\n",
       "    .dataframe tbody tr th {\n",
       "        vertical-align: top;\n",
       "    }\n",
       "\n",
       "    .dataframe thead tr th {\n",
       "        text-align: left;\n",
       "    }\n",
       "\n",
       "    .dataframe thead tr:last-of-type th {\n",
       "        text-align: right;\n",
       "    }\n",
       "</style>\n",
       "<table border=\"1\" class=\"dataframe\">\n",
       "  <thead>\n",
       "    <tr>\n",
       "      <th>annual_inc_bin</th>\n",
       "      <th colspan=\"2\" halign=\"left\">&lt;17.6k</th>\n",
       "      <th colspan=\"2\" halign=\"left\">17.6k-31k</th>\n",
       "      <th colspan=\"2\" halign=\"left\">31k-45k</th>\n",
       "      <th colspan=\"2\" halign=\"left\">45k-58k</th>\n",
       "      <th colspan=\"2\" halign=\"left\">58k-86k</th>\n",
       "      <th colspan=\"2\" halign=\"left\">86k-99k</th>\n",
       "      <th colspan=\"2\" halign=\"left\">99k-112k</th>\n",
       "      <th colspan=\"2\" halign=\"left\">112k-126k</th>\n",
       "      <th colspan=\"2\" halign=\"left\">126k-141k</th>\n",
       "    </tr>\n",
       "    <tr>\n",
       "      <th>loan_status</th>\n",
       "      <th>Charged Off</th>\n",
       "      <th>Fully Paid</th>\n",
       "      <th>Charged Off</th>\n",
       "      <th>Fully Paid</th>\n",
       "      <th>Charged Off</th>\n",
       "      <th>Fully Paid</th>\n",
       "      <th>Charged Off</th>\n",
       "      <th>Fully Paid</th>\n",
       "      <th>Charged Off</th>\n",
       "      <th>Fully Paid</th>\n",
       "      <th>Charged Off</th>\n",
       "      <th>Fully Paid</th>\n",
       "      <th>Charged Off</th>\n",
       "      <th>Fully Paid</th>\n",
       "      <th>Charged Off</th>\n",
       "      <th>Fully Paid</th>\n",
       "      <th>Charged Off</th>\n",
       "      <th>Fully Paid</th>\n",
       "    </tr>\n",
       "    <tr>\n",
       "      <th>grade</th>\n",
       "      <th></th>\n",
       "      <th></th>\n",
       "      <th></th>\n",
       "      <th></th>\n",
       "      <th></th>\n",
       "      <th></th>\n",
       "      <th></th>\n",
       "      <th></th>\n",
       "      <th></th>\n",
       "      <th></th>\n",
       "      <th></th>\n",
       "      <th></th>\n",
       "      <th></th>\n",
       "      <th></th>\n",
       "      <th></th>\n",
       "      <th></th>\n",
       "      <th></th>\n",
       "      <th></th>\n",
       "    </tr>\n",
       "  </thead>\n",
       "  <tbody>\n",
       "    <tr>\n",
       "      <th>A</th>\n",
       "      <td>26</td>\n",
       "      <td>157</td>\n",
       "      <td>104</td>\n",
       "      <td>987</td>\n",
       "      <td>165</td>\n",
       "      <td>1844</td>\n",
       "      <td>114</td>\n",
       "      <td>1691</td>\n",
       "      <td>128</td>\n",
       "      <td>2772</td>\n",
       "      <td>27</td>\n",
       "      <td>570</td>\n",
       "      <td>10</td>\n",
       "      <td>472</td>\n",
       "      <td>12</td>\n",
       "      <td>382</td>\n",
       "      <td>7</td>\n",
       "      <td>178</td>\n",
       "    </tr>\n",
       "    <tr>\n",
       "      <th>B</th>\n",
       "      <td>38</td>\n",
       "      <td>181</td>\n",
       "      <td>221</td>\n",
       "      <td>1069</td>\n",
       "      <td>353</td>\n",
       "      <td>2041</td>\n",
       "      <td>249</td>\n",
       "      <td>1784</td>\n",
       "      <td>357</td>\n",
       "      <td>2926</td>\n",
       "      <td>73</td>\n",
       "      <td>665</td>\n",
       "      <td>43</td>\n",
       "      <td>508</td>\n",
       "      <td>29</td>\n",
       "      <td>336</td>\n",
       "      <td>13</td>\n",
       "      <td>211</td>\n",
       "    </tr>\n",
       "    <tr>\n",
       "      <th>C</th>\n",
       "      <td>46</td>\n",
       "      <td>106</td>\n",
       "      <td>176</td>\n",
       "      <td>728</td>\n",
       "      <td>339</td>\n",
       "      <td>1332</td>\n",
       "      <td>246</td>\n",
       "      <td>1162</td>\n",
       "      <td>344</td>\n",
       "      <td>1739</td>\n",
       "      <td>69</td>\n",
       "      <td>397</td>\n",
       "      <td>53</td>\n",
       "      <td>324</td>\n",
       "      <td>28</td>\n",
       "      <td>234</td>\n",
       "      <td>24</td>\n",
       "      <td>134</td>\n",
       "    </tr>\n",
       "    <tr>\n",
       "      <th>D</th>\n",
       "      <td>33</td>\n",
       "      <td>70</td>\n",
       "      <td>141</td>\n",
       "      <td>389</td>\n",
       "      <td>237</td>\n",
       "      <td>761</td>\n",
       "      <td>202</td>\n",
       "      <td>686</td>\n",
       "      <td>306</td>\n",
       "      <td>1129</td>\n",
       "      <td>64</td>\n",
       "      <td>283</td>\n",
       "      <td>40</td>\n",
       "      <td>198</td>\n",
       "      <td>37</td>\n",
       "      <td>141</td>\n",
       "      <td>20</td>\n",
       "      <td>98</td>\n",
       "    </tr>\n",
       "    <tr>\n",
       "      <th>E</th>\n",
       "      <td>10</td>\n",
       "      <td>21</td>\n",
       "      <td>61</td>\n",
       "      <td>125</td>\n",
       "      <td>135</td>\n",
       "      <td>309</td>\n",
       "      <td>130</td>\n",
       "      <td>331</td>\n",
       "      <td>218</td>\n",
       "      <td>558</td>\n",
       "      <td>38</td>\n",
       "      <td>154</td>\n",
       "      <td>24</td>\n",
       "      <td>128</td>\n",
       "      <td>29</td>\n",
       "      <td>91</td>\n",
       "      <td>15</td>\n",
       "      <td>71</td>\n",
       "    </tr>\n",
       "    <tr>\n",
       "      <th>F</th>\n",
       "      <td>0</td>\n",
       "      <td>6</td>\n",
       "      <td>17</td>\n",
       "      <td>30</td>\n",
       "      <td>43</td>\n",
       "      <td>81</td>\n",
       "      <td>49</td>\n",
       "      <td>91</td>\n",
       "      <td>119</td>\n",
       "      <td>198</td>\n",
       "      <td>19</td>\n",
       "      <td>61</td>\n",
       "      <td>18</td>\n",
       "      <td>62</td>\n",
       "      <td>19</td>\n",
       "      <td>45</td>\n",
       "      <td>5</td>\n",
       "      <td>23</td>\n",
       "    </tr>\n",
       "    <tr>\n",
       "      <th>G</th>\n",
       "      <td>0</td>\n",
       "      <td>0</td>\n",
       "      <td>10</td>\n",
       "      <td>6</td>\n",
       "      <td>12</td>\n",
       "      <td>17</td>\n",
       "      <td>14</td>\n",
       "      <td>22</td>\n",
       "      <td>35</td>\n",
       "      <td>55</td>\n",
       "      <td>7</td>\n",
       "      <td>11</td>\n",
       "      <td>9</td>\n",
       "      <td>26</td>\n",
       "      <td>7</td>\n",
       "      <td>19</td>\n",
       "      <td>1</td>\n",
       "      <td>10</td>\n",
       "    </tr>\n",
       "  </tbody>\n",
       "</table>\n",
       "</div>"
      ],
      "text/plain": [
       "annual_inc_bin      <17.6k              17.6k-31k                31k-45k  \\\n",
       "loan_status    Charged Off Fully Paid Charged Off Fully Paid Charged Off   \n",
       "grade                                                                      \n",
       "A                       26        157         104        987         165   \n",
       "B                       38        181         221       1069         353   \n",
       "C                       46        106         176        728         339   \n",
       "D                       33         70         141        389         237   \n",
       "E                       10         21          61        125         135   \n",
       "F                        0          6          17         30          43   \n",
       "G                        0          0          10          6          12   \n",
       "\n",
       "annual_inc_bin                45k-58k                58k-86k             \\\n",
       "loan_status    Fully Paid Charged Off Fully Paid Charged Off Fully Paid   \n",
       "grade                                                                     \n",
       "A                    1844         114       1691         128       2772   \n",
       "B                    2041         249       1784         357       2926   \n",
       "C                    1332         246       1162         344       1739   \n",
       "D                     761         202        686         306       1129   \n",
       "E                     309         130        331         218        558   \n",
       "F                      81          49         91         119        198   \n",
       "G                      17          14         22          35         55   \n",
       "\n",
       "annual_inc_bin     86k-99k               99k-112k              112k-126k  \\\n",
       "loan_status    Charged Off Fully Paid Charged Off Fully Paid Charged Off   \n",
       "grade                                                                      \n",
       "A                       27        570          10        472          12   \n",
       "B                       73        665          43        508          29   \n",
       "C                       69        397          53        324          28   \n",
       "D                       64        283          40        198          37   \n",
       "E                       38        154          24        128          29   \n",
       "F                       19         61          18         62          19   \n",
       "G                        7         11           9         26           7   \n",
       "\n",
       "annual_inc_bin              126k-141k             \n",
       "loan_status    Fully Paid Charged Off Fully Paid  \n",
       "grade                                             \n",
       "A                     382           7        178  \n",
       "B                     336          13        211  \n",
       "C                     234          24        134  \n",
       "D                     141          20         98  \n",
       "E                      91          15         71  \n",
       "F                      45           5         23  \n",
       "G                      19           1         10  "
      ]
     },
     "execution_count": 127,
     "metadata": {},
     "output_type": "execute_result"
    }
   ],
   "source": [
    "df_pivot_grade_ann_inc = pd.pivot_table(df, index='grade', columns=['annual_inc_bin', 'loan_status'], values='member_id', aggfunc='count')\n",
    "df_pivot_grade_ann_inc"
   ]
  },
  {
   "cell_type": "code",
   "execution_count": 85,
   "id": "56803d2e",
   "metadata": {},
   "outputs": [
    {
     "data": {
      "text/plain": [
       "['<17.6k', '17.6k-31k', '31k-45k', '45k-58k', '58k-86k', '86k-99k', '99k-112k', '112k-126k', '126k-141k']\n",
       "Categories (9, object): ['<17.6k' < '17.6k-31k' < '31k-45k' < '45k-58k' ... '86k-99k' < '99k-112k' < '112k-126k' < '126k-141k']"
      ]
     },
     "execution_count": 85,
     "metadata": {},
     "output_type": "execute_result"
    }
   ],
   "source": [
    "df.annual_inc_bin.unique().sort_values()"
   ]
  },
  {
   "cell_type": "code",
   "execution_count": 90,
   "id": "afaa1c45",
   "metadata": {},
   "outputs": [
    {
     "data": {
      "text/plain": [
       "['A', 'B', 'C', 'D', 'E', 'F', 'G']"
      ]
     },
     "execution_count": 90,
     "metadata": {},
     "output_type": "execute_result"
    }
   ],
   "source": [
    "sorted(df.grade.unique())"
   ]
  },
  {
   "cell_type": "code",
   "execution_count": 131,
   "id": "1d32e93f",
   "metadata": {},
   "outputs": [
    {
     "data": {
      "text/html": [
       "<div>\n",
       "<style scoped>\n",
       "    .dataframe tbody tr th:only-of-type {\n",
       "        vertical-align: middle;\n",
       "    }\n",
       "\n",
       "    .dataframe tbody tr th {\n",
       "        vertical-align: top;\n",
       "    }\n",
       "\n",
       "    .dataframe thead tr th {\n",
       "        text-align: left;\n",
       "    }\n",
       "\n",
       "    .dataframe thead tr:last-of-type th {\n",
       "        text-align: right;\n",
       "    }\n",
       "</style>\n",
       "<table border=\"1\" class=\"dataframe\">\n",
       "  <thead>\n",
       "    <tr>\n",
       "      <th>annual_inc_bin</th>\n",
       "      <th colspan=\"2\" halign=\"left\">&lt;17.6k</th>\n",
       "      <th colspan=\"2\" halign=\"left\">17.6k-31k</th>\n",
       "      <th colspan=\"2\" halign=\"left\">31k-45k</th>\n",
       "      <th colspan=\"2\" halign=\"left\">45k-58k</th>\n",
       "      <th colspan=\"2\" halign=\"left\">58k-86k</th>\n",
       "      <th colspan=\"2\" halign=\"left\">86k-99k</th>\n",
       "      <th colspan=\"2\" halign=\"left\">99k-112k</th>\n",
       "      <th colspan=\"2\" halign=\"left\">112k-126k</th>\n",
       "      <th colspan=\"2\" halign=\"left\">126k-141k</th>\n",
       "    </tr>\n",
       "    <tr>\n",
       "      <th>loan_status</th>\n",
       "      <th>Charged Off</th>\n",
       "      <th>Fully Paid</th>\n",
       "      <th>Charged Off</th>\n",
       "      <th>Fully Paid</th>\n",
       "      <th>Charged Off</th>\n",
       "      <th>Fully Paid</th>\n",
       "      <th>Charged Off</th>\n",
       "      <th>Fully Paid</th>\n",
       "      <th>Charged Off</th>\n",
       "      <th>Fully Paid</th>\n",
       "      <th>Charged Off</th>\n",
       "      <th>Fully Paid</th>\n",
       "      <th>Charged Off</th>\n",
       "      <th>Fully Paid</th>\n",
       "      <th>Charged Off</th>\n",
       "      <th>Fully Paid</th>\n",
       "      <th>Charged Off</th>\n",
       "      <th>Fully Paid</th>\n",
       "    </tr>\n",
       "    <tr>\n",
       "      <th>grade</th>\n",
       "      <th></th>\n",
       "      <th></th>\n",
       "      <th></th>\n",
       "      <th></th>\n",
       "      <th></th>\n",
       "      <th></th>\n",
       "      <th></th>\n",
       "      <th></th>\n",
       "      <th></th>\n",
       "      <th></th>\n",
       "      <th></th>\n",
       "      <th></th>\n",
       "      <th></th>\n",
       "      <th></th>\n",
       "      <th></th>\n",
       "      <th></th>\n",
       "      <th></th>\n",
       "      <th></th>\n",
       "    </tr>\n",
       "  </thead>\n",
       "  <tbody>\n",
       "    <tr>\n",
       "      <th>A</th>\n",
       "      <td>26</td>\n",
       "      <td>157</td>\n",
       "      <td>104</td>\n",
       "      <td>987</td>\n",
       "      <td>165</td>\n",
       "      <td>1844</td>\n",
       "      <td>114</td>\n",
       "      <td>1691</td>\n",
       "      <td>128</td>\n",
       "      <td>2772</td>\n",
       "      <td>27</td>\n",
       "      <td>570</td>\n",
       "      <td>10</td>\n",
       "      <td>472</td>\n",
       "      <td>12</td>\n",
       "      <td>382</td>\n",
       "      <td>7</td>\n",
       "      <td>178</td>\n",
       "    </tr>\n",
       "    <tr>\n",
       "      <th>B</th>\n",
       "      <td>38</td>\n",
       "      <td>181</td>\n",
       "      <td>221</td>\n",
       "      <td>1069</td>\n",
       "      <td>353</td>\n",
       "      <td>2041</td>\n",
       "      <td>249</td>\n",
       "      <td>1784</td>\n",
       "      <td>357</td>\n",
       "      <td>2926</td>\n",
       "      <td>73</td>\n",
       "      <td>665</td>\n",
       "      <td>43</td>\n",
       "      <td>508</td>\n",
       "      <td>29</td>\n",
       "      <td>336</td>\n",
       "      <td>13</td>\n",
       "      <td>211</td>\n",
       "    </tr>\n",
       "    <tr>\n",
       "      <th>C</th>\n",
       "      <td>46</td>\n",
       "      <td>106</td>\n",
       "      <td>176</td>\n",
       "      <td>728</td>\n",
       "      <td>339</td>\n",
       "      <td>1332</td>\n",
       "      <td>246</td>\n",
       "      <td>1162</td>\n",
       "      <td>344</td>\n",
       "      <td>1739</td>\n",
       "      <td>69</td>\n",
       "      <td>397</td>\n",
       "      <td>53</td>\n",
       "      <td>324</td>\n",
       "      <td>28</td>\n",
       "      <td>234</td>\n",
       "      <td>24</td>\n",
       "      <td>134</td>\n",
       "    </tr>\n",
       "    <tr>\n",
       "      <th>D</th>\n",
       "      <td>33</td>\n",
       "      <td>70</td>\n",
       "      <td>141</td>\n",
       "      <td>389</td>\n",
       "      <td>237</td>\n",
       "      <td>761</td>\n",
       "      <td>202</td>\n",
       "      <td>686</td>\n",
       "      <td>306</td>\n",
       "      <td>1129</td>\n",
       "      <td>64</td>\n",
       "      <td>283</td>\n",
       "      <td>40</td>\n",
       "      <td>198</td>\n",
       "      <td>37</td>\n",
       "      <td>141</td>\n",
       "      <td>20</td>\n",
       "      <td>98</td>\n",
       "    </tr>\n",
       "    <tr>\n",
       "      <th>E</th>\n",
       "      <td>10</td>\n",
       "      <td>21</td>\n",
       "      <td>61</td>\n",
       "      <td>125</td>\n",
       "      <td>135</td>\n",
       "      <td>309</td>\n",
       "      <td>130</td>\n",
       "      <td>331</td>\n",
       "      <td>218</td>\n",
       "      <td>558</td>\n",
       "      <td>38</td>\n",
       "      <td>154</td>\n",
       "      <td>24</td>\n",
       "      <td>128</td>\n",
       "      <td>29</td>\n",
       "      <td>91</td>\n",
       "      <td>15</td>\n",
       "      <td>71</td>\n",
       "    </tr>\n",
       "    <tr>\n",
       "      <th>F</th>\n",
       "      <td>0</td>\n",
       "      <td>6</td>\n",
       "      <td>17</td>\n",
       "      <td>30</td>\n",
       "      <td>43</td>\n",
       "      <td>81</td>\n",
       "      <td>49</td>\n",
       "      <td>91</td>\n",
       "      <td>119</td>\n",
       "      <td>198</td>\n",
       "      <td>19</td>\n",
       "      <td>61</td>\n",
       "      <td>18</td>\n",
       "      <td>62</td>\n",
       "      <td>19</td>\n",
       "      <td>45</td>\n",
       "      <td>5</td>\n",
       "      <td>23</td>\n",
       "    </tr>\n",
       "    <tr>\n",
       "      <th>G</th>\n",
       "      <td>0</td>\n",
       "      <td>0</td>\n",
       "      <td>10</td>\n",
       "      <td>6</td>\n",
       "      <td>12</td>\n",
       "      <td>17</td>\n",
       "      <td>14</td>\n",
       "      <td>22</td>\n",
       "      <td>35</td>\n",
       "      <td>55</td>\n",
       "      <td>7</td>\n",
       "      <td>11</td>\n",
       "      <td>9</td>\n",
       "      <td>26</td>\n",
       "      <td>7</td>\n",
       "      <td>19</td>\n",
       "      <td>1</td>\n",
       "      <td>10</td>\n",
       "    </tr>\n",
       "  </tbody>\n",
       "</table>\n",
       "</div>"
      ],
      "text/plain": [
       "annual_inc_bin      <17.6k              17.6k-31k                31k-45k  \\\n",
       "loan_status    Charged Off Fully Paid Charged Off Fully Paid Charged Off   \n",
       "grade                                                                      \n",
       "A                       26        157         104        987         165   \n",
       "B                       38        181         221       1069         353   \n",
       "C                       46        106         176        728         339   \n",
       "D                       33         70         141        389         237   \n",
       "E                       10         21          61        125         135   \n",
       "F                        0          6          17         30          43   \n",
       "G                        0          0          10          6          12   \n",
       "\n",
       "annual_inc_bin                45k-58k                58k-86k             \\\n",
       "loan_status    Fully Paid Charged Off Fully Paid Charged Off Fully Paid   \n",
       "grade                                                                     \n",
       "A                    1844         114       1691         128       2772   \n",
       "B                    2041         249       1784         357       2926   \n",
       "C                    1332         246       1162         344       1739   \n",
       "D                     761         202        686         306       1129   \n",
       "E                     309         130        331         218        558   \n",
       "F                      81          49         91         119        198   \n",
       "G                      17          14         22          35         55   \n",
       "\n",
       "annual_inc_bin     86k-99k               99k-112k              112k-126k  \\\n",
       "loan_status    Charged Off Fully Paid Charged Off Fully Paid Charged Off   \n",
       "grade                                                                      \n",
       "A                       27        570          10        472          12   \n",
       "B                       73        665          43        508          29   \n",
       "C                       69        397          53        324          28   \n",
       "D                       64        283          40        198          37   \n",
       "E                       38        154          24        128          29   \n",
       "F                       19         61          18         62          19   \n",
       "G                        7         11           9         26           7   \n",
       "\n",
       "annual_inc_bin              126k-141k             \n",
       "loan_status    Fully Paid Charged Off Fully Paid  \n",
       "grade                                             \n",
       "A                     382           7        178  \n",
       "B                     336          13        211  \n",
       "C                     234          24        134  \n",
       "D                     141          20         98  \n",
       "E                      91          15         71  \n",
       "F                      45           5         23  \n",
       "G                      19           1         10  "
      ]
     },
     "execution_count": 131,
     "metadata": {},
     "output_type": "execute_result"
    }
   ],
   "source": [
    "df_pivot_grade_ann_inc"
   ]
  },
  {
   "cell_type": "code",
   "execution_count": 128,
   "id": "0111927b",
   "metadata": {},
   "outputs": [],
   "source": [
    "df_pivot_grade_ann_inc_copy = df_pivot_grade_ann_inc.copy(deep=True)"
   ]
  },
  {
   "cell_type": "code",
   "execution_count": 129,
   "id": "06b06974",
   "metadata": {},
   "outputs": [],
   "source": [
    "for i in df.annual_inc_bin.unique().sort_values():\n",
    "    df_pivot_grade_ann_inc_copy[(i, 'Charged Off')] = df_pivot_grade_ann_inc[(i, 'Charged Off')] / (df_pivot_grade_ann_inc[(i, 'Charged Off')] + df_pivot_grade_ann_inc[(i, 'Fully Paid')]) * 100\n",
    "    df_pivot_grade_ann_inc_copy[(i, 'Fully Paid')] = df_pivot_grade_ann_inc[(i, 'Fully Paid')] / (df_pivot_grade_ann_inc[(i, 'Charged Off')] + df_pivot_grade_ann_inc[(i, 'Fully Paid')]) * 100"
   ]
  },
  {
   "cell_type": "code",
   "execution_count": 132,
   "id": "81d6da40",
   "metadata": {},
   "outputs": [
    {
     "data": {
      "text/html": [
       "<div>\n",
       "<style scoped>\n",
       "    .dataframe tbody tr th:only-of-type {\n",
       "        vertical-align: middle;\n",
       "    }\n",
       "\n",
       "    .dataframe tbody tr th {\n",
       "        vertical-align: top;\n",
       "    }\n",
       "\n",
       "    .dataframe thead tr th {\n",
       "        text-align: left;\n",
       "    }\n",
       "\n",
       "    .dataframe thead tr:last-of-type th {\n",
       "        text-align: right;\n",
       "    }\n",
       "</style>\n",
       "<table border=\"1\" class=\"dataframe\">\n",
       "  <thead>\n",
       "    <tr>\n",
       "      <th>annual_inc_bin</th>\n",
       "      <th colspan=\"2\" halign=\"left\">&lt;17.6k</th>\n",
       "      <th colspan=\"2\" halign=\"left\">17.6k-31k</th>\n",
       "      <th colspan=\"2\" halign=\"left\">31k-45k</th>\n",
       "      <th colspan=\"2\" halign=\"left\">45k-58k</th>\n",
       "      <th colspan=\"2\" halign=\"left\">58k-86k</th>\n",
       "      <th colspan=\"2\" halign=\"left\">86k-99k</th>\n",
       "      <th colspan=\"2\" halign=\"left\">99k-112k</th>\n",
       "      <th colspan=\"2\" halign=\"left\">112k-126k</th>\n",
       "      <th colspan=\"2\" halign=\"left\">126k-141k</th>\n",
       "    </tr>\n",
       "    <tr>\n",
       "      <th>loan_status</th>\n",
       "      <th>Charged Off</th>\n",
       "      <th>Fully Paid</th>\n",
       "      <th>Charged Off</th>\n",
       "      <th>Fully Paid</th>\n",
       "      <th>Charged Off</th>\n",
       "      <th>Fully Paid</th>\n",
       "      <th>Charged Off</th>\n",
       "      <th>Fully Paid</th>\n",
       "      <th>Charged Off</th>\n",
       "      <th>Fully Paid</th>\n",
       "      <th>Charged Off</th>\n",
       "      <th>Fully Paid</th>\n",
       "      <th>Charged Off</th>\n",
       "      <th>Fully Paid</th>\n",
       "      <th>Charged Off</th>\n",
       "      <th>Fully Paid</th>\n",
       "      <th>Charged Off</th>\n",
       "      <th>Fully Paid</th>\n",
       "    </tr>\n",
       "    <tr>\n",
       "      <th>grade</th>\n",
       "      <th></th>\n",
       "      <th></th>\n",
       "      <th></th>\n",
       "      <th></th>\n",
       "      <th></th>\n",
       "      <th></th>\n",
       "      <th></th>\n",
       "      <th></th>\n",
       "      <th></th>\n",
       "      <th></th>\n",
       "      <th></th>\n",
       "      <th></th>\n",
       "      <th></th>\n",
       "      <th></th>\n",
       "      <th></th>\n",
       "      <th></th>\n",
       "      <th></th>\n",
       "      <th></th>\n",
       "    </tr>\n",
       "  </thead>\n",
       "  <tbody>\n",
       "    <tr>\n",
       "      <th>A</th>\n",
       "      <td>14.207650</td>\n",
       "      <td>85.792350</td>\n",
       "      <td>9.532539</td>\n",
       "      <td>90.467461</td>\n",
       "      <td>8.213041</td>\n",
       "      <td>91.786959</td>\n",
       "      <td>6.315789</td>\n",
       "      <td>93.684211</td>\n",
       "      <td>4.413793</td>\n",
       "      <td>95.586207</td>\n",
       "      <td>4.522613</td>\n",
       "      <td>95.477387</td>\n",
       "      <td>2.074689</td>\n",
       "      <td>97.925311</td>\n",
       "      <td>3.045685</td>\n",
       "      <td>96.954315</td>\n",
       "      <td>3.783784</td>\n",
       "      <td>96.216216</td>\n",
       "    </tr>\n",
       "    <tr>\n",
       "      <th>B</th>\n",
       "      <td>17.351598</td>\n",
       "      <td>82.648402</td>\n",
       "      <td>17.131783</td>\n",
       "      <td>82.868217</td>\n",
       "      <td>14.745196</td>\n",
       "      <td>85.254804</td>\n",
       "      <td>12.247909</td>\n",
       "      <td>87.752091</td>\n",
       "      <td>10.874200</td>\n",
       "      <td>89.125800</td>\n",
       "      <td>9.891599</td>\n",
       "      <td>90.108401</td>\n",
       "      <td>7.803993</td>\n",
       "      <td>92.196007</td>\n",
       "      <td>7.945205</td>\n",
       "      <td>92.054795</td>\n",
       "      <td>5.803571</td>\n",
       "      <td>94.196429</td>\n",
       "    </tr>\n",
       "    <tr>\n",
       "      <th>C</th>\n",
       "      <td>30.263158</td>\n",
       "      <td>69.736842</td>\n",
       "      <td>19.469027</td>\n",
       "      <td>80.530973</td>\n",
       "      <td>20.287253</td>\n",
       "      <td>79.712747</td>\n",
       "      <td>17.471591</td>\n",
       "      <td>82.528409</td>\n",
       "      <td>16.514642</td>\n",
       "      <td>83.485358</td>\n",
       "      <td>14.806867</td>\n",
       "      <td>85.193133</td>\n",
       "      <td>14.058355</td>\n",
       "      <td>85.941645</td>\n",
       "      <td>10.687023</td>\n",
       "      <td>89.312977</td>\n",
       "      <td>15.189873</td>\n",
       "      <td>84.810127</td>\n",
       "    </tr>\n",
       "    <tr>\n",
       "      <th>D</th>\n",
       "      <td>32.038835</td>\n",
       "      <td>67.961165</td>\n",
       "      <td>26.603774</td>\n",
       "      <td>73.396226</td>\n",
       "      <td>23.747495</td>\n",
       "      <td>76.252505</td>\n",
       "      <td>22.747748</td>\n",
       "      <td>77.252252</td>\n",
       "      <td>21.324042</td>\n",
       "      <td>78.675958</td>\n",
       "      <td>18.443804</td>\n",
       "      <td>81.556196</td>\n",
       "      <td>16.806723</td>\n",
       "      <td>83.193277</td>\n",
       "      <td>20.786517</td>\n",
       "      <td>79.213483</td>\n",
       "      <td>16.949153</td>\n",
       "      <td>83.050847</td>\n",
       "    </tr>\n",
       "    <tr>\n",
       "      <th>E</th>\n",
       "      <td>32.258065</td>\n",
       "      <td>67.741935</td>\n",
       "      <td>32.795699</td>\n",
       "      <td>67.204301</td>\n",
       "      <td>30.405405</td>\n",
       "      <td>69.594595</td>\n",
       "      <td>28.199566</td>\n",
       "      <td>71.800434</td>\n",
       "      <td>28.092784</td>\n",
       "      <td>71.907216</td>\n",
       "      <td>19.791667</td>\n",
       "      <td>80.208333</td>\n",
       "      <td>15.789474</td>\n",
       "      <td>84.210526</td>\n",
       "      <td>24.166667</td>\n",
       "      <td>75.833333</td>\n",
       "      <td>17.441860</td>\n",
       "      <td>82.558140</td>\n",
       "    </tr>\n",
       "    <tr>\n",
       "      <th>F</th>\n",
       "      <td>0.000000</td>\n",
       "      <td>100.000000</td>\n",
       "      <td>36.170213</td>\n",
       "      <td>63.829787</td>\n",
       "      <td>34.677419</td>\n",
       "      <td>65.322581</td>\n",
       "      <td>35.000000</td>\n",
       "      <td>65.000000</td>\n",
       "      <td>37.539432</td>\n",
       "      <td>62.460568</td>\n",
       "      <td>23.750000</td>\n",
       "      <td>76.250000</td>\n",
       "      <td>22.500000</td>\n",
       "      <td>77.500000</td>\n",
       "      <td>29.687500</td>\n",
       "      <td>70.312500</td>\n",
       "      <td>17.857143</td>\n",
       "      <td>82.142857</td>\n",
       "    </tr>\n",
       "    <tr>\n",
       "      <th>G</th>\n",
       "      <td>NaN</td>\n",
       "      <td>NaN</td>\n",
       "      <td>62.500000</td>\n",
       "      <td>37.500000</td>\n",
       "      <td>41.379310</td>\n",
       "      <td>58.620690</td>\n",
       "      <td>38.888889</td>\n",
       "      <td>61.111111</td>\n",
       "      <td>38.888889</td>\n",
       "      <td>61.111111</td>\n",
       "      <td>38.888889</td>\n",
       "      <td>61.111111</td>\n",
       "      <td>25.714286</td>\n",
       "      <td>74.285714</td>\n",
       "      <td>26.923077</td>\n",
       "      <td>73.076923</td>\n",
       "      <td>9.090909</td>\n",
       "      <td>90.909091</td>\n",
       "    </tr>\n",
       "  </tbody>\n",
       "</table>\n",
       "</div>"
      ],
      "text/plain": [
       "annual_inc_bin      <17.6k               17.6k-31k                31k-45k  \\\n",
       "loan_status    Charged Off  Fully Paid Charged Off Fully Paid Charged Off   \n",
       "grade                                                                       \n",
       "A                14.207650   85.792350    9.532539  90.467461    8.213041   \n",
       "B                17.351598   82.648402   17.131783  82.868217   14.745196   \n",
       "C                30.263158   69.736842   19.469027  80.530973   20.287253   \n",
       "D                32.038835   67.961165   26.603774  73.396226   23.747495   \n",
       "E                32.258065   67.741935   32.795699  67.204301   30.405405   \n",
       "F                 0.000000  100.000000   36.170213  63.829787   34.677419   \n",
       "G                      NaN         NaN   62.500000  37.500000   41.379310   \n",
       "\n",
       "annual_inc_bin                45k-58k                58k-86k             \\\n",
       "loan_status    Fully Paid Charged Off Fully Paid Charged Off Fully Paid   \n",
       "grade                                                                     \n",
       "A               91.786959    6.315789  93.684211    4.413793  95.586207   \n",
       "B               85.254804   12.247909  87.752091   10.874200  89.125800   \n",
       "C               79.712747   17.471591  82.528409   16.514642  83.485358   \n",
       "D               76.252505   22.747748  77.252252   21.324042  78.675958   \n",
       "E               69.594595   28.199566  71.800434   28.092784  71.907216   \n",
       "F               65.322581   35.000000  65.000000   37.539432  62.460568   \n",
       "G               58.620690   38.888889  61.111111   38.888889  61.111111   \n",
       "\n",
       "annual_inc_bin     86k-99k               99k-112k              112k-126k  \\\n",
       "loan_status    Charged Off Fully Paid Charged Off Fully Paid Charged Off   \n",
       "grade                                                                      \n",
       "A                 4.522613  95.477387    2.074689  97.925311    3.045685   \n",
       "B                 9.891599  90.108401    7.803993  92.196007    7.945205   \n",
       "C                14.806867  85.193133   14.058355  85.941645   10.687023   \n",
       "D                18.443804  81.556196   16.806723  83.193277   20.786517   \n",
       "E                19.791667  80.208333   15.789474  84.210526   24.166667   \n",
       "F                23.750000  76.250000   22.500000  77.500000   29.687500   \n",
       "G                38.888889  61.111111   25.714286  74.285714   26.923077   \n",
       "\n",
       "annual_inc_bin              126k-141k             \n",
       "loan_status    Fully Paid Charged Off Fully Paid  \n",
       "grade                                             \n",
       "A               96.954315    3.783784  96.216216  \n",
       "B               92.054795    5.803571  94.196429  \n",
       "C               89.312977   15.189873  84.810127  \n",
       "D               79.213483   16.949153  83.050847  \n",
       "E               75.833333   17.441860  82.558140  \n",
       "F               70.312500   17.857143  82.142857  \n",
       "G               73.076923    9.090909  90.909091  "
      ]
     },
     "execution_count": 132,
     "metadata": {},
     "output_type": "execute_result"
    }
   ],
   "source": [
    "df_pivot_grade_ann_inc_copy"
   ]
  },
  {
   "cell_type": "code",
   "execution_count": 161,
   "id": "fd5913a5",
   "metadata": {},
   "outputs": [
    {
     "data": {
      "text/plain": [
       "0    A\n",
       "1    B\n",
       "2    C\n",
       "3    D\n",
       "4    E\n",
       "5    F\n",
       "6    G\n",
       "Name: (grade,), dtype: object"
      ]
     },
     "execution_count": 161,
     "metadata": {},
     "output_type": "execute_result"
    }
   ],
   "source": [
    "df_pivot_grade_ann_inc_co = df_pivot_grade_ann_inc_copy.drop(columns=[('<17.6k', 'Fully Paid'), ('17.6k-31k', 'Fully Paid'), ('31k-45k', 'Fully Paid'), ('45k-58k', 'Fully Paid'), ('58k-86k', 'Fully Paid'), ('86k-99k', 'Fully Paid'), ('99k-112k', 'Fully Paid'), ('112k-126k', 'Fully Paid'), ('126k-141k', 'Fully Paid')])\n",
    "df_pivot_grade_ann_inc_co.reset_index()[('grade',)]"
   ]
  },
  {
   "cell_type": "code",
   "execution_count": 166,
   "id": "ceb870b8",
   "metadata": {},
   "outputs": [
    {
     "data": {
      "text/plain": [
       "<AxesSubplot:>"
      ]
     },
     "execution_count": 166,
     "metadata": {},
     "output_type": "execute_result"
    },
    {
     "data": {
      "image/png": "[encoded data removed]",
      "text/plain": [
       "<Figure size 1080x360 with 1 Axes>"
      ]
     },
     "metadata": {
      "needs_background": "light"
     },
     "output_type": "display_data"
    }
   ],
   "source": [
    "fig, axs = plt.subplots(1, 1, figsize=(15,5))\n",
    "plt.xticks(rotation=90)\n",
    "sns.barplot(data=df_pivot_grade_ann_inc_co.reset_index())"
   ]
  },
  {
   "cell_type": "code",
   "execution_count": null,
   "id": "d6e61f78",
   "metadata": {},
   "outputs": [],
   "source": []
  }
 ],
 "metadata": {
  "kernelspec": {
   "display_name": "Python 3 (ipykernel)",
   "language": "python",
   "name": "python3"
  },
  "language_info": {
   "codemirror_mode": {
    "name": "ipython",
    "version": 3
   },
   "file_extension": ".py",
   "mimetype": "text/x-python",
   "name": "python",
   "nbconvert_exporter": "python",
   "pygments_lexer": "ipython3",
   "version": "3.9.7"
  }
 },
 "nbformat": 4,
 "nbformat_minor": 5
}
