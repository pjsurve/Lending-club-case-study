{
 "cells": [
  {
   "cell_type": "code",
   "execution_count": null,
   "id": "4bcc7a58",
   "metadata": {},
   "outputs": [],
   "source": [
    "import numpy as np\n",
    "import pandas as pd\n",
    "import seaborn as sns\n",
    "import warnings\n",
    "warnings.filterwarnings('ignore')\n",
    "import datetime as dt\n",
    "import matplotlib.pyplot as plt\n",
    "from matplotlib.ticker import FuncFormatter"
   ]
  },
  {
   "cell_type": "code",
   "execution_count": null,
   "id": "1e7f8cb8",
   "metadata": {},
   "outputs": [],
   "source": [
    "df = pd.read_csv('loan.csv')"
   ]
  },
  {
   "cell_type": "code",
   "execution_count": null,
   "id": "b19ba0c3",
   "metadata": {},
   "outputs": [],
   "source": [
    "df.shape"
   ]
  },
  {
   "cell_type": "code",
   "execution_count": null,
   "id": "5033c14e",
   "metadata": {},
   "outputs": [],
   "source": [
    "df.head()"
   ]
  },
  {
   "cell_type": "markdown",
   "id": "fa4775e8",
   "metadata": {},
   "source": [
    "## Data cleaning"
   ]
  },
  {
   "cell_type": "markdown",
   "id": "6099ccc0",
   "metadata": {},
   "source": [
    "### Missing values"
   ]
  },
  {
   "cell_type": "markdown",
   "id": "a950d71f",
   "metadata": {},
   "source": [
    "##### Checking for null columns"
   ]
  },
  {
   "cell_type": "code",
   "execution_count": null,
   "id": "ccf706f8",
   "metadata": {
    "scrolled": true
   },
   "outputs": [],
   "source": [
    "df.isnull().sum()"
   ]
  },
  {
   "cell_type": "markdown",
   "id": "2639b636",
   "metadata": {},
   "source": [
    "##### Dropping all columns having only null values"
   ]
  },
  {
   "cell_type": "code",
   "execution_count": null,
   "id": "c16e2773",
   "metadata": {},
   "outputs": [],
   "source": [
    "df.dropna(axis=1, how='all', inplace=True)"
   ]
  },
  {
   "cell_type": "code",
   "execution_count": null,
   "id": "013f32d7",
   "metadata": {},
   "outputs": [],
   "source": [
    "df.shape"
   ]
  },
  {
   "cell_type": "code",
   "execution_count": null,
   "id": "2fab1c26",
   "metadata": {},
   "outputs": [],
   "source": [
    "df.isnull().sum()"
   ]
  },
  {
   "cell_type": "markdown",
   "id": "ee281ddb",
   "metadata": {},
   "source": [
    "##### Additional columns to be removed\n",
    "- Columns like next_pymnt_d, mths_since_last_record, mths_since_last_delinq have too many null values hence they are useless\n",
    "- desc, emp_title, url, title are of no use in this case\n",
    "- collections_12_mths_ex_med, chargeoff_within_12_mths, tax_liens columns have only 0 and NA\n",
    "- last_pymnt_d, last_credit_pull_d are also of no use in this case"
   ]
  },
  {
   "cell_type": "code",
   "execution_count": null,
   "id": "d7ee5def",
   "metadata": {},
   "outputs": [],
   "source": [
    "df.drop(columns=['next_pymnt_d', 'mths_since_last_record', 'mths_since_last_delinq', 'desc', 'emp_title', 'url', 'title', 'collections_12_mths_ex_med', 'chargeoff_within_12_mths', 'tax_liens', 'last_pymnt_d', 'last_credit_pull_d'], axis=1, inplace=True)"
   ]
  },
  {
   "cell_type": "code",
   "execution_count": null,
   "id": "4537a325",
   "metadata": {},
   "outputs": [],
   "source": [
    "df.isnull().sum()"
   ]
  },
  {
   "cell_type": "markdown",
   "id": "ad4826e3",
   "metadata": {},
   "source": [
    "##### Searching for columns having only one unique value\n",
    "These columns can be droped because there cannot be any analysis done"
   ]
  },
  {
   "cell_type": "code",
   "execution_count": null,
   "id": "554d8a7a",
   "metadata": {},
   "outputs": [],
   "source": [
    "df.drop(columns = [c for c in list(df) if len(df[c].unique()) == 1], axis=1, inplace=True)"
   ]
  },
  {
   "cell_type": "code",
   "execution_count": null,
   "id": "be49b720",
   "metadata": {},
   "outputs": [],
   "source": [
    "df.isnull().sum()"
   ]
  },
  {
   "cell_type": "markdown",
   "id": "33888a53",
   "metadata": {},
   "source": [
    "### Assigning values\n",
    "###### emp_length"
   ]
  },
  {
   "cell_type": "markdown",
   "id": "a558fd5b",
   "metadata": {},
   "source": [
    "For 'emp_length' column lets assume 0 as less than 1 year and 10 >= 10 years, other numbers remain as it is"
   ]
  },
  {
   "cell_type": "code",
   "execution_count": null,
   "id": "a0029961",
   "metadata": {},
   "outputs": [],
   "source": [
    "df.emp_length.value_counts()"
   ]
  },
  {
   "cell_type": "code",
   "execution_count": null,
   "id": "4576f1f3",
   "metadata": {},
   "outputs": [],
   "source": [
    "df.emp_length.unique()[:-1]"
   ]
  },
  {
   "cell_type": "code",
   "execution_count": null,
   "id": "3c3a7ee2",
   "metadata": {},
   "outputs": [],
   "source": [
    "df = df.replace(df.emp_length.unique()[:-1], [10, 0, 1, 3, 8, 9, 4, 5, 6, 2, 7])"
   ]
  },
  {
   "cell_type": "code",
   "execution_count": null,
   "id": "6123d2df",
   "metadata": {},
   "outputs": [],
   "source": [
    "df.emp_length.describe()"
   ]
  },
  {
   "cell_type": "markdown",
   "id": "be4eec39",
   "metadata": {},
   "source": [
    "Since mean and median of the emp_length are almost equal, filling up the missing values by 4"
   ]
  },
  {
   "cell_type": "code",
   "execution_count": null,
   "id": "0e045939",
   "metadata": {},
   "outputs": [],
   "source": [
    "df.emp_length.fillna(4, inplace=True)"
   ]
  },
  {
   "cell_type": "code",
   "execution_count": null,
   "id": "ebe8b076",
   "metadata": {},
   "outputs": [],
   "source": [
    "df.isnull().sum()"
   ]
  },
  {
   "cell_type": "markdown",
   "id": "935ab80b",
   "metadata": {},
   "source": [
    "##### revol_util"
   ]
  },
  {
   "cell_type": "code",
   "execution_count": null,
   "id": "461f8b48",
   "metadata": {},
   "outputs": [],
   "source": [
    "df.revol_util.value_counts()"
   ]
  },
  {
   "cell_type": "markdown",
   "id": "8ae66478",
   "metadata": {},
   "source": [
    "Changing values to float"
   ]
  },
  {
   "cell_type": "code",
   "execution_count": null,
   "id": "32fdc823",
   "metadata": {},
   "outputs": [],
   "source": [
    "df.revol_util = df.revol_util.apply(lambda x: x if type(x) == float else float(x[:-1]))"
   ]
  },
  {
   "cell_type": "code",
   "execution_count": null,
   "id": "76f6e573",
   "metadata": {},
   "outputs": [],
   "source": [
    "df.revol_util.describe()"
   ]
  },
  {
   "cell_type": "markdown",
   "id": "a10b15fd",
   "metadata": {},
   "source": [
    "Since there is not much difference between mean and median, replacing null values with mean"
   ]
  },
  {
   "cell_type": "code",
   "execution_count": null,
   "id": "a9bbfca9",
   "metadata": {},
   "outputs": [],
   "source": [
    "df.revol_util.fillna(df.revol_util.mean(), inplace=True)"
   ]
  },
  {
   "cell_type": "markdown",
   "id": "35f019b6",
   "metadata": {},
   "source": [
    "##### int_rate\n",
    "Similarly converting interest rate to float"
   ]
  },
  {
   "cell_type": "code",
   "execution_count": null,
   "id": "b819e4af",
   "metadata": {},
   "outputs": [],
   "source": [
    "df.int_rate = df.int_rate.apply(lambda x: x if type(x) == float else float(x[:-1]))"
   ]
  },
  {
   "cell_type": "code",
   "execution_count": null,
   "id": "6464600d",
   "metadata": {},
   "outputs": [],
   "source": [
    "df.isnull().sum()"
   ]
  },
  {
   "cell_type": "markdown",
   "id": "a0c30e68",
   "metadata": {},
   "source": [
    "##### pub_rec_bankruptcies       "
   ]
  },
  {
   "cell_type": "code",
   "execution_count": null,
   "id": "d260e229",
   "metadata": {},
   "outputs": [],
   "source": [
    "df.pub_rec_bankruptcies.describe()"
   ]
  },
  {
   "cell_type": "markdown",
   "id": "f3bf67fd",
   "metadata": {},
   "source": [
    "Since mean and median are nearly same i.e. 0, replacing null vlaues by 0"
   ]
  },
  {
   "cell_type": "code",
   "execution_count": null,
   "id": "b1fa5399",
   "metadata": {},
   "outputs": [],
   "source": [
    "df.pub_rec_bankruptcies.fillna(0, inplace=True)"
   ]
  },
  {
   "cell_type": "code",
   "execution_count": null,
   "id": "76d283d5",
   "metadata": {},
   "outputs": [],
   "source": [
    "df.isnull().sum()"
   ]
  },
  {
   "cell_type": "markdown",
   "id": "b2a9be3e",
   "metadata": {},
   "source": [
    "##### home_ownership             "
   ]
  },
  {
   "cell_type": "code",
   "execution_count": null,
   "id": "3a69b49b",
   "metadata": {},
   "outputs": [],
   "source": [
    "df.home_ownership.value_counts()"
   ]
  },
  {
   "cell_type": "markdown",
   "id": "0e9eceff",
   "metadata": {},
   "source": [
    "As per data dictionary, there are only 4 values for home ownership RENT, MORTGAGE, OWN, OTHER.\n",
    "Also, RENT has maximum count. Hence, replacing 3 NONE values with RENT"
   ]
  },
  {
   "cell_type": "code",
   "execution_count": null,
   "id": "0cd4be1a",
   "metadata": {},
   "outputs": [],
   "source": [
    "df.home_ownership = df.home_ownership.replace(\"NONE\", 'RENT')"
   ]
  },
  {
   "cell_type": "markdown",
   "id": "a57b5357",
   "metadata": {},
   "source": [
    "#### The current loans are not going to help in analysis. Hence dropping the same"
   ]
  },
  {
   "cell_type": "code",
   "execution_count": null,
   "id": "a07758cd",
   "metadata": {},
   "outputs": [],
   "source": [
    "df = df[df.loan_status != 'Current']"
   ]
  },
  {
   "cell_type": "markdown",
   "id": "a189ec19",
   "metadata": {},
   "source": [
    "### Removing outliers"
   ]
  },
  {
   "cell_type": "markdown",
   "id": "89ba311e",
   "metadata": {},
   "source": [
    "#### Total income"
   ]
  },
  {
   "cell_type": "code",
   "execution_count": null,
   "id": "6dd042c0",
   "metadata": {},
   "outputs": [],
   "source": [
    "df.annual_inc.plot.box()"
   ]
  },
  {
   "cell_type": "code",
   "execution_count": null,
   "id": "cd47a4fd",
   "metadata": {},
   "outputs": [],
   "source": [
    "#Removing outliers based on 95 percentile rule\n",
    "df = df[df.annual_inc <= df.annual_inc.quantile(0.95)]"
   ]
  },
  {
   "cell_type": "code",
   "execution_count": null,
   "id": "f92945c4",
   "metadata": {},
   "outputs": [],
   "source": [
    "df.annual_inc.plot.box()"
   ]
  },
  {
   "cell_type": "markdown",
   "id": "759096b7",
   "metadata": {},
   "source": [
    "### Loan amount"
   ]
  },
  {
   "cell_type": "code",
   "execution_count": null,
   "id": "1f566c84",
   "metadata": {},
   "outputs": [],
   "source": [
    "df.loan_amnt.plot.box()"
   ]
  },
  {
   "cell_type": "markdown",
   "id": "8099481c",
   "metadata": {},
   "source": [
    "There are not many outlier hence keeping the records same"
   ]
  },
  {
   "cell_type": "code",
   "execution_count": null,
   "id": "ce288006",
   "metadata": {
    "scrolled": true
   },
   "outputs": [],
   "source": [
    "df.loan_amnt.quantile(0.95)"
   ]
  },
  {
   "cell_type": "markdown",
   "id": "272c1095",
   "metadata": {},
   "source": [
    "### Deriving values"
   ]
  },
  {
   "cell_type": "markdown",
   "id": "e7f3fafa",
   "metadata": {},
   "source": [
    "#### Month and year from date "
   ]
  },
  {
   "cell_type": "code",
   "execution_count": null,
   "id": "ac90084e",
   "metadata": {},
   "outputs": [],
   "source": [
    "#Converting mmm-yy to date\n",
    "pd.to_datetime(df.issue_d, format='%b-%y')"
   ]
  },
  {
   "cell_type": "code",
   "execution_count": null,
   "id": "66f7ab52",
   "metadata": {},
   "outputs": [],
   "source": [
    "df['issue_month']=df.issue_d.apply(lambda x: dt.datetime.strptime(x, '%b-%y').month)"
   ]
  },
  {
   "cell_type": "code",
   "execution_count": null,
   "id": "47fda477",
   "metadata": {},
   "outputs": [],
   "source": [
    "df['issue_year']=df.issue_d.apply(lambda x: dt.datetime.strptime(x, '%b-%y').year)"
   ]
  },
  {
   "cell_type": "markdown",
   "id": "77afbf4c",
   "metadata": {},
   "source": [
    "#### Savings from installment and monthly income"
   ]
  },
  {
   "cell_type": "code",
   "execution_count": null,
   "id": "f6efc99f",
   "metadata": {},
   "outputs": [],
   "source": [
    "df['monthly_savings']=(df.annual_inc / 12) - df.installment"
   ]
  },
  {
   "cell_type": "code",
   "execution_count": null,
   "id": "17cfa5d0",
   "metadata": {},
   "outputs": [],
   "source": [
    "df.head()"
   ]
  },
  {
   "cell_type": "code",
   "execution_count": null,
   "id": "d3e41b68",
   "metadata": {},
   "outputs": [],
   "source": [
    "df.shape"
   ]
  },
  {
   "cell_type": "markdown",
   "id": "9838622f",
   "metadata": {},
   "source": [
    "### Exploring Columns"
   ]
  },
  {
   "cell_type": "code",
   "execution_count": null,
   "id": "92a32cec",
   "metadata": {
    "scrolled": false
   },
   "outputs": [],
   "source": [
    "df.iloc[0:7, 0:12]"
   ]
  },
  {
   "cell_type": "code",
   "execution_count": null,
   "id": "bccb28e5",
   "metadata": {
    "scrolled": true
   },
   "outputs": [],
   "source": [
    "df.iloc[0:7, 12:24]"
   ]
  },
  {
   "cell_type": "code",
   "execution_count": null,
   "id": "78fc832a",
   "metadata": {
    "scrolled": true
   },
   "outputs": [],
   "source": [
    "df.iloc[0:7, 24:36]"
   ]
  },
  {
   "cell_type": "code",
   "execution_count": null,
   "id": "a415205b",
   "metadata": {},
   "outputs": [],
   "source": [
    "df.iloc[0:7, 36:48]"
   ]
  },
  {
   "cell_type": "code",
   "execution_count": null,
   "id": "7abefee4",
   "metadata": {
    "scrolled": false
   },
   "outputs": [],
   "source": [
    "df.loan_amnt.value_counts()"
   ]
  },
  {
   "cell_type": "code",
   "execution_count": null,
   "id": "27218d49",
   "metadata": {
    "scrolled": true
   },
   "outputs": [],
   "source": [
    "df.loan_amnt.describe()"
   ]
  },
  {
   "cell_type": "code",
   "execution_count": null,
   "id": "7bc18a60",
   "metadata": {},
   "outputs": [],
   "source": [
    "sns.histplot(df, x=\"loan_amnt\",bins=20, alpha=0.5)"
   ]
  },
  {
   "cell_type": "code",
   "execution_count": null,
   "id": "5275e0d8",
   "metadata": {},
   "outputs": [],
   "source": [
    "sns.histplot(df, x=\"loan_amnt\", bins=5, alpha=0.7)"
   ]
  },
  {
   "cell_type": "markdown",
   "id": "9607ff7a",
   "metadata": {},
   "source": [
    "### Exploring relationship between Loan Amount and Delinquency"
   ]
  },
  {
   "cell_type": "code",
   "execution_count": null,
   "id": "8f3fb70e",
   "metadata": {},
   "outputs": [],
   "source": [
    "#df = df.drop(['binned'], axis=1)\n",
    "#df.iloc[0:7, 36:48]"
   ]
  },
  {
   "cell_type": "code",
   "execution_count": null,
   "id": "e65a2e98",
   "metadata": {
    "scrolled": true
   },
   "outputs": [],
   "source": [
    "# binning or bucketing with labels\n",
    "\n",
    "bins = [0, 5000, 10000, 15000, 20000, 25000, 30000, 35000, 40000]\n",
    "labels =['0-5k','5k-10k','10k-15k','15k-20k', '20k-25k', '25k-30k', '30k-35k', '35k-40k']\n",
    "df['loan_amnt_bin'] = pd.cut(df['loan_amnt'], bins,labels=labels)\n",
    "df.iloc[0:7, 36:48]"
   ]
  },
  {
   "cell_type": "code",
   "execution_count": null,
   "id": "74400c93",
   "metadata": {},
   "outputs": [],
   "source": [
    "bins = [0, 2, 4, 6, 8, 10]\n",
    "labels =['0-2 years','2-4 years','4-6 years','6-8 years', '8-10 years']\n",
    "df['emp_length_bin'] = pd.cut(df['emp_length'], bins,labels=labels)"
   ]
  },
  {
   "cell_type": "code",
   "execution_count": null,
   "id": "39ee0ec8",
   "metadata": {},
   "outputs": [],
   "source": [
    "df.iloc[0:7, 36:48]"
   ]
  },
  {
   "cell_type": "code",
   "execution_count": null,
   "id": "5bfc3259",
   "metadata": {},
   "outputs": [],
   "source": [
    "df1 = df[['loan_amnt_bin','loan_status' ,'member_id']]\n",
    "df1.head()"
   ]
  },
  {
   "cell_type": "code",
   "execution_count": null,
   "id": "d233c243",
   "metadata": {},
   "outputs": [],
   "source": [
    "df1_pivot = pd.pivot_table(df1, index='loan_amnt_bin', values = 'member_id',  aggfunc='count')\n",
    "df1_pivot.head()"
   ]
  },
  {
   "cell_type": "code",
   "execution_count": null,
   "id": "a1253c71",
   "metadata": {},
   "outputs": [],
   "source": [
    "\n",
    "\n",
    "df2_pivot = pd.pivot_table(df1, index='loan_amnt_bin', columns = 'loan_status', values = 'member_id',  aggfunc='count')\n",
    "df2_pivot.head()"
   ]
  },
  {
   "cell_type": "code",
   "execution_count": null,
   "id": "057ef834",
   "metadata": {
    "scrolled": true
   },
   "outputs": [],
   "source": [
    "df2_pivot['Ch_O_%'] = round((df2_pivot['Charged Off']/(df2_pivot['Fully Paid']+df2_pivot['Charged Off'])*100),2)\n",
    "df2_pivot.head()"
   ]
  },
  {
   "cell_type": "code",
   "execution_count": null,
   "id": "50472306",
   "metadata": {},
   "outputs": [],
   "source": [
    "df2_pivot['FP_%'] = round((df2_pivot['Fully Paid']/(df2_pivot['Fully Paid']+df2_pivot['Charged Off'])*100),2)\n",
    "df2_pivot.head()\n",
    "df1_pivot.plot(kind='bar')"
   ]
  },
  {
   "cell_type": "code",
   "execution_count": null,
   "id": "b6ef9121",
   "metadata": {
    "scrolled": true
   },
   "outputs": [],
   "source": [
    "df2_pivot[['Ch_O_%', 'FP_%']].plot.bar(stacked = True)"
   ]
  },
  {
   "cell_type": "markdown",
   "id": "c4637e69",
   "metadata": {},
   "source": [
    "### Interim Takeaway: There's an increasing trend of delinquency with increasing loan amount\n",
    "#### Parking this analysis here for now"
   ]
  },
  {
   "cell_type": "markdown",
   "id": "ec2acd75",
   "metadata": {},
   "source": [
    "### ---   ---   ---"
   ]
  },
  {
   "cell_type": "code",
   "execution_count": null,
   "id": "00a9f27a",
   "metadata": {
    "scrolled": false
   },
   "outputs": [],
   "source": [
    "df.corr().dti[df.corr().dti < 0.9].plot(kind='bar')"
   ]
  },
  {
   "cell_type": "code",
   "execution_count": null,
   "id": "c169dfd6",
   "metadata": {
    "scrolled": true
   },
   "outputs": [],
   "source": [
    "fig, axs = plt.subplots(1, 2, figsize=(15,5))\n",
    "sns.histplot(x='dti', data=df[df.loan_status == 'Fully Paid'], stat='probability', y='annual_inc', bins=10, ax=axs[0], color='green')\n",
    "sns.histplot(x='dti', data=df[df.loan_status == 'Charged Off'], stat='probability', y='annual_inc', bins=10, ax=axs[1], color='red')\n",
    "plt.show()"
   ]
  },
  {
   "cell_type": "code",
   "execution_count": null,
   "id": "2c191f57",
   "metadata": {},
   "outputs": [],
   "source": [
    "fig, axs = plt.subplots(1, 2, figsize=(15,5))\n",
    "sns.histplot(x='home_ownership', data=df[df.loan_status == 'Fully Paid'], stat='probability', y='annual_inc', bins=10, ax=axs[0], color='green')\n",
    "sns.histplot(x='home_ownership', data=df[df.loan_status == 'Charged Off'], stat='probability', y='annual_inc', bins=10, ax=axs[1], color='red')\n",
    "plt.show()"
   ]
  },
  {
   "cell_type": "markdown",
   "id": "de4c1a70",
   "metadata": {},
   "source": [
    "### Exploring Relationship with loan amount and duration for loan amounts <=5000"
   ]
  },
  {
   "cell_type": "code",
   "execution_count": null,
   "id": "f7aa387f",
   "metadata": {},
   "outputs": [],
   "source": [
    "df.iloc[0:7, 0:12]"
   ]
  },
  {
   "cell_type": "code",
   "execution_count": null,
   "id": "7462d0eb",
   "metadata": {},
   "outputs": [],
   "source": [
    "df_5k = df.loc[df['loan_amnt'] <= 5000]\n",
    "df_5k.iloc[0:7, 12:12]"
   ]
  },
  {
   "cell_type": "code",
   "execution_count": null,
   "id": "f1d9802f",
   "metadata": {},
   "outputs": [],
   "source": [
    "df_5k.iloc[0:7, 36:48]"
   ]
  },
  {
   "cell_type": "code",
   "execution_count": null,
   "id": "f1023841",
   "metadata": {},
   "outputs": [],
   "source": [
    "df5k_1 = df_5k[['term','loan_status' ,'member_id']]\n",
    "df5k_1.head()"
   ]
  },
  {
   "cell_type": "code",
   "execution_count": null,
   "id": "d0372921",
   "metadata": {},
   "outputs": [],
   "source": [
    "#df5k1_pivot = pd.pivot_table(df5k_1, index='term', values = 'member_id',  aggfunc='count')\n",
    "df5k1_pivot.head()"
   ]
  },
  {
   "cell_type": "code",
   "execution_count": null,
   "id": "3d311a27",
   "metadata": {},
   "outputs": [],
   "source": [
    "df5k2_pivot = pd.pivot_table(df5k_1, index='term', columns = 'loan_status', values = 'member_id',  aggfunc='count')\n",
    "df5k2_pivot.head()"
   ]
  },
  {
   "cell_type": "code",
   "execution_count": null,
   "id": "0555a376",
   "metadata": {},
   "outputs": [],
   "source": [
    "df5k2_pivot['Ch_O_%'] = round((df5k2_pivot['Charged Off']/(df5k2_pivot['Fully Paid']+df5k2_pivot['Charged Off'])*100),2)\n",
    "df5k2_pivot['FP_%'] = round((df5k2_pivot['Fully Paid']/(df5k2_pivot['Fully Paid']+df5k2_pivot['Charged Off'])*100),2)\n",
    "df5k2_pivot.head()"
   ]
  },
  {
   "cell_type": "code",
   "execution_count": null,
   "id": "37f8f43d",
   "metadata": {},
   "outputs": [],
   "source": [
    "df5k2_pivot[['Ch_O_%', 'FP_%']].plot.bar(stacked = True)"
   ]
  },
  {
   "cell_type": "code",
   "execution_count": null,
   "id": "f7fef485",
   "metadata": {
    "scrolled": true
   },
   "outputs": [],
   "source": [
    "df_10k = df.loc[df['loan_amnt_bin'] == '5k-10k']\n",
    "df10k_1 = df_10k[['term','loan_status' ,'member_id']]\n",
    "#df10k_1.head()\n",
    "df_10k.iloc[0:7, 0:12]"
   ]
  },
  {
   "cell_type": "code",
   "execution_count": null,
   "id": "d617ec67",
   "metadata": {},
   "outputs": [],
   "source": []
  },
  {
   "cell_type": "code",
   "execution_count": null,
   "id": "9e076319",
   "metadata": {},
   "outputs": [],
   "source": [
    "df10k2_pivot = pd.pivot_table(df10k_1, index='term', columns = 'loan_status', values = 'member_id',  aggfunc='count')\n",
    "#df10k2_pivot.head()\n",
    "\n",
    "df10k2_pivot['Ch_O_%'] = round((df10k2_pivot['Charged Off']/( df10k2_pivot['Fully Paid']+ df10k2_pivot['Charged Off'])*100),2)\n",
    "df10k2_pivot['FP_%'] = round((df10k2_pivot['Fully Paid']/( df10k2_pivot['Fully Paid']+ df10k2_pivot['Charged Off'])*100),2)\n",
    "df10k2_pivot.head()\n",
    "\n"
   ]
  },
  {
   "cell_type": "code",
   "execution_count": null,
   "id": "e365f431",
   "metadata": {},
   "outputs": [],
   "source": [
    "df10k2_pivot[['Ch_O_%', 'FP_%']].plot.bar(stacked = True)"
   ]
  },
  {
   "cell_type": "code",
   "execution_count": null,
   "id": "61df7374",
   "metadata": {},
   "outputs": [],
   "source": [
    "df_15k = df.loc[df['loan_amnt_bin'] == '10k-15k']\n",
    "df15k_1 = df_15k[['term','loan_status' ,'member_id']]\n",
    "#df15k_1.head()\n",
    "df_15k.iloc[0:7, 0:12]\n"
   ]
  },
  {
   "cell_type": "code",
   "execution_count": null,
   "id": "7bde0688",
   "metadata": {},
   "outputs": [],
   "source": [
    "df15k2_pivot = pd.pivot_table(df15k_1, index='term', columns = 'loan_status', values = 'member_id',  aggfunc='count')\n",
    "#df15k2_pivot.head()\n"
   ]
  },
  {
   "cell_type": "code",
   "execution_count": null,
   "id": "902edc2c",
   "metadata": {},
   "outputs": [],
   "source": [
    "df15k2_pivot['Ch_O_%'] = round((df15k2_pivot['Charged Off']/( df15k2_pivot['Fully Paid']+ df15k2_pivot['Charged Off'])*100),2)\n",
    "df15k2_pivot['FP_%'] = round((df15k2_pivot['Fully Paid']/( df15k2_pivot['Fully Paid']+ df15k2_pivot['Charged Off'])*100),2)\n",
    "df15k2_pivot.head()\n"
   ]
  },
  {
   "cell_type": "code",
   "execution_count": null,
   "id": "d42a6bb3",
   "metadata": {},
   "outputs": [],
   "source": [
    "df15k2_pivot[['Ch_O_%', 'FP_%']].plot.bar(stacked = True)"
   ]
  },
  {
   "cell_type": "code",
   "execution_count": null,
   "id": "e12ecf79",
   "metadata": {},
   "outputs": [],
   "source": [
    "df_20k = df.loc[df['loan_amnt_bin'] == '15k-20k']\n",
    "df20k_1 = df_20k[['term','loan_status' ,'member_id']]\n",
    "#df20k_1.head()\n",
    "df_20k.iloc[0:7, 0:12]\n"
   ]
  },
  {
   "cell_type": "code",
   "execution_count": null,
   "id": "130ee6cf",
   "metadata": {},
   "outputs": [],
   "source": [
    "df20k2_pivot = pd.pivot_table(df20k_1, index='term', columns = 'loan_status', values = 'member_id',  aggfunc='count')\n",
    "df20k2_pivot.head()\n"
   ]
  },
  {
   "cell_type": "code",
   "execution_count": null,
   "id": "8cf562be",
   "metadata": {},
   "outputs": [],
   "source": [
    "df20k2_pivot['Ch_O_%'] = round((df20k2_pivot['Charged Off']/( df20k2_pivot['Fully Paid']+ df20k2_pivot['Charged Off'])*100),2)\n",
    "df20k2_pivot['FP_%'] = round((df20k2_pivot['Fully Paid']/( df20k2_pivot['Fully Paid']+ df20k2_pivot['Charged Off'])*100),2)\n",
    "df20k2_pivot.head()\n"
   ]
  },
  {
   "cell_type": "code",
   "execution_count": null,
   "id": "2358de11",
   "metadata": {
    "scrolled": true
   },
   "outputs": [],
   "source": [
    "df20k2_pivot[['Ch_O_%', 'FP_%']].plot.bar(stacked = True)"
   ]
  },
  {
   "cell_type": "markdown",
   "id": "7d27c33a",
   "metadata": {},
   "source": []
  },
  {
   "cell_type": "code",
   "execution_count": null,
   "id": "eff3ed68",
   "metadata": {},
   "outputs": [],
   "source": [
    "df_term1 = df[['term','loan_status' ,'member_id']]\n",
    "#df20k_1.head()\n",
    "df_term1.iloc[0:7, 0:12]\n"
   ]
  },
  {
   "cell_type": "code",
   "execution_count": null,
   "id": "dc9a757d",
   "metadata": {},
   "outputs": [],
   "source": [
    "df_term1_pivot = pd.pivot_table(df_term1, index='term', columns = 'loan_status', values = 'member_id',  aggfunc='count')\n",
    "df_term1_pivot.head()\n"
   ]
  },
  {
   "cell_type": "code",
   "execution_count": null,
   "id": "405e2c9a",
   "metadata": {},
   "outputs": [],
   "source": [
    "df_term1_pivot['Ch_O_%'] = round((df_term1_pivot['Charged Off']/( df_term1_pivot['Fully Paid']+ df_term1_pivot['Charged Off'])*100),2)\n",
    "df_term1_pivot['FP_%'] = round((df_term1_pivot['Fully Paid']/( df_term1_pivot['Fully Paid']+ df_term1_pivot['Charged Off'])*100),2)\n",
    "df_term1_pivot.head()\n"
   ]
  },
  {
   "cell_type": "code",
   "execution_count": null,
   "id": "4630866c",
   "metadata": {},
   "outputs": [],
   "source": [
    "df_term1_pivot[['Ch_O_%', 'FP_%']].plot.bar(stacked = True)"
   ]
  },
  {
   "cell_type": "markdown",
   "id": "6dca5e51",
   "metadata": {},
   "source": [
    "### 1). ~14% increased chance of delinquency if the term is 60 months compared to 36 months\n",
    "### 2). Individual Bins analyses also reveal similar picture - higher percentage of delinquency in 60 months term category compared to 36 months"
   ]
  },
  {
   "cell_type": "code",
   "execution_count": null,
   "id": "7073f7a3",
   "metadata": {},
   "outputs": [],
   "source": []
  },
  {
   "cell_type": "markdown",
   "id": "ed8950b6",
   "metadata": {},
   "source": [
    "## Univariate analysis"
   ]
  },
  {
   "cell_type": "markdown",
   "id": "bbe089e0",
   "metadata": {},
   "source": [
    "#### purpose"
   ]
  },
  {
   "cell_type": "code",
   "execution_count": null,
   "id": "315dacdc",
   "metadata": {},
   "outputs": [],
   "source": [
    "sns.displot(df[df.loan_status == 'Charged Off'], x=\"purpose\")\n",
    "plt.xticks(rotation=90)\n",
    "plt.show()"
   ]
  },
  {
   "cell_type": "markdown",
   "id": "23b8b8b1",
   "metadata": {},
   "source": [
    "<span style= 'background:yellow'>Based on above chart, people who take loan for debt_consolidation are the ones to be defaulters</span>"
   ]
  },
  {
   "cell_type": "markdown",
   "id": "2c033f54",
   "metadata": {},
   "source": [
    "#### issue_year"
   ]
  },
  {
   "cell_type": "code",
   "execution_count": null,
   "id": "792bee8e",
   "metadata": {},
   "outputs": [],
   "source": [
    "df[df.loan_status == 'Charged Off'].issue_year.value_counts().sort_index().plot.bar()"
   ]
  },
  {
   "cell_type": "markdown",
   "id": "eaf03d24",
   "metadata": {},
   "source": [
    "<span style= 'background:yellow'>Based on above chart, most of the defaulters are from year 2011. Maybe because of recession.</span>"
   ]
  },
  {
   "cell_type": "markdown",
   "id": "fe230d1e",
   "metadata": {},
   "source": [
    "#### loan_amnt"
   ]
  },
  {
   "cell_type": "code",
   "execution_count": null,
   "id": "c539e9e7",
   "metadata": {
    "scrolled": true
   },
   "outputs": [],
   "source": [
    "sns.histplot(df, x=\"loan_amnt\", bins=5, alpha=0.7)"
   ]
  },
  {
   "cell_type": "markdown",
   "id": "83074c2d",
   "metadata": {},
   "source": [
    "<span style= 'background:yellow'>People are mostly applying for lower loan amounts.</span>"
   ]
  },
  {
   "cell_type": "markdown",
   "id": "80456332",
   "metadata": {},
   "source": [
    "#### home_ownership"
   ]
  },
  {
   "cell_type": "code",
   "execution_count": null,
   "id": "c9495084",
   "metadata": {},
   "outputs": [],
   "source": []
  },
  {
   "cell_type": "markdown",
   "id": "b71430e4",
   "metadata": {},
   "source": [
    "## Bivariate analysis "
   ]
  },
  {
   "cell_type": "code",
   "execution_count": null,
   "id": "7804a036",
   "metadata": {},
   "outputs": [],
   "source": [
    "fig, ax = plt.subplots(1,1)\n",
    "sns.histplot(df[df.loan_status == 'Charged Off'], x=\"int_rate\", bins=5, stat='probability', ax=ax, label=\"Charged Off\", color='red', alpha=0.4)\n",
    "sns.histplot(df[df.loan_status == 'Fully Paid'], x=\"int_rate\", bins=5, stat='probability', ax=ax, label=\"Fully Paid\", color='green', alpha=0.4)\n",
    "ax.legend()\n",
    "plt.show()"
   ]
  },
  {
   "cell_type": "markdown",
   "id": "6df3817d",
   "metadata": {},
   "source": [
    "<ul>\n",
    "    <li><span style= 'background:yellow'>From above graph it is clear that loans with interest rate between 12.5 - 20 have high probability of getting charged off\n",
    "    <li><span style= 'background:yellow'>Also it can be seen that as interest rate increases probability of loan getting defaulted increases</ul>\n"
   ]
  },
  {
   "cell_type": "code",
   "execution_count": null,
   "id": "04fea362",
   "metadata": {},
   "outputs": [],
   "source": [
    "fig, axs = plt.subplots(1, 4, figsize=(15, 7))\n",
    "\n",
    "sns.histplot(data=df[(df.loan_status == 'Charged Off') & (df.home_ownership == 'RENT') ], x=\"home_ownership\", y=\"monthly_savings\", kde=True, color=\"skyblue\", ax=axs[0])\n",
    "sns.histplot(data=df[(df.loan_status == 'Charged Off') & (df.home_ownership == 'MORTGAGE')], x=\"home_ownership\", y=\"monthly_savings\", kde=True, color=\"olive\", ax=axs[1])\n",
    "sns.histplot(data=df[(df.loan_status == 'Charged Off') & (df.home_ownership == 'OWN')], x=\"home_ownership\", y=\"monthly_savings\", kde=True, color=\"gold\", ax=axs[2])\n",
    "sns.histplot(data=df[(df.loan_status == 'Charged Off') & (df.home_ownership == 'OTHER')], x=\"home_ownership\", y=\"monthly_savings\", kde=True, color=\"teal\", ax=axs[3])\n",
    "\n",
    "plt.show()"
   ]
  },
  {
   "cell_type": "markdown",
   "id": "7202acaf",
   "metadata": {},
   "source": [
    "<span style= 'background:yellow'>People with rented or mortgaged house with saving between 3000 - 4500 are highly likely to be defaulters "
   ]
  },
  {
   "cell_type": "code",
   "execution_count": null,
   "id": "ac2739fd",
   "metadata": {
    "scrolled": true
   },
   "outputs": [],
   "source": [
    "df.iloc[0:7, 0:12]"
   ]
  },
  {
   "cell_type": "code",
   "execution_count": null,
   "id": "1c2d2d49",
   "metadata": {},
   "outputs": [],
   "source": [
    "df.iloc[0:7, 12:24]"
   ]
  },
  {
   "cell_type": "code",
   "execution_count": null,
   "id": "1a104865",
   "metadata": {},
   "outputs": [],
   "source": [
    "df.iloc[0:7, 24:36]"
   ]
  },
  {
   "cell_type": "code",
   "execution_count": null,
   "id": "e9b2f080",
   "metadata": {},
   "outputs": [],
   "source": [
    "df.iloc[0:7, 36:48]"
   ]
  },
  {
   "cell_type": "markdown",
   "id": "300e00cb",
   "metadata": {},
   "source": [
    "### Exploring correlation between Loan Amnt and Int. Rate"
   ]
  },
  {
   "cell_type": "code",
   "execution_count": null,
   "id": "19516db8",
   "metadata": {},
   "outputs": [],
   "source": [
    "df_amnt_vs_int = df[['loan_amnt', 'int_rate']]\n",
    "df_amnt_vs_int.head()"
   ]
  },
  {
   "cell_type": "code",
   "execution_count": null,
   "id": "3f964af0",
   "metadata": {},
   "outputs": [],
   "source": [
    "df_amnt_vs_int.plot.scatter(x = 'loan_amnt', y = 'int_rate', figsize=(10, 10))"
   ]
  },
  {
   "cell_type": "code",
   "execution_count": null,
   "id": "194f32aa",
   "metadata": {},
   "outputs": [],
   "source": [
    "df_amnt_vs_int.corr(method ='pearson')"
   ]
  },
  {
   "cell_type": "markdown",
   "id": "99d3c2ee",
   "metadata": {},
   "source": [
    "#### Correlation is 0.3% between Loan Amount and Int. Rate. Can be omitted from further analysis. "
   ]
  },
  {
   "cell_type": "code",
   "execution_count": null,
   "id": "5016de34",
   "metadata": {},
   "outputs": [],
   "source": [
    "df.emp_length.describe()"
   ]
  },
  {
   "cell_type": "code",
   "execution_count": null,
   "id": "30824ff5",
   "metadata": {},
   "outputs": [],
   "source": [
    "\n",
    "df_home = df[['home_ownership','loan_status' ,'member_id']]\n",
    "\n",
    "df_home.iloc[0:7, 0:12]\n"
   ]
  },
  {
   "cell_type": "code",
   "execution_count": null,
   "id": "ed29e172",
   "metadata": {},
   "outputs": [],
   "source": [
    "df_home_pivot = pd.pivot_table(df_home, index='home_ownership', columns = 'loan_status', values = 'member_id',  aggfunc='count')\n",
    "df_home_pivot.head()\n"
   ]
  },
  {
   "cell_type": "code",
   "execution_count": null,
   "id": "60d34771",
   "metadata": {},
   "outputs": [],
   "source": [
    "df_home_pivot['Ch_O_%'] = round((df_home_pivot['Charged Off']/( df_home_pivot['Fully Paid']+ df_home_pivot['Charged Off'])*100),2)\n",
    "df_home_pivot['FP_%'] = round((df_home_pivot['Fully Paid']/( df_home_pivot['Fully Paid']+ df_home_pivot['Charged Off'])*100),2)\n",
    "df_home_pivot.head()"
   ]
  },
  {
   "cell_type": "code",
   "execution_count": null,
   "id": "36185222",
   "metadata": {},
   "outputs": [],
   "source": [
    "df_home_pivot[['Ch_O_%', 'FP_%']].plot.bar(stacked = True)"
   ]
  },
  {
   "cell_type": "code",
   "execution_count": null,
   "id": "0eefd073",
   "metadata": {},
   "outputs": [],
   "source": [
    "df_home_pivot.sort_values(by=['Ch_O_%'], ascending = False)"
   ]
  },
  {
   "cell_type": "markdown",
   "id": "77cb4c73",
   "metadata": {},
   "source": [
    "#### Delinquency is higher in 'OTHER' home category, but since the count is small compared to other categories, this cannot be taken as a directive input. Among other three categories MORTGAGE has lower chance of delinquency compared to RENT and OWN"
   ]
  },
  {
   "cell_type": "code",
   "execution_count": null,
   "id": "dd7474f1",
   "metadata": {},
   "outputs": [],
   "source": [
    "df.annual_inc.describe()"
   ]
  },
  {
   "cell_type": "code",
   "execution_count": null,
   "id": "a80dfdce",
   "metadata": {},
   "outputs": [],
   "source": [
    "sns.histplot(df, x=\"annual_inc\",bins=20, alpha=0.5)"
   ]
  },
  {
   "cell_type": "code",
   "execution_count": null,
   "id": "7ce2b588",
   "metadata": {},
   "outputs": [],
   "source": [
    "df_purp = df[['loan_status','purpose' ,'member_id']]\n",
    "\n",
    "df_purp.iloc[0:7, 0:12]\n"
   ]
  },
  {
   "cell_type": "code",
   "execution_count": null,
   "id": "0b252f0d",
   "metadata": {},
   "outputs": [],
   "source": [
    "df_purp_pivot = pd.pivot_table(df_purp, index='purpose', columns = 'loan_status', values = 'member_id',  aggfunc='count')\n",
    "df_purp_pivot.head()\n"
   ]
  },
  {
   "cell_type": "code",
   "execution_count": null,
   "id": "4f94a1ea",
   "metadata": {},
   "outputs": [],
   "source": [
    "df_purp_pivot['Ch_O_%'] = round((df_purp_pivot['Charged Off']/( df_purp_pivot['Fully Paid']+ df_purp_pivot['Charged Off'])*100),2)\n",
    "df_purp_pivot['FP_%'] = round((df_purp_pivot['Fully Paid']/( df_purp_pivot['Fully Paid']+ df_purp_pivot['Charged Off'])*100),2)\n",
    "df_purp_pivot"
   ]
  },
  {
   "cell_type": "code",
   "execution_count": null,
   "id": "bf894de1",
   "metadata": {},
   "outputs": [],
   "source": [
    "df_purp_pivot = df_purp_pivot.sort_values(by=['Ch_O_%'], ascending = False)\n",
    "df_purp_pivot"
   ]
  },
  {
   "cell_type": "code",
   "execution_count": null,
   "id": "334d7939",
   "metadata": {},
   "outputs": [],
   "source": [
    "df_purp_pivot[['Ch_O_%', 'FP_%']].plot.bar(stacked = True, figsize=(10, 5))"
   ]
  },
  {
   "cell_type": "code",
   "execution_count": null,
   "id": "4d678689",
   "metadata": {},
   "outputs": [],
   "source": [
    "27.97-10.3"
   ]
  },
  {
   "cell_type": "code",
   "execution_count": null,
   "id": "d064fbf4",
   "metadata": {},
   "outputs": [],
   "source": [
    "18.95-10.3"
   ]
  },
  {
   "cell_type": "markdown",
   "id": "03639ed7",
   "metadata": {},
   "source": [
    "#### Loan Purpose is coming out a key driver with purposes SMALL BUSINESS and showing higher delinquency ~18% higher than wedding, RENEWABLE ENERGY showing ~9% higher than wedding"
   ]
  },
  {
   "cell_type": "markdown",
   "id": "dcbf2c6e",
   "metadata": {},
   "source": [
    "#### Small business can be further analyzed by slicing the income group. For that need to bucketize the income into groups"
   ]
  },
  {
   "cell_type": "markdown",
   "id": "1750fe63",
   "metadata": {},
   "source": [
    "### Employment years"
   ]
  },
  {
   "cell_type": "code",
   "execution_count": null,
   "id": "a1309146",
   "metadata": {},
   "outputs": [],
   "source": [
    "# binning employment years\n",
    "bins = [-1, 2, 4, 6, 8, 10]\n",
    "labels =['0-2 yrs','2-4 yrs','4-6 yrs','6-8 yrs', '8-10 yrs']\n",
    "df['emp_length_bin'] = pd.cut(df['emp_length'], bins,labels=labels)\n",
    "df.iloc[0:7, 36:48]"
   ]
  },
  {
   "cell_type": "code",
   "execution_count": null,
   "id": "c4d57ab5",
   "metadata": {},
   "outputs": [],
   "source": [
    "df_emp_len_pivot = pd.pivot_table(df, index='emp_length_bin', columns='loan_status', values='member_id',  aggfunc='count').reset_index()\n",
    "df_emp_len_pivot"
   ]
  },
  {
   "cell_type": "code",
   "execution_count": null,
   "id": "e1a5a0a9",
   "metadata": {},
   "outputs": [],
   "source": [
    "df_emp_len_pivot['Ch_O_%'] = round((df_emp_len_pivot['Charged Off']/( df_emp_len_pivot['Fully Paid']+ df_emp_len_pivot['Charged Off'])*100),2)\n",
    "df_emp_len_pivot['FP_%'] = round((df_emp_len_pivot['Fully Paid']/( df_emp_len_pivot['Fully Paid']+ df_emp_len_pivot['Charged Off'])*100),2)\n",
    "print(df_emp_len_pivot)\n",
    "df_emp_len_pivot[['Ch_O_%', 'FP_%']].plot.bar(stacked = True, figsize=(10, 5))"
   ]
  },
  {
   "cell_type": "markdown",
   "id": "bc67dff3",
   "metadata": {},
   "source": [
    "<span style='background:yellow'>There is not much variation in % of defaulters in case of Employment length. Hence dropping this for further analysis."
   ]
  },
  {
   "cell_type": "code",
   "execution_count": null,
   "id": "16155130",
   "metadata": {},
   "outputs": [],
   "source": [
    "def analyse_param(df, param_name, bins, bin_labels):\n",
    "    df[param_name + '_bin'] = pd.cut(df[param_name], bins, labels=bin_labels)\n",
    "    df_temp_pivot = pd.pivot_table(df, index=param_name + '_bin', columns='loan_status', values='member_id',  aggfunc='count').reset_index()\n",
    "    df_temp_pivot['Ch_O_%'] = round((df_temp_pivot['Charged Off']/( df_temp_pivot['Fully Paid']+ df_temp_pivot['Charged Off'])*100),2)\n",
    "    df_temp_pivot['FP_%'] = round((df_temp_pivot['Fully Paid']/( df_temp_pivot['Fully Paid']+ df_temp_pivot['Charged Off'])*100),2)\n",
    "    df_temp_pivot.set_index(param_name + '_bin')\n",
    "    df_temp_pivot=df_temp_pivot.groupby(by=param_name+'_bin').sum().sort_values(by=['Ch_O_%'], ascending = False)\n",
    "    print(df_temp_pivot)\n",
    "    df_temp_pivot[['Ch_O_%', 'FP_%']].plot.bar(stacked = True, figsize=(10, 5))"
   ]
  },
  {
   "cell_type": "code",
   "execution_count": null,
   "id": "15bf327a",
   "metadata": {},
   "outputs": [],
   "source": [
    "analyse_param(df, 'dti', [-1,5,10,15,20,25,30], ['0-5', '5-10', '10-15', '15-20', '20-25', '25-30'])"
   ]
  },
  {
   "cell_type": "code",
   "execution_count": null,
   "id": "85778f68",
   "metadata": {},
   "outputs": [],
   "source": [
    "analyse_param(df, 'issue_year', [2006,2007,2008,2009,2010,2011], ['2007', '2008', '2009', '2010', '2011'])"
   ]
  },
  {
   "cell_type": "code",
   "execution_count": null,
   "id": "031d617c",
   "metadata": {},
   "outputs": [],
   "source": [
    "analyse_param(df, 'issue_month', [0,1,2,3,4,5,6,7,8,9,10,11,12], ['1','2','3','4','5','6','7','8','9','10','11','12'])"
   ]
  },
  {
   "cell_type": "code",
   "execution_count": null,
   "id": "7428b33b",
   "metadata": {},
   "outputs": [],
   "source": []
  }
 ],
 "metadata": {
  "kernelspec": {
   "display_name": "Python 3 (ipykernel)",
   "language": "python",
   "name": "python3"
  },
  "language_info": {
   "codemirror_mode": {
    "name": "ipython",
    "version": 3
   },
   "file_extension": ".py",
   "mimetype": "text/x-python",
   "name": "python",
   "nbconvert_exporter": "python",
   "pygments_lexer": "ipython3",
   "version": "3.9.7"
  }
 },
 "nbformat": 4,
 "nbformat_minor": 5
}
