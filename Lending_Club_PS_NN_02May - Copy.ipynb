{
 "cells": [
  {
   "cell_type": "code",
   "execution_count": 2,
   "id": "4bcc7a58",
   "metadata": {},
   "outputs": [],
   "source": [
    "import numpy as np\n",
    "import pandas as pd\n",
    "import seaborn as sns\n",
    "import warnings\n",
    "warnings.filterwarnings('ignore')\n",
    "import datetime as dt\n",
    "import matplotlib.pyplot as plt\n",
    "from matplotlib.ticker import FuncFormatter"
   ]
  },
  {
   "cell_type": "code",
   "execution_count": 3,
   "id": "1e7f8cb8",
   "metadata": {},
   "outputs": [],
   "source": [
    "df = pd.read_csv('loan.csv')"
   ]
  },
  {
   "cell_type": "code",
   "execution_count": 4,
   "id": "b19ba0c3",
   "metadata": {},
   "outputs": [
    {
     "data": {
      "text/plain": [
       "(39717, 111)"
      ]
     },
     "execution_count": 4,
     "metadata": {},
     "output_type": "execute_result"
    }
   ],
   "source": [
    "df.shape"
   ]
  },
  {
   "cell_type": "code",
   "execution_count": 5,
   "id": "5033c14e",
   "metadata": {},
   "outputs": [
    {
     "data": {
      "text/html": [
       "<div>\n",
       "<style scoped>\n",
       "    .dataframe tbody tr th:only-of-type {\n",
       "        vertical-align: middle;\n",
       "    }\n",
       "\n",
       "    .dataframe tbody tr th {\n",
       "        vertical-align: top;\n",
       "    }\n",
       "\n",
       "    .dataframe thead th {\n",
       "        text-align: right;\n",
       "    }\n",
       "</style>\n",
       "<table border=\"1\" class=\"dataframe\">\n",
       "  <thead>\n",
       "    <tr style=\"text-align: right;\">\n",
       "      <th></th>\n",
       "      <th>id</th>\n",
       "      <th>member_id</th>\n",
       "      <th>loan_amnt</th>\n",
       "      <th>funded_amnt</th>\n",
       "      <th>funded_amnt_inv</th>\n",
       "      <th>term</th>\n",
       "      <th>int_rate</th>\n",
       "      <th>installment</th>\n",
       "      <th>grade</th>\n",
       "      <th>sub_grade</th>\n",
       "      <th>...</th>\n",
       "      <th>num_tl_90g_dpd_24m</th>\n",
       "      <th>num_tl_op_past_12m</th>\n",
       "      <th>pct_tl_nvr_dlq</th>\n",
       "      <th>percent_bc_gt_75</th>\n",
       "      <th>pub_rec_bankruptcies</th>\n",
       "      <th>tax_liens</th>\n",
       "      <th>tot_hi_cred_lim</th>\n",
       "      <th>total_bal_ex_mort</th>\n",
       "      <th>total_bc_limit</th>\n",
       "      <th>total_il_high_credit_limit</th>\n",
       "    </tr>\n",
       "  </thead>\n",
       "  <tbody>\n",
       "    <tr>\n",
       "      <th>0</th>\n",
       "      <td>1077501</td>\n",
       "      <td>1296599</td>\n",
       "      <td>5000</td>\n",
       "      <td>5000</td>\n",
       "      <td>4975.0</td>\n",
       "      <td>36 months</td>\n",
       "      <td>10.65%</td>\n",
       "      <td>162.87</td>\n",
       "      <td>B</td>\n",
       "      <td>B2</td>\n",
       "      <td>...</td>\n",
       "      <td>NaN</td>\n",
       "      <td>NaN</td>\n",
       "      <td>NaN</td>\n",
       "      <td>NaN</td>\n",
       "      <td>0.0</td>\n",
       "      <td>0.0</td>\n",
       "      <td>NaN</td>\n",
       "      <td>NaN</td>\n",
       "      <td>NaN</td>\n",
       "      <td>NaN</td>\n",
       "    </tr>\n",
       "    <tr>\n",
       "      <th>1</th>\n",
       "      <td>1077430</td>\n",
       "      <td>1314167</td>\n",
       "      <td>2500</td>\n",
       "      <td>2500</td>\n",
       "      <td>2500.0</td>\n",
       "      <td>60 months</td>\n",
       "      <td>15.27%</td>\n",
       "      <td>59.83</td>\n",
       "      <td>C</td>\n",
       "      <td>C4</td>\n",
       "      <td>...</td>\n",
       "      <td>NaN</td>\n",
       "      <td>NaN</td>\n",
       "      <td>NaN</td>\n",
       "      <td>NaN</td>\n",
       "      <td>0.0</td>\n",
       "      <td>0.0</td>\n",
       "      <td>NaN</td>\n",
       "      <td>NaN</td>\n",
       "      <td>NaN</td>\n",
       "      <td>NaN</td>\n",
       "    </tr>\n",
       "    <tr>\n",
       "      <th>2</th>\n",
       "      <td>1077175</td>\n",
       "      <td>1313524</td>\n",
       "      <td>2400</td>\n",
       "      <td>2400</td>\n",
       "      <td>2400.0</td>\n",
       "      <td>36 months</td>\n",
       "      <td>15.96%</td>\n",
       "      <td>84.33</td>\n",
       "      <td>C</td>\n",
       "      <td>C5</td>\n",
       "      <td>...</td>\n",
       "      <td>NaN</td>\n",
       "      <td>NaN</td>\n",
       "      <td>NaN</td>\n",
       "      <td>NaN</td>\n",
       "      <td>0.0</td>\n",
       "      <td>0.0</td>\n",
       "      <td>NaN</td>\n",
       "      <td>NaN</td>\n",
       "      <td>NaN</td>\n",
       "      <td>NaN</td>\n",
       "    </tr>\n",
       "    <tr>\n",
       "      <th>3</th>\n",
       "      <td>1076863</td>\n",
       "      <td>1277178</td>\n",
       "      <td>10000</td>\n",
       "      <td>10000</td>\n",
       "      <td>10000.0</td>\n",
       "      <td>36 months</td>\n",
       "      <td>13.49%</td>\n",
       "      <td>339.31</td>\n",
       "      <td>C</td>\n",
       "      <td>C1</td>\n",
       "      <td>...</td>\n",
       "      <td>NaN</td>\n",
       "      <td>NaN</td>\n",
       "      <td>NaN</td>\n",
       "      <td>NaN</td>\n",
       "      <td>0.0</td>\n",
       "      <td>0.0</td>\n",
       "      <td>NaN</td>\n",
       "      <td>NaN</td>\n",
       "      <td>NaN</td>\n",
       "      <td>NaN</td>\n",
       "    </tr>\n",
       "    <tr>\n",
       "      <th>4</th>\n",
       "      <td>1075358</td>\n",
       "      <td>1311748</td>\n",
       "      <td>3000</td>\n",
       "      <td>3000</td>\n",
       "      <td>3000.0</td>\n",
       "      <td>60 months</td>\n",
       "      <td>12.69%</td>\n",
       "      <td>67.79</td>\n",
       "      <td>B</td>\n",
       "      <td>B5</td>\n",
       "      <td>...</td>\n",
       "      <td>NaN</td>\n",
       "      <td>NaN</td>\n",
       "      <td>NaN</td>\n",
       "      <td>NaN</td>\n",
       "      <td>0.0</td>\n",
       "      <td>0.0</td>\n",
       "      <td>NaN</td>\n",
       "      <td>NaN</td>\n",
       "      <td>NaN</td>\n",
       "      <td>NaN</td>\n",
       "    </tr>\n",
       "  </tbody>\n",
       "</table>\n",
       "<p>5 rows × 111 columns</p>\n",
       "</div>"
      ],
      "text/plain": [
       "        id  member_id  loan_amnt  funded_amnt  funded_amnt_inv        term  \\\n",
       "0  1077501    1296599       5000         5000           4975.0   36 months   \n",
       "1  1077430    1314167       2500         2500           2500.0   60 months   \n",
       "2  1077175    1313524       2400         2400           2400.0   36 months   \n",
       "3  1076863    1277178      10000        10000          10000.0   36 months   \n",
       "4  1075358    1311748       3000         3000           3000.0   60 months   \n",
       "\n",
       "  int_rate  installment grade sub_grade  ... num_tl_90g_dpd_24m  \\\n",
       "0   10.65%       162.87     B        B2  ...                NaN   \n",
       "1   15.27%        59.83     C        C4  ...                NaN   \n",
       "2   15.96%        84.33     C        C5  ...                NaN   \n",
       "3   13.49%       339.31     C        C1  ...                NaN   \n",
       "4   12.69%        67.79     B        B5  ...                NaN   \n",
       "\n",
       "  num_tl_op_past_12m pct_tl_nvr_dlq  percent_bc_gt_75 pub_rec_bankruptcies  \\\n",
       "0                NaN            NaN               NaN                  0.0   \n",
       "1                NaN            NaN               NaN                  0.0   \n",
       "2                NaN            NaN               NaN                  0.0   \n",
       "3                NaN            NaN               NaN                  0.0   \n",
       "4                NaN            NaN               NaN                  0.0   \n",
       "\n",
       "  tax_liens tot_hi_cred_lim total_bal_ex_mort total_bc_limit  \\\n",
       "0       0.0             NaN               NaN            NaN   \n",
       "1       0.0             NaN               NaN            NaN   \n",
       "2       0.0             NaN               NaN            NaN   \n",
       "3       0.0             NaN               NaN            NaN   \n",
       "4       0.0             NaN               NaN            NaN   \n",
       "\n",
       "  total_il_high_credit_limit  \n",
       "0                        NaN  \n",
       "1                        NaN  \n",
       "2                        NaN  \n",
       "3                        NaN  \n",
       "4                        NaN  \n",
       "\n",
       "[5 rows x 111 columns]"
      ]
     },
     "execution_count": 5,
     "metadata": {},
     "output_type": "execute_result"
    }
   ],
   "source": [
    "df.head()"
   ]
  },
  {
   "cell_type": "markdown",
   "id": "fa4775e8",
   "metadata": {},
   "source": [
    "# <span style=\"background: green; color: white; padding: 5px\">Data cleaning"
   ]
  },
  {
   "cell_type": "markdown",
   "id": "6099ccc0",
   "metadata": {},
   "source": [
    "## Fixing rows and columns"
   ]
  },
  {
   "cell_type": "markdown",
   "id": "a950d71f",
   "metadata": {},
   "source": [
    "##### Checking for null columns"
   ]
  },
  {
   "cell_type": "code",
   "execution_count": 6,
   "id": "ccf706f8",
   "metadata": {
    "scrolled": false
   },
   "outputs": [
    {
     "data": {
      "text/plain": [
       "id                                0\n",
       "member_id                         0\n",
       "loan_amnt                         0\n",
       "funded_amnt                       0\n",
       "funded_amnt_inv                   0\n",
       "                              ...  \n",
       "tax_liens                        39\n",
       "tot_hi_cred_lim               39717\n",
       "total_bal_ex_mort             39717\n",
       "total_bc_limit                39717\n",
       "total_il_high_credit_limit    39717\n",
       "Length: 111, dtype: int64"
      ]
     },
     "execution_count": 6,
     "metadata": {},
     "output_type": "execute_result"
    }
   ],
   "source": [
    "df.isnull().sum()"
   ]
  },
  {
   "cell_type": "markdown",
   "id": "2639b636",
   "metadata": {},
   "source": [
    "##### Dropping all columns having only null values"
   ]
  },
  {
   "cell_type": "code",
   "execution_count": 7,
   "id": "c16e2773",
   "metadata": {},
   "outputs": [],
   "source": [
    "df.dropna(axis=1, how='all', inplace=True)"
   ]
  },
  {
   "cell_type": "code",
   "execution_count": 8,
   "id": "013f32d7",
   "metadata": {},
   "outputs": [
    {
     "data": {
      "text/plain": [
       "(39717, 57)"
      ]
     },
     "execution_count": 8,
     "metadata": {},
     "output_type": "execute_result"
    }
   ],
   "source": [
    "df.shape"
   ]
  },
  {
   "cell_type": "code",
   "execution_count": 9,
   "id": "2fab1c26",
   "metadata": {},
   "outputs": [
    {
     "data": {
      "text/plain": [
       "id                                0\n",
       "member_id                         0\n",
       "loan_amnt                         0\n",
       "funded_amnt                       0\n",
       "funded_amnt_inv                   0\n",
       "term                              0\n",
       "int_rate                          0\n",
       "installment                       0\n",
       "grade                             0\n",
       "sub_grade                         0\n",
       "emp_title                      2459\n",
       "emp_length                     1075\n",
       "home_ownership                    0\n",
       "annual_inc                        0\n",
       "verification_status               0\n",
       "issue_d                           0\n",
       "loan_status                       0\n",
       "pymnt_plan                        0\n",
       "url                               0\n",
       "desc                          12940\n",
       "purpose                           0\n",
       "title                            11\n",
       "zip_code                          0\n",
       "addr_state                        0\n",
       "dti                               0\n",
       "delinq_2yrs                       0\n",
       "earliest_cr_line                  0\n",
       "inq_last_6mths                    0\n",
       "mths_since_last_delinq        25682\n",
       "mths_since_last_record        36931\n",
       "open_acc                          0\n",
       "pub_rec                           0\n",
       "revol_bal                         0\n",
       "revol_util                       50\n",
       "total_acc                         0\n",
       "initial_list_status               0\n",
       "out_prncp                         0\n",
       "out_prncp_inv                     0\n",
       "total_pymnt                       0\n",
       "total_pymnt_inv                   0\n",
       "total_rec_prncp                   0\n",
       "total_rec_int                     0\n",
       "total_rec_late_fee                0\n",
       "recoveries                        0\n",
       "collection_recovery_fee           0\n",
       "last_pymnt_d                     71\n",
       "last_pymnt_amnt                   0\n",
       "next_pymnt_d                  38577\n",
       "last_credit_pull_d                2\n",
       "collections_12_mths_ex_med       56\n",
       "policy_code                       0\n",
       "application_type                  0\n",
       "acc_now_delinq                    0\n",
       "chargeoff_within_12_mths         56\n",
       "delinq_amnt                       0\n",
       "pub_rec_bankruptcies            697\n",
       "tax_liens                        39\n",
       "dtype: int64"
      ]
     },
     "execution_count": 9,
     "metadata": {},
     "output_type": "execute_result"
    }
   ],
   "source": [
    "df.isnull().sum()"
   ]
  },
  {
   "cell_type": "markdown",
   "id": "ee281ddb",
   "metadata": {},
   "source": [
    "##### Additional columns to be removed\n",
    "- Columns like next_pymnt_d, mths_since_last_record, mths_since_last_delinq have too many null values hence they are useless\n",
    "- desc, emp_title, url, title are of no use in this case\n",
    "- collections_12_mths_ex_med, chargeoff_within_12_mths, tax_liens columns have only 0 and NA\n",
    "- last_pymnt_d, last_credit_pull_d are also of no use in this case"
   ]
  },
  {
   "cell_type": "code",
   "execution_count": 10,
   "id": "d7ee5def",
   "metadata": {},
   "outputs": [],
   "source": [
    "df.drop(columns=['next_pymnt_d', 'mths_since_last_record', 'mths_since_last_delinq', 'desc', 'emp_title', 'url', 'title', 'collections_12_mths_ex_med', 'chargeoff_within_12_mths', 'tax_liens', 'last_pymnt_d', 'last_credit_pull_d'], axis=1, inplace=True)"
   ]
  },
  {
   "cell_type": "code",
   "execution_count": 11,
   "id": "4537a325",
   "metadata": {},
   "outputs": [
    {
     "data": {
      "text/plain": [
       "id                            0\n",
       "member_id                     0\n",
       "loan_amnt                     0\n",
       "funded_amnt                   0\n",
       "funded_amnt_inv               0\n",
       "term                          0\n",
       "int_rate                      0\n",
       "installment                   0\n",
       "grade                         0\n",
       "sub_grade                     0\n",
       "emp_length                 1075\n",
       "home_ownership                0\n",
       "annual_inc                    0\n",
       "verification_status           0\n",
       "issue_d                       0\n",
       "loan_status                   0\n",
       "pymnt_plan                    0\n",
       "purpose                       0\n",
       "zip_code                      0\n",
       "addr_state                    0\n",
       "dti                           0\n",
       "delinq_2yrs                   0\n",
       "earliest_cr_line              0\n",
       "inq_last_6mths                0\n",
       "open_acc                      0\n",
       "pub_rec                       0\n",
       "revol_bal                     0\n",
       "revol_util                   50\n",
       "total_acc                     0\n",
       "initial_list_status           0\n",
       "out_prncp                     0\n",
       "out_prncp_inv                 0\n",
       "total_pymnt                   0\n",
       "total_pymnt_inv               0\n",
       "total_rec_prncp               0\n",
       "total_rec_int                 0\n",
       "total_rec_late_fee            0\n",
       "recoveries                    0\n",
       "collection_recovery_fee       0\n",
       "last_pymnt_amnt               0\n",
       "policy_code                   0\n",
       "application_type              0\n",
       "acc_now_delinq                0\n",
       "delinq_amnt                   0\n",
       "pub_rec_bankruptcies        697\n",
       "dtype: int64"
      ]
     },
     "execution_count": 11,
     "metadata": {},
     "output_type": "execute_result"
    }
   ],
   "source": [
    "df.isnull().sum()"
   ]
  },
  {
   "cell_type": "markdown",
   "id": "ad4826e3",
   "metadata": {},
   "source": [
    "##### Searching for columns having only one unique value\n",
    "These columns can be droped because there cannot be any analysis done"
   ]
  },
  {
   "cell_type": "code",
   "execution_count": 12,
   "id": "554d8a7a",
   "metadata": {},
   "outputs": [],
   "source": [
    "df.drop(columns = [c for c in list(df) if len(df[c].unique()) == 1], axis=1, inplace=True)"
   ]
  },
  {
   "cell_type": "code",
   "execution_count": 13,
   "id": "be49b720",
   "metadata": {},
   "outputs": [
    {
     "data": {
      "text/plain": [
       "id                            0\n",
       "member_id                     0\n",
       "loan_amnt                     0\n",
       "funded_amnt                   0\n",
       "funded_amnt_inv               0\n",
       "term                          0\n",
       "int_rate                      0\n",
       "installment                   0\n",
       "grade                         0\n",
       "sub_grade                     0\n",
       "emp_length                 1075\n",
       "home_ownership                0\n",
       "annual_inc                    0\n",
       "verification_status           0\n",
       "issue_d                       0\n",
       "loan_status                   0\n",
       "purpose                       0\n",
       "zip_code                      0\n",
       "addr_state                    0\n",
       "dti                           0\n",
       "delinq_2yrs                   0\n",
       "earliest_cr_line              0\n",
       "inq_last_6mths                0\n",
       "open_acc                      0\n",
       "pub_rec                       0\n",
       "revol_bal                     0\n",
       "revol_util                   50\n",
       "total_acc                     0\n",
       "out_prncp                     0\n",
       "out_prncp_inv                 0\n",
       "total_pymnt                   0\n",
       "total_pymnt_inv               0\n",
       "total_rec_prncp               0\n",
       "total_rec_int                 0\n",
       "total_rec_late_fee            0\n",
       "recoveries                    0\n",
       "collection_recovery_fee       0\n",
       "last_pymnt_amnt               0\n",
       "pub_rec_bankruptcies        697\n",
       "dtype: int64"
      ]
     },
     "execution_count": 13,
     "metadata": {},
     "output_type": "execute_result"
    }
   ],
   "source": [
    "df.isnull().sum()"
   ]
  },
  {
   "cell_type": "markdown",
   "id": "33888a53",
   "metadata": {},
   "source": [
    "## Missing values\n",
    "###### emp_length"
   ]
  },
  {
   "cell_type": "markdown",
   "id": "a558fd5b",
   "metadata": {},
   "source": [
    "For 'emp_length' column lets assume 0 as less than 1 year and 10 >= 10 years, other numbers remain as it is"
   ]
  },
  {
   "cell_type": "code",
   "execution_count": 14,
   "id": "a0029961",
   "metadata": {},
   "outputs": [
    {
     "data": {
      "text/plain": [
       "10+ years    8879\n",
       "< 1 year     4583\n",
       "2 years      4388\n",
       "3 years      4095\n",
       "4 years      3436\n",
       "5 years      3282\n",
       "1 year       3240\n",
       "6 years      2229\n",
       "7 years      1773\n",
       "8 years      1479\n",
       "9 years      1258\n",
       "Name: emp_length, dtype: int64"
      ]
     },
     "execution_count": 14,
     "metadata": {},
     "output_type": "execute_result"
    }
   ],
   "source": [
    "df.emp_length.value_counts()"
   ]
  },
  {
   "cell_type": "code",
   "execution_count": 15,
   "id": "4576f1f3",
   "metadata": {},
   "outputs": [
    {
     "data": {
      "text/plain": [
       "array(['10+ years', '< 1 year', '1 year', '3 years', '8 years', '9 years',\n",
       "       '4 years', '5 years', '6 years', '2 years', '7 years'],\n",
       "      dtype=object)"
      ]
     },
     "execution_count": 15,
     "metadata": {},
     "output_type": "execute_result"
    }
   ],
   "source": [
    "df.emp_length.unique()[:-1]"
   ]
  },
  {
   "cell_type": "code",
   "execution_count": 16,
   "id": "3c3a7ee2",
   "metadata": {},
   "outputs": [],
   "source": [
    "df = df.replace(df.emp_length.unique()[:-1], [10, 0, 1, 3, 8, 9, 4, 5, 6, 2, 7])"
   ]
  },
  {
   "cell_type": "code",
   "execution_count": 17,
   "id": "6123d2df",
   "metadata": {},
   "outputs": [
    {
     "data": {
      "text/plain": [
       "count    38642.000000\n",
       "mean         4.973449\n",
       "std          3.562580\n",
       "min          0.000000\n",
       "25%          2.000000\n",
       "50%          4.000000\n",
       "75%          9.000000\n",
       "max         10.000000\n",
       "Name: emp_length, dtype: float64"
      ]
     },
     "execution_count": 17,
     "metadata": {},
     "output_type": "execute_result"
    }
   ],
   "source": [
    "df.emp_length.describe()"
   ]
  },
  {
   "cell_type": "markdown",
   "id": "be4eec39",
   "metadata": {},
   "source": [
    "Since mean and median of the emp_length are almost equal, filling up the missing values by 4"
   ]
  },
  {
   "cell_type": "code",
   "execution_count": 18,
   "id": "0e045939",
   "metadata": {},
   "outputs": [],
   "source": [
    "df.emp_length.fillna(4, inplace=True)"
   ]
  },
  {
   "cell_type": "code",
   "execution_count": 19,
   "id": "ebe8b076",
   "metadata": {},
   "outputs": [
    {
     "data": {
      "text/plain": [
       "id                           0\n",
       "member_id                    0\n",
       "loan_amnt                    0\n",
       "funded_amnt                  0\n",
       "funded_amnt_inv              0\n",
       "term                         0\n",
       "int_rate                     0\n",
       "installment                  0\n",
       "grade                        0\n",
       "sub_grade                    0\n",
       "emp_length                   0\n",
       "home_ownership               0\n",
       "annual_inc                   0\n",
       "verification_status          0\n",
       "issue_d                      0\n",
       "loan_status                  0\n",
       "purpose                      0\n",
       "zip_code                     0\n",
       "addr_state                   0\n",
       "dti                          0\n",
       "delinq_2yrs                  0\n",
       "earliest_cr_line             0\n",
       "inq_last_6mths               0\n",
       "open_acc                     0\n",
       "pub_rec                      0\n",
       "revol_bal                    0\n",
       "revol_util                  50\n",
       "total_acc                    0\n",
       "out_prncp                    0\n",
       "out_prncp_inv                0\n",
       "total_pymnt                  0\n",
       "total_pymnt_inv              0\n",
       "total_rec_prncp              0\n",
       "total_rec_int                0\n",
       "total_rec_late_fee           0\n",
       "recoveries                   0\n",
       "collection_recovery_fee      0\n",
       "last_pymnt_amnt              0\n",
       "pub_rec_bankruptcies       697\n",
       "dtype: int64"
      ]
     },
     "execution_count": 19,
     "metadata": {},
     "output_type": "execute_result"
    }
   ],
   "source": [
    "df.isnull().sum()"
   ]
  },
  {
   "cell_type": "markdown",
   "id": "a138fab5",
   "metadata": {},
   "source": [
    "##### pub_rec_bankruptcies       "
   ]
  },
  {
   "cell_type": "code",
   "execution_count": 26,
   "id": "93d0adf9",
   "metadata": {},
   "outputs": [
    {
     "data": {
      "text/plain": [
       "count    39020.000000\n",
       "mean         0.043260\n",
       "std          0.204324\n",
       "min          0.000000\n",
       "25%          0.000000\n",
       "50%          0.000000\n",
       "75%          0.000000\n",
       "max          2.000000\n",
       "Name: pub_rec_bankruptcies, dtype: float64"
      ]
     },
     "execution_count": 26,
     "metadata": {},
     "output_type": "execute_result"
    }
   ],
   "source": [
    "df.pub_rec_bankruptcies.describe()"
   ]
  },
  {
   "cell_type": "markdown",
   "id": "c6619713",
   "metadata": {},
   "source": [
    "Since mean and median are nearly same i.e. 0, replacing null vlaues by 0"
   ]
  },
  {
   "cell_type": "code",
   "execution_count": 27,
   "id": "e70dfcda",
   "metadata": {},
   "outputs": [],
   "source": [
    "df.pub_rec_bankruptcies.fillna(0, inplace=True)"
   ]
  },
  {
   "cell_type": "code",
   "execution_count": 28,
   "id": "447a2351",
   "metadata": {},
   "outputs": [
    {
     "data": {
      "text/plain": [
       "id                         0\n",
       "member_id                  0\n",
       "loan_amnt                  0\n",
       "funded_amnt                0\n",
       "funded_amnt_inv            0\n",
       "term                       0\n",
       "int_rate                   0\n",
       "installment                0\n",
       "grade                      0\n",
       "sub_grade                  0\n",
       "emp_length                 0\n",
       "home_ownership             0\n",
       "annual_inc                 0\n",
       "verification_status        0\n",
       "issue_d                    0\n",
       "loan_status                0\n",
       "purpose                    0\n",
       "zip_code                   0\n",
       "addr_state                 0\n",
       "dti                        0\n",
       "delinq_2yrs                0\n",
       "earliest_cr_line           0\n",
       "inq_last_6mths             0\n",
       "open_acc                   0\n",
       "pub_rec                    0\n",
       "revol_bal                  0\n",
       "revol_util                 0\n",
       "total_acc                  0\n",
       "out_prncp                  0\n",
       "out_prncp_inv              0\n",
       "total_pymnt                0\n",
       "total_pymnt_inv            0\n",
       "total_rec_prncp            0\n",
       "total_rec_int              0\n",
       "total_rec_late_fee         0\n",
       "recoveries                 0\n",
       "collection_recovery_fee    0\n",
       "last_pymnt_amnt            0\n",
       "pub_rec_bankruptcies       0\n",
       "dtype: int64"
      ]
     },
     "execution_count": 28,
     "metadata": {},
     "output_type": "execute_result"
    }
   ],
   "source": [
    "df.isnull().sum()"
   ]
  },
  {
   "cell_type": "markdown",
   "id": "9a9a37a1",
   "metadata": {},
   "source": [
    "##### home_ownership             "
   ]
  },
  {
   "cell_type": "code",
   "execution_count": 29,
   "id": "52abd133",
   "metadata": {},
   "outputs": [
    {
     "data": {
      "text/plain": [
       "RENT        18899\n",
       "MORTGAGE    17659\n",
       "OWN          3058\n",
       "OTHER          98\n",
       "NONE            3\n",
       "Name: home_ownership, dtype: int64"
      ]
     },
     "execution_count": 29,
     "metadata": {},
     "output_type": "execute_result"
    }
   ],
   "source": [
    "df.home_ownership.value_counts()"
   ]
  },
  {
   "cell_type": "markdown",
   "id": "5a4b1b6c",
   "metadata": {},
   "source": [
    "As per data dictionary, there are only 4 values for home ownership RENT, MORTGAGE, OWN, OTHER.\n",
    "Also, RENT has maximum count. Hence, replacing 3 NONE values with RENT"
   ]
  },
  {
   "cell_type": "code",
   "execution_count": 30,
   "id": "e5be93fd",
   "metadata": {},
   "outputs": [],
   "source": [
    "df.home_ownership = df.home_ownership.replace(\"NONE\", 'RENT')"
   ]
  },
  {
   "cell_type": "markdown",
   "id": "d3e469da",
   "metadata": {},
   "source": [
    "## Standardizing values"
   ]
  },
  {
   "cell_type": "markdown",
   "id": "935ab80b",
   "metadata": {},
   "source": [
    "##### revol_util"
   ]
  },
  {
   "cell_type": "code",
   "execution_count": 20,
   "id": "461f8b48",
   "metadata": {},
   "outputs": [
    {
     "data": {
      "text/plain": [
       "0%        977\n",
       "0.20%      63\n",
       "63%        62\n",
       "40.70%     58\n",
       "66.70%     58\n",
       "         ... \n",
       "25.74%      1\n",
       "47.36%      1\n",
       "24.65%      1\n",
       "10.61%      1\n",
       "7.28%       1\n",
       "Name: revol_util, Length: 1089, dtype: int64"
      ]
     },
     "execution_count": 20,
     "metadata": {},
     "output_type": "execute_result"
    }
   ],
   "source": [
    "df.revol_util.value_counts()"
   ]
  },
  {
   "cell_type": "markdown",
   "id": "8ae66478",
   "metadata": {},
   "source": [
    "Changing values to float"
   ]
  },
  {
   "cell_type": "code",
   "execution_count": 21,
   "id": "32fdc823",
   "metadata": {},
   "outputs": [],
   "source": [
    "df.revol_util = df.revol_util.apply(lambda x: x if type(x) == float else float(x[:-1]))"
   ]
  },
  {
   "cell_type": "code",
   "execution_count": 22,
   "id": "76f6e573",
   "metadata": {},
   "outputs": [
    {
     "data": {
      "text/plain": [
       "count    39667.000000\n",
       "mean        48.832152\n",
       "std         28.332634\n",
       "min          0.000000\n",
       "25%         25.400000\n",
       "50%         49.300000\n",
       "75%         72.400000\n",
       "max         99.900000\n",
       "Name: revol_util, dtype: float64"
      ]
     },
     "execution_count": 22,
     "metadata": {},
     "output_type": "execute_result"
    }
   ],
   "source": [
    "df.revol_util.describe()"
   ]
  },
  {
   "cell_type": "markdown",
   "id": "a10b15fd",
   "metadata": {},
   "source": [
    "Since there is not much difference between mean and median, replacing null values with mean"
   ]
  },
  {
   "cell_type": "code",
   "execution_count": 23,
   "id": "a9bbfca9",
   "metadata": {},
   "outputs": [],
   "source": [
    "df.revol_util.fillna(df.revol_util.mean(), inplace=True)"
   ]
  },
  {
   "cell_type": "markdown",
   "id": "35f019b6",
   "metadata": {},
   "source": [
    "##### int_rate\n",
    "Similarly converting interest rate to float"
   ]
  },
  {
   "cell_type": "code",
   "execution_count": 24,
   "id": "b819e4af",
   "metadata": {},
   "outputs": [],
   "source": [
    "df.int_rate = df.int_rate.apply(lambda x: x if type(x) == float else float(x[:-1]))"
   ]
  },
  {
   "cell_type": "code",
   "execution_count": 25,
   "id": "6464600d",
   "metadata": {},
   "outputs": [
    {
     "data": {
      "text/plain": [
       "id                           0\n",
       "member_id                    0\n",
       "loan_amnt                    0\n",
       "funded_amnt                  0\n",
       "funded_amnt_inv              0\n",
       "term                         0\n",
       "int_rate                     0\n",
       "installment                  0\n",
       "grade                        0\n",
       "sub_grade                    0\n",
       "emp_length                   0\n",
       "home_ownership               0\n",
       "annual_inc                   0\n",
       "verification_status          0\n",
       "issue_d                      0\n",
       "loan_status                  0\n",
       "purpose                      0\n",
       "zip_code                     0\n",
       "addr_state                   0\n",
       "dti                          0\n",
       "delinq_2yrs                  0\n",
       "earliest_cr_line             0\n",
       "inq_last_6mths               0\n",
       "open_acc                     0\n",
       "pub_rec                      0\n",
       "revol_bal                    0\n",
       "revol_util                   0\n",
       "total_acc                    0\n",
       "out_prncp                    0\n",
       "out_prncp_inv                0\n",
       "total_pymnt                  0\n",
       "total_pymnt_inv              0\n",
       "total_rec_prncp              0\n",
       "total_rec_int                0\n",
       "total_rec_late_fee           0\n",
       "recoveries                   0\n",
       "collection_recovery_fee      0\n",
       "last_pymnt_amnt              0\n",
       "pub_rec_bankruptcies       697\n",
       "dtype: int64"
      ]
     },
     "execution_count": 25,
     "metadata": {},
     "output_type": "execute_result"
    }
   ],
   "source": [
    "df.isnull().sum()"
   ]
  },
  {
   "cell_type": "markdown",
   "id": "a57b5357",
   "metadata": {},
   "source": [
    "##### The current loans are not going to help in analysis. Hence dropping the same"
   ]
  },
  {
   "cell_type": "code",
   "execution_count": 31,
   "id": "a07758cd",
   "metadata": {},
   "outputs": [],
   "source": [
    "df = df[df.loan_status != 'Current']"
   ]
  },
  {
   "cell_type": "markdown",
   "id": "a189ec19",
   "metadata": {},
   "source": [
    "## Removing outliers"
   ]
  },
  {
   "cell_type": "markdown",
   "id": "89ba311e",
   "metadata": {},
   "source": [
    "#### Total income"
   ]
  },
  {
   "cell_type": "code",
   "execution_count": 32,
   "id": "6dd042c0",
   "metadata": {},
   "outputs": [
    {
     "data": {
      "text/plain": [
       "<AxesSubplot:>"
      ]
     },
     "execution_count": 32,
     "metadata": {},
     "output_type": "execute_result"
    },
    {
     "data": {
      "image/png": "[encoded data removed]",
      "text/plain": [
       "<Figure size 432x288 with 1 Axes>"
      ]
     },
     "metadata": {
      "needs_background": "light"
     },
     "output_type": "display_data"
    }
   ],
   "source": [
    "df.annual_inc.plot.box()"
   ]
  },
  {
   "cell_type": "code",
   "execution_count": 33,
   "id": "cd47a4fd",
   "metadata": {},
   "outputs": [],
   "source": [
    "#Removing outliers based on 95 percentile rule\n",
    "df = df[df.annual_inc <= df.annual_inc.quantile(0.95)]"
   ]
  },
  {
   "cell_type": "code",
   "execution_count": 34,
   "id": "f92945c4",
   "metadata": {},
   "outputs": [
    {
     "data": {
      "text/plain": [
       "<AxesSubplot:>"
      ]
     },
     "execution_count": 34,
     "metadata": {},
     "output_type": "execute_result"
    },
    {
     "data": {
      "image/png": "[encoded data removed]",
      "text/plain": [
       "<Figure size 432x288 with 1 Axes>"
      ]
     },
     "metadata": {
      "needs_background": "light"
     },
     "output_type": "display_data"
    }
   ],
   "source": [
    "df.annual_inc.plot.box()"
   ]
  },
  {
   "cell_type": "markdown",
   "id": "759096b7",
   "metadata": {},
   "source": [
    "#### Loan amount"
   ]
  },
  {
   "cell_type": "code",
   "execution_count": 35,
   "id": "1f566c84",
   "metadata": {},
   "outputs": [
    {
     "data": {
      "text/plain": [
       "<AxesSubplot:>"
      ]
     },
     "execution_count": 35,
     "metadata": {},
     "output_type": "execute_result"
    },
    {
     "data": {
      "image/png": "[encoded data removed]",
      "text/plain": [
       "<Figure size 432x288 with 1 Axes>"
      ]
     },
     "metadata": {
      "needs_background": "light"
     },
     "output_type": "display_data"
    }
   ],
   "source": [
    "df.loan_amnt.plot.box()"
   ]
  },
  {
   "cell_type": "markdown",
   "id": "8099481c",
   "metadata": {},
   "source": [
    "There are not many outlier hence keeping the records same"
   ]
  },
  {
   "cell_type": "code",
   "execution_count": 36,
   "id": "ce288006",
   "metadata": {
    "scrolled": true
   },
   "outputs": [
    {
     "data": {
      "text/plain": [
       "25000.0"
      ]
     },
     "execution_count": 36,
     "metadata": {},
     "output_type": "execute_result"
    }
   ],
   "source": [
    "df.loan_amnt.quantile(0.95)"
   ]
  },
  {
   "cell_type": "markdown",
   "id": "272c1095",
   "metadata": {},
   "source": [
    "## Deriving values"
   ]
  },
  {
   "cell_type": "markdown",
   "id": "e7f3fafa",
   "metadata": {},
   "source": [
    "#### Month and year from date "
   ]
  },
  {
   "cell_type": "code",
   "execution_count": 37,
   "id": "ac90084e",
   "metadata": {},
   "outputs": [
    {
     "data": {
      "text/plain": [
       "0       2011-12-01\n",
       "1       2011-12-01\n",
       "2       2011-12-01\n",
       "3       2011-12-01\n",
       "5       2011-12-01\n",
       "           ...    \n",
       "39711   2007-07-01\n",
       "39712   2007-07-01\n",
       "39713   2007-07-01\n",
       "39714   2007-07-01\n",
       "39716   2007-06-01\n",
       "Name: issue_d, Length: 36654, dtype: datetime64[ns]"
      ]
     },
     "execution_count": 37,
     "metadata": {},
     "output_type": "execute_result"
    }
   ],
   "source": [
    "#Converting mmm-yy to date\n",
    "pd.to_datetime(df.issue_d, format='%b-%y')"
   ]
  },
  {
   "cell_type": "code",
   "execution_count": 38,
   "id": "66f7ab52",
   "metadata": {},
   "outputs": [],
   "source": [
    "df['issue_month']=df.issue_d.apply(lambda x: dt.datetime.strptime(x, '%b-%y').month)"
   ]
  },
  {
   "cell_type": "code",
   "execution_count": 39,
   "id": "47fda477",
   "metadata": {},
   "outputs": [],
   "source": [
    "df['issue_year']=df.issue_d.apply(lambda x: dt.datetime.strptime(x, '%b-%y').year)"
   ]
  },
  {
   "cell_type": "markdown",
   "id": "77afbf4c",
   "metadata": {},
   "source": [
    "#### Savings from installment and monthly income"
   ]
  },
  {
   "cell_type": "code",
   "execution_count": 40,
   "id": "f6efc99f",
   "metadata": {},
   "outputs": [],
   "source": [
    "df['monthly_savings']=(df.annual_inc / 12) - df.installment"
   ]
  },
  {
   "cell_type": "code",
   "execution_count": 41,
   "id": "17cfa5d0",
   "metadata": {},
   "outputs": [
    {
     "data": {
      "text/html": [
       "<div>\n",
       "<style scoped>\n",
       "    .dataframe tbody tr th:only-of-type {\n",
       "        vertical-align: middle;\n",
       "    }\n",
       "\n",
       "    .dataframe tbody tr th {\n",
       "        vertical-align: top;\n",
       "    }\n",
       "\n",
       "    .dataframe thead th {\n",
       "        text-align: right;\n",
       "    }\n",
       "</style>\n",
       "<table border=\"1\" class=\"dataframe\">\n",
       "  <thead>\n",
       "    <tr style=\"text-align: right;\">\n",
       "      <th></th>\n",
       "      <th>id</th>\n",
       "      <th>member_id</th>\n",
       "      <th>loan_amnt</th>\n",
       "      <th>funded_amnt</th>\n",
       "      <th>funded_amnt_inv</th>\n",
       "      <th>term</th>\n",
       "      <th>int_rate</th>\n",
       "      <th>installment</th>\n",
       "      <th>grade</th>\n",
       "      <th>sub_grade</th>\n",
       "      <th>...</th>\n",
       "      <th>total_rec_prncp</th>\n",
       "      <th>total_rec_int</th>\n",
       "      <th>total_rec_late_fee</th>\n",
       "      <th>recoveries</th>\n",
       "      <th>collection_recovery_fee</th>\n",
       "      <th>last_pymnt_amnt</th>\n",
       "      <th>pub_rec_bankruptcies</th>\n",
       "      <th>issue_month</th>\n",
       "      <th>issue_year</th>\n",
       "      <th>monthly_savings</th>\n",
       "    </tr>\n",
       "  </thead>\n",
       "  <tbody>\n",
       "    <tr>\n",
       "      <th>0</th>\n",
       "      <td>1077501</td>\n",
       "      <td>1296599</td>\n",
       "      <td>5000</td>\n",
       "      <td>5000</td>\n",
       "      <td>4975.0</td>\n",
       "      <td>36 months</td>\n",
       "      <td>10.65</td>\n",
       "      <td>162.87</td>\n",
       "      <td>B</td>\n",
       "      <td>B2</td>\n",
       "      <td>...</td>\n",
       "      <td>5000.00</td>\n",
       "      <td>863.16</td>\n",
       "      <td>0.00</td>\n",
       "      <td>0.00</td>\n",
       "      <td>0.00</td>\n",
       "      <td>171.62</td>\n",
       "      <td>0.0</td>\n",
       "      <td>12</td>\n",
       "      <td>2011</td>\n",
       "      <td>1837.13</td>\n",
       "    </tr>\n",
       "    <tr>\n",
       "      <th>1</th>\n",
       "      <td>1077430</td>\n",
       "      <td>1314167</td>\n",
       "      <td>2500</td>\n",
       "      <td>2500</td>\n",
       "      <td>2500.0</td>\n",
       "      <td>60 months</td>\n",
       "      <td>15.27</td>\n",
       "      <td>59.83</td>\n",
       "      <td>C</td>\n",
       "      <td>C4</td>\n",
       "      <td>...</td>\n",
       "      <td>456.46</td>\n",
       "      <td>435.17</td>\n",
       "      <td>0.00</td>\n",
       "      <td>117.08</td>\n",
       "      <td>1.11</td>\n",
       "      <td>119.66</td>\n",
       "      <td>0.0</td>\n",
       "      <td>12</td>\n",
       "      <td>2011</td>\n",
       "      <td>2440.17</td>\n",
       "    </tr>\n",
       "    <tr>\n",
       "      <th>2</th>\n",
       "      <td>1077175</td>\n",
       "      <td>1313524</td>\n",
       "      <td>2400</td>\n",
       "      <td>2400</td>\n",
       "      <td>2400.0</td>\n",
       "      <td>36 months</td>\n",
       "      <td>15.96</td>\n",
       "      <td>84.33</td>\n",
       "      <td>C</td>\n",
       "      <td>C5</td>\n",
       "      <td>...</td>\n",
       "      <td>2400.00</td>\n",
       "      <td>605.67</td>\n",
       "      <td>0.00</td>\n",
       "      <td>0.00</td>\n",
       "      <td>0.00</td>\n",
       "      <td>649.91</td>\n",
       "      <td>0.0</td>\n",
       "      <td>12</td>\n",
       "      <td>2011</td>\n",
       "      <td>936.67</td>\n",
       "    </tr>\n",
       "    <tr>\n",
       "      <th>3</th>\n",
       "      <td>1076863</td>\n",
       "      <td>1277178</td>\n",
       "      <td>10000</td>\n",
       "      <td>10000</td>\n",
       "      <td>10000.0</td>\n",
       "      <td>36 months</td>\n",
       "      <td>13.49</td>\n",
       "      <td>339.31</td>\n",
       "      <td>C</td>\n",
       "      <td>C1</td>\n",
       "      <td>...</td>\n",
       "      <td>10000.00</td>\n",
       "      <td>2214.92</td>\n",
       "      <td>16.97</td>\n",
       "      <td>0.00</td>\n",
       "      <td>0.00</td>\n",
       "      <td>357.48</td>\n",
       "      <td>0.0</td>\n",
       "      <td>12</td>\n",
       "      <td>2011</td>\n",
       "      <td>3760.69</td>\n",
       "    </tr>\n",
       "    <tr>\n",
       "      <th>5</th>\n",
       "      <td>1075269</td>\n",
       "      <td>1311441</td>\n",
       "      <td>5000</td>\n",
       "      <td>5000</td>\n",
       "      <td>5000.0</td>\n",
       "      <td>36 months</td>\n",
       "      <td>7.90</td>\n",
       "      <td>156.46</td>\n",
       "      <td>A</td>\n",
       "      <td>A4</td>\n",
       "      <td>...</td>\n",
       "      <td>5000.00</td>\n",
       "      <td>632.21</td>\n",
       "      <td>0.00</td>\n",
       "      <td>0.00</td>\n",
       "      <td>0.00</td>\n",
       "      <td>161.03</td>\n",
       "      <td>0.0</td>\n",
       "      <td>12</td>\n",
       "      <td>2011</td>\n",
       "      <td>2843.54</td>\n",
       "    </tr>\n",
       "  </tbody>\n",
       "</table>\n",
       "<p>5 rows × 42 columns</p>\n",
       "</div>"
      ],
      "text/plain": [
       "        id  member_id  loan_amnt  funded_amnt  funded_amnt_inv        term  \\\n",
       "0  1077501    1296599       5000         5000           4975.0   36 months   \n",
       "1  1077430    1314167       2500         2500           2500.0   60 months   \n",
       "2  1077175    1313524       2400         2400           2400.0   36 months   \n",
       "3  1076863    1277178      10000        10000          10000.0   36 months   \n",
       "5  1075269    1311441       5000         5000           5000.0   36 months   \n",
       "\n",
       "   int_rate  installment grade sub_grade  ...  total_rec_prncp total_rec_int  \\\n",
       "0     10.65       162.87     B        B2  ...          5000.00        863.16   \n",
       "1     15.27        59.83     C        C4  ...           456.46        435.17   \n",
       "2     15.96        84.33     C        C5  ...          2400.00        605.67   \n",
       "3     13.49       339.31     C        C1  ...         10000.00       2214.92   \n",
       "5      7.90       156.46     A        A4  ...          5000.00        632.21   \n",
       "\n",
       "   total_rec_late_fee recoveries collection_recovery_fee last_pymnt_amnt  \\\n",
       "0                0.00       0.00                    0.00          171.62   \n",
       "1                0.00     117.08                    1.11          119.66   \n",
       "2                0.00       0.00                    0.00          649.91   \n",
       "3               16.97       0.00                    0.00          357.48   \n",
       "5                0.00       0.00                    0.00          161.03   \n",
       "\n",
       "  pub_rec_bankruptcies issue_month issue_year  monthly_savings  \n",
       "0                  0.0          12       2011          1837.13  \n",
       "1                  0.0          12       2011          2440.17  \n",
       "2                  0.0          12       2011           936.67  \n",
       "3                  0.0          12       2011          3760.69  \n",
       "5                  0.0          12       2011          2843.54  \n",
       "\n",
       "[5 rows x 42 columns]"
      ]
     },
     "execution_count": 41,
     "metadata": {},
     "output_type": "execute_result"
    }
   ],
   "source": [
    "df.head()"
   ]
  },
  {
   "cell_type": "code",
   "execution_count": 42,
   "id": "d3e41b68",
   "metadata": {},
   "outputs": [
    {
     "data": {
      "text/plain": [
       "(36654, 42)"
      ]
     },
     "execution_count": 42,
     "metadata": {},
     "output_type": "execute_result"
    }
   ],
   "source": [
    "df.shape"
   ]
  },
  {
   "cell_type": "markdown",
   "id": "9838622f",
   "metadata": {},
   "source": [
    "## Exploring Columns"
   ]
  },
  {
   "cell_type": "code",
   "execution_count": 43,
   "id": "92a32cec",
   "metadata": {
    "scrolled": false
   },
   "outputs": [
    {
     "data": {
      "text/html": [
       "<div>\n",
       "<style scoped>\n",
       "    .dataframe tbody tr th:only-of-type {\n",
       "        vertical-align: middle;\n",
       "    }\n",
       "\n",
       "    .dataframe tbody tr th {\n",
       "        vertical-align: top;\n",
       "    }\n",
       "\n",
       "    .dataframe thead th {\n",
       "        text-align: right;\n",
       "    }\n",
       "</style>\n",
       "<table border=\"1\" class=\"dataframe\">\n",
       "  <thead>\n",
       "    <tr style=\"text-align: right;\">\n",
       "      <th></th>\n",
       "      <th>id</th>\n",
       "      <th>member_id</th>\n",
       "      <th>loan_amnt</th>\n",
       "      <th>funded_amnt</th>\n",
       "      <th>funded_amnt_inv</th>\n",
       "      <th>term</th>\n",
       "      <th>int_rate</th>\n",
       "      <th>installment</th>\n",
       "      <th>grade</th>\n",
       "      <th>sub_grade</th>\n",
       "      <th>emp_length</th>\n",
       "      <th>home_ownership</th>\n",
       "    </tr>\n",
       "  </thead>\n",
       "  <tbody>\n",
       "    <tr>\n",
       "      <th>0</th>\n",
       "      <td>1077501</td>\n",
       "      <td>1296599</td>\n",
       "      <td>5000</td>\n",
       "      <td>5000</td>\n",
       "      <td>4975.0</td>\n",
       "      <td>36 months</td>\n",
       "      <td>10.65</td>\n",
       "      <td>162.87</td>\n",
       "      <td>B</td>\n",
       "      <td>B2</td>\n",
       "      <td>10.0</td>\n",
       "      <td>RENT</td>\n",
       "    </tr>\n",
       "    <tr>\n",
       "      <th>1</th>\n",
       "      <td>1077430</td>\n",
       "      <td>1314167</td>\n",
       "      <td>2500</td>\n",
       "      <td>2500</td>\n",
       "      <td>2500.0</td>\n",
       "      <td>60 months</td>\n",
       "      <td>15.27</td>\n",
       "      <td>59.83</td>\n",
       "      <td>C</td>\n",
       "      <td>C4</td>\n",
       "      <td>0.0</td>\n",
       "      <td>RENT</td>\n",
       "    </tr>\n",
       "    <tr>\n",
       "      <th>2</th>\n",
       "      <td>1077175</td>\n",
       "      <td>1313524</td>\n",
       "      <td>2400</td>\n",
       "      <td>2400</td>\n",
       "      <td>2400.0</td>\n",
       "      <td>36 months</td>\n",
       "      <td>15.96</td>\n",
       "      <td>84.33</td>\n",
       "      <td>C</td>\n",
       "      <td>C5</td>\n",
       "      <td>10.0</td>\n",
       "      <td>RENT</td>\n",
       "    </tr>\n",
       "    <tr>\n",
       "      <th>3</th>\n",
       "      <td>1076863</td>\n",
       "      <td>1277178</td>\n",
       "      <td>10000</td>\n",
       "      <td>10000</td>\n",
       "      <td>10000.0</td>\n",
       "      <td>36 months</td>\n",
       "      <td>13.49</td>\n",
       "      <td>339.31</td>\n",
       "      <td>C</td>\n",
       "      <td>C1</td>\n",
       "      <td>10.0</td>\n",
       "      <td>RENT</td>\n",
       "    </tr>\n",
       "    <tr>\n",
       "      <th>5</th>\n",
       "      <td>1075269</td>\n",
       "      <td>1311441</td>\n",
       "      <td>5000</td>\n",
       "      <td>5000</td>\n",
       "      <td>5000.0</td>\n",
       "      <td>36 months</td>\n",
       "      <td>7.90</td>\n",
       "      <td>156.46</td>\n",
       "      <td>A</td>\n",
       "      <td>A4</td>\n",
       "      <td>3.0</td>\n",
       "      <td>RENT</td>\n",
       "    </tr>\n",
       "    <tr>\n",
       "      <th>6</th>\n",
       "      <td>1069639</td>\n",
       "      <td>1304742</td>\n",
       "      <td>7000</td>\n",
       "      <td>7000</td>\n",
       "      <td>7000.0</td>\n",
       "      <td>60 months</td>\n",
       "      <td>15.96</td>\n",
       "      <td>170.08</td>\n",
       "      <td>C</td>\n",
       "      <td>C5</td>\n",
       "      <td>8.0</td>\n",
       "      <td>RENT</td>\n",
       "    </tr>\n",
       "    <tr>\n",
       "      <th>7</th>\n",
       "      <td>1072053</td>\n",
       "      <td>1288686</td>\n",
       "      <td>3000</td>\n",
       "      <td>3000</td>\n",
       "      <td>3000.0</td>\n",
       "      <td>36 months</td>\n",
       "      <td>18.64</td>\n",
       "      <td>109.43</td>\n",
       "      <td>E</td>\n",
       "      <td>E1</td>\n",
       "      <td>9.0</td>\n",
       "      <td>RENT</td>\n",
       "    </tr>\n",
       "  </tbody>\n",
       "</table>\n",
       "</div>"
      ],
      "text/plain": [
       "        id  member_id  loan_amnt  funded_amnt  funded_amnt_inv        term  \\\n",
       "0  1077501    1296599       5000         5000           4975.0   36 months   \n",
       "1  1077430    1314167       2500         2500           2500.0   60 months   \n",
       "2  1077175    1313524       2400         2400           2400.0   36 months   \n",
       "3  1076863    1277178      10000        10000          10000.0   36 months   \n",
       "5  1075269    1311441       5000         5000           5000.0   36 months   \n",
       "6  1069639    1304742       7000         7000           7000.0   60 months   \n",
       "7  1072053    1288686       3000         3000           3000.0   36 months   \n",
       "\n",
       "   int_rate  installment grade sub_grade  emp_length home_ownership  \n",
       "0     10.65       162.87     B        B2        10.0           RENT  \n",
       "1     15.27        59.83     C        C4         0.0           RENT  \n",
       "2     15.96        84.33     C        C5        10.0           RENT  \n",
       "3     13.49       339.31     C        C1        10.0           RENT  \n",
       "5      7.90       156.46     A        A4         3.0           RENT  \n",
       "6     15.96       170.08     C        C5         8.0           RENT  \n",
       "7     18.64       109.43     E        E1         9.0           RENT  "
      ]
     },
     "execution_count": 43,
     "metadata": {},
     "output_type": "execute_result"
    }
   ],
   "source": [
    "df.iloc[0:7, 0:12]"
   ]
  },
  {
   "cell_type": "code",
   "execution_count": 44,
   "id": "bccb28e5",
   "metadata": {
    "scrolled": true
   },
   "outputs": [
    {
     "data": {
      "text/html": [
       "<div>\n",
       "<style scoped>\n",
       "    .dataframe tbody tr th:only-of-type {\n",
       "        vertical-align: middle;\n",
       "    }\n",
       "\n",
       "    .dataframe tbody tr th {\n",
       "        vertical-align: top;\n",
       "    }\n",
       "\n",
       "    .dataframe thead th {\n",
       "        text-align: right;\n",
       "    }\n",
       "</style>\n",
       "<table border=\"1\" class=\"dataframe\">\n",
       "  <thead>\n",
       "    <tr style=\"text-align: right;\">\n",
       "      <th></th>\n",
       "      <th>annual_inc</th>\n",
       "      <th>verification_status</th>\n",
       "      <th>issue_d</th>\n",
       "      <th>loan_status</th>\n",
       "      <th>purpose</th>\n",
       "      <th>zip_code</th>\n",
       "      <th>addr_state</th>\n",
       "      <th>dti</th>\n",
       "      <th>delinq_2yrs</th>\n",
       "      <th>earliest_cr_line</th>\n",
       "      <th>inq_last_6mths</th>\n",
       "      <th>open_acc</th>\n",
       "    </tr>\n",
       "  </thead>\n",
       "  <tbody>\n",
       "    <tr>\n",
       "      <th>0</th>\n",
       "      <td>24000.0</td>\n",
       "      <td>Verified</td>\n",
       "      <td>Dec-11</td>\n",
       "      <td>Fully Paid</td>\n",
       "      <td>credit_card</td>\n",
       "      <td>860xx</td>\n",
       "      <td>AZ</td>\n",
       "      <td>27.65</td>\n",
       "      <td>0</td>\n",
       "      <td>Jan-85</td>\n",
       "      <td>1</td>\n",
       "      <td>3</td>\n",
       "    </tr>\n",
       "    <tr>\n",
       "      <th>1</th>\n",
       "      <td>30000.0</td>\n",
       "      <td>Source Verified</td>\n",
       "      <td>Dec-11</td>\n",
       "      <td>Charged Off</td>\n",
       "      <td>car</td>\n",
       "      <td>309xx</td>\n",
       "      <td>GA</td>\n",
       "      <td>1.00</td>\n",
       "      <td>0</td>\n",
       "      <td>Apr-99</td>\n",
       "      <td>5</td>\n",
       "      <td>3</td>\n",
       "    </tr>\n",
       "    <tr>\n",
       "      <th>2</th>\n",
       "      <td>12252.0</td>\n",
       "      <td>Not Verified</td>\n",
       "      <td>Dec-11</td>\n",
       "      <td>Fully Paid</td>\n",
       "      <td>small_business</td>\n",
       "      <td>606xx</td>\n",
       "      <td>IL</td>\n",
       "      <td>8.72</td>\n",
       "      <td>0</td>\n",
       "      <td>Nov-01</td>\n",
       "      <td>2</td>\n",
       "      <td>2</td>\n",
       "    </tr>\n",
       "    <tr>\n",
       "      <th>3</th>\n",
       "      <td>49200.0</td>\n",
       "      <td>Source Verified</td>\n",
       "      <td>Dec-11</td>\n",
       "      <td>Fully Paid</td>\n",
       "      <td>other</td>\n",
       "      <td>917xx</td>\n",
       "      <td>CA</td>\n",
       "      <td>20.00</td>\n",
       "      <td>0</td>\n",
       "      <td>Feb-96</td>\n",
       "      <td>1</td>\n",
       "      <td>10</td>\n",
       "    </tr>\n",
       "    <tr>\n",
       "      <th>5</th>\n",
       "      <td>36000.0</td>\n",
       "      <td>Source Verified</td>\n",
       "      <td>Dec-11</td>\n",
       "      <td>Fully Paid</td>\n",
       "      <td>wedding</td>\n",
       "      <td>852xx</td>\n",
       "      <td>AZ</td>\n",
       "      <td>11.20</td>\n",
       "      <td>0</td>\n",
       "      <td>Nov-04</td>\n",
       "      <td>3</td>\n",
       "      <td>9</td>\n",
       "    </tr>\n",
       "    <tr>\n",
       "      <th>6</th>\n",
       "      <td>47004.0</td>\n",
       "      <td>Not Verified</td>\n",
       "      <td>Dec-11</td>\n",
       "      <td>Fully Paid</td>\n",
       "      <td>debt_consolidation</td>\n",
       "      <td>280xx</td>\n",
       "      <td>NC</td>\n",
       "      <td>23.51</td>\n",
       "      <td>0</td>\n",
       "      <td>Jul-05</td>\n",
       "      <td>1</td>\n",
       "      <td>7</td>\n",
       "    </tr>\n",
       "    <tr>\n",
       "      <th>7</th>\n",
       "      <td>48000.0</td>\n",
       "      <td>Source Verified</td>\n",
       "      <td>Dec-11</td>\n",
       "      <td>Fully Paid</td>\n",
       "      <td>car</td>\n",
       "      <td>900xx</td>\n",
       "      <td>CA</td>\n",
       "      <td>5.35</td>\n",
       "      <td>0</td>\n",
       "      <td>Jan-07</td>\n",
       "      <td>2</td>\n",
       "      <td>4</td>\n",
       "    </tr>\n",
       "  </tbody>\n",
       "</table>\n",
       "</div>"
      ],
      "text/plain": [
       "   annual_inc verification_status issue_d  loan_status             purpose  \\\n",
       "0     24000.0            Verified  Dec-11   Fully Paid         credit_card   \n",
       "1     30000.0     Source Verified  Dec-11  Charged Off                 car   \n",
       "2     12252.0        Not Verified  Dec-11   Fully Paid      small_business   \n",
       "3     49200.0     Source Verified  Dec-11   Fully Paid               other   \n",
       "5     36000.0     Source Verified  Dec-11   Fully Paid             wedding   \n",
       "6     47004.0        Not Verified  Dec-11   Fully Paid  debt_consolidation   \n",
       "7     48000.0     Source Verified  Dec-11   Fully Paid                 car   \n",
       "\n",
       "  zip_code addr_state    dti  delinq_2yrs earliest_cr_line  inq_last_6mths  \\\n",
       "0    860xx         AZ  27.65            0           Jan-85               1   \n",
       "1    309xx         GA   1.00            0           Apr-99               5   \n",
       "2    606xx         IL   8.72            0           Nov-01               2   \n",
       "3    917xx         CA  20.00            0           Feb-96               1   \n",
       "5    852xx         AZ  11.20            0           Nov-04               3   \n",
       "6    280xx         NC  23.51            0           Jul-05               1   \n",
       "7    900xx         CA   5.35            0           Jan-07               2   \n",
       "\n",
       "   open_acc  \n",
       "0         3  \n",
       "1         3  \n",
       "2         2  \n",
       "3        10  \n",
       "5         9  \n",
       "6         7  \n",
       "7         4  "
      ]
     },
     "execution_count": 44,
     "metadata": {},
     "output_type": "execute_result"
    }
   ],
   "source": [
    "df.iloc[0:7, 12:24]"
   ]
  },
  {
   "cell_type": "code",
   "execution_count": 45,
   "id": "78fc832a",
   "metadata": {
    "scrolled": true
   },
   "outputs": [
    {
     "data": {
      "text/html": [
       "<div>\n",
       "<style scoped>\n",
       "    .dataframe tbody tr th:only-of-type {\n",
       "        vertical-align: middle;\n",
       "    }\n",
       "\n",
       "    .dataframe tbody tr th {\n",
       "        vertical-align: top;\n",
       "    }\n",
       "\n",
       "    .dataframe thead th {\n",
       "        text-align: right;\n",
       "    }\n",
       "</style>\n",
       "<table border=\"1\" class=\"dataframe\">\n",
       "  <thead>\n",
       "    <tr style=\"text-align: right;\">\n",
       "      <th></th>\n",
       "      <th>pub_rec</th>\n",
       "      <th>revol_bal</th>\n",
       "      <th>revol_util</th>\n",
       "      <th>total_acc</th>\n",
       "      <th>out_prncp</th>\n",
       "      <th>out_prncp_inv</th>\n",
       "      <th>total_pymnt</th>\n",
       "      <th>total_pymnt_inv</th>\n",
       "      <th>total_rec_prncp</th>\n",
       "      <th>total_rec_int</th>\n",
       "      <th>total_rec_late_fee</th>\n",
       "      <th>recoveries</th>\n",
       "    </tr>\n",
       "  </thead>\n",
       "  <tbody>\n",
       "    <tr>\n",
       "      <th>0</th>\n",
       "      <td>0</td>\n",
       "      <td>13648</td>\n",
       "      <td>83.7</td>\n",
       "      <td>9</td>\n",
       "      <td>0.0</td>\n",
       "      <td>0.0</td>\n",
       "      <td>5863.155187</td>\n",
       "      <td>5833.84</td>\n",
       "      <td>5000.00</td>\n",
       "      <td>863.16</td>\n",
       "      <td>0.00</td>\n",
       "      <td>0.00</td>\n",
       "    </tr>\n",
       "    <tr>\n",
       "      <th>1</th>\n",
       "      <td>0</td>\n",
       "      <td>1687</td>\n",
       "      <td>9.4</td>\n",
       "      <td>4</td>\n",
       "      <td>0.0</td>\n",
       "      <td>0.0</td>\n",
       "      <td>1008.710000</td>\n",
       "      <td>1008.71</td>\n",
       "      <td>456.46</td>\n",
       "      <td>435.17</td>\n",
       "      <td>0.00</td>\n",
       "      <td>117.08</td>\n",
       "    </tr>\n",
       "    <tr>\n",
       "      <th>2</th>\n",
       "      <td>0</td>\n",
       "      <td>2956</td>\n",
       "      <td>98.5</td>\n",
       "      <td>10</td>\n",
       "      <td>0.0</td>\n",
       "      <td>0.0</td>\n",
       "      <td>3005.666844</td>\n",
       "      <td>3005.67</td>\n",
       "      <td>2400.00</td>\n",
       "      <td>605.67</td>\n",
       "      <td>0.00</td>\n",
       "      <td>0.00</td>\n",
       "    </tr>\n",
       "    <tr>\n",
       "      <th>3</th>\n",
       "      <td>0</td>\n",
       "      <td>5598</td>\n",
       "      <td>21.0</td>\n",
       "      <td>37</td>\n",
       "      <td>0.0</td>\n",
       "      <td>0.0</td>\n",
       "      <td>12231.890000</td>\n",
       "      <td>12231.89</td>\n",
       "      <td>10000.00</td>\n",
       "      <td>2214.92</td>\n",
       "      <td>16.97</td>\n",
       "      <td>0.00</td>\n",
       "    </tr>\n",
       "    <tr>\n",
       "      <th>5</th>\n",
       "      <td>0</td>\n",
       "      <td>7963</td>\n",
       "      <td>28.3</td>\n",
       "      <td>12</td>\n",
       "      <td>0.0</td>\n",
       "      <td>0.0</td>\n",
       "      <td>5632.210000</td>\n",
       "      <td>5632.21</td>\n",
       "      <td>5000.00</td>\n",
       "      <td>632.21</td>\n",
       "      <td>0.00</td>\n",
       "      <td>0.00</td>\n",
       "    </tr>\n",
       "    <tr>\n",
       "      <th>6</th>\n",
       "      <td>0</td>\n",
       "      <td>17726</td>\n",
       "      <td>85.6</td>\n",
       "      <td>11</td>\n",
       "      <td>0.0</td>\n",
       "      <td>0.0</td>\n",
       "      <td>10110.840000</td>\n",
       "      <td>10110.84</td>\n",
       "      <td>6985.61</td>\n",
       "      <td>3125.23</td>\n",
       "      <td>0.00</td>\n",
       "      <td>0.00</td>\n",
       "    </tr>\n",
       "    <tr>\n",
       "      <th>7</th>\n",
       "      <td>0</td>\n",
       "      <td>8221</td>\n",
       "      <td>87.5</td>\n",
       "      <td>4</td>\n",
       "      <td>0.0</td>\n",
       "      <td>0.0</td>\n",
       "      <td>3939.135294</td>\n",
       "      <td>3939.14</td>\n",
       "      <td>3000.00</td>\n",
       "      <td>939.14</td>\n",
       "      <td>0.00</td>\n",
       "      <td>0.00</td>\n",
       "    </tr>\n",
       "  </tbody>\n",
       "</table>\n",
       "</div>"
      ],
      "text/plain": [
       "   pub_rec  revol_bal  revol_util  total_acc  out_prncp  out_prncp_inv  \\\n",
       "0        0      13648        83.7          9        0.0            0.0   \n",
       "1        0       1687         9.4          4        0.0            0.0   \n",
       "2        0       2956        98.5         10        0.0            0.0   \n",
       "3        0       5598        21.0         37        0.0            0.0   \n",
       "5        0       7963        28.3         12        0.0            0.0   \n",
       "6        0      17726        85.6         11        0.0            0.0   \n",
       "7        0       8221        87.5          4        0.0            0.0   \n",
       "\n",
       "    total_pymnt  total_pymnt_inv  total_rec_prncp  total_rec_int  \\\n",
       "0   5863.155187          5833.84          5000.00         863.16   \n",
       "1   1008.710000          1008.71           456.46         435.17   \n",
       "2   3005.666844          3005.67          2400.00         605.67   \n",
       "3  12231.890000         12231.89         10000.00        2214.92   \n",
       "5   5632.210000          5632.21          5000.00         632.21   \n",
       "6  10110.840000         10110.84          6985.61        3125.23   \n",
       "7   3939.135294          3939.14          3000.00         939.14   \n",
       "\n",
       "   total_rec_late_fee  recoveries  \n",
       "0                0.00        0.00  \n",
       "1                0.00      117.08  \n",
       "2                0.00        0.00  \n",
       "3               16.97        0.00  \n",
       "5                0.00        0.00  \n",
       "6                0.00        0.00  \n",
       "7                0.00        0.00  "
      ]
     },
     "execution_count": 45,
     "metadata": {},
     "output_type": "execute_result"
    }
   ],
   "source": [
    "df.iloc[0:7, 24:36]"
   ]
  },
  {
   "cell_type": "code",
   "execution_count": 47,
   "id": "88b4d67e",
   "metadata": {},
   "outputs": [
    {
     "data": {
      "text/html": [
       "<div>\n",
       "<style scoped>\n",
       "    .dataframe tbody tr th:only-of-type {\n",
       "        vertical-align: middle;\n",
       "    }\n",
       "\n",
       "    .dataframe tbody tr th {\n",
       "        vertical-align: top;\n",
       "    }\n",
       "\n",
       "    .dataframe thead th {\n",
       "        text-align: right;\n",
       "    }\n",
       "</style>\n",
       "<table border=\"1\" class=\"dataframe\">\n",
       "  <thead>\n",
       "    <tr style=\"text-align: right;\">\n",
       "      <th></th>\n",
       "      <th>collection_recovery_fee</th>\n",
       "      <th>last_pymnt_amnt</th>\n",
       "      <th>pub_rec_bankruptcies</th>\n",
       "      <th>issue_month</th>\n",
       "      <th>issue_year</th>\n",
       "      <th>monthly_savings</th>\n",
       "    </tr>\n",
       "  </thead>\n",
       "  <tbody>\n",
       "    <tr>\n",
       "      <th>0</th>\n",
       "      <td>0.00</td>\n",
       "      <td>171.62</td>\n",
       "      <td>0.0</td>\n",
       "      <td>12</td>\n",
       "      <td>2011</td>\n",
       "      <td>1837.13</td>\n",
       "    </tr>\n",
       "    <tr>\n",
       "      <th>1</th>\n",
       "      <td>1.11</td>\n",
       "      <td>119.66</td>\n",
       "      <td>0.0</td>\n",
       "      <td>12</td>\n",
       "      <td>2011</td>\n",
       "      <td>2440.17</td>\n",
       "    </tr>\n",
       "    <tr>\n",
       "      <th>2</th>\n",
       "      <td>0.00</td>\n",
       "      <td>649.91</td>\n",
       "      <td>0.0</td>\n",
       "      <td>12</td>\n",
       "      <td>2011</td>\n",
       "      <td>936.67</td>\n",
       "    </tr>\n",
       "    <tr>\n",
       "      <th>3</th>\n",
       "      <td>0.00</td>\n",
       "      <td>357.48</td>\n",
       "      <td>0.0</td>\n",
       "      <td>12</td>\n",
       "      <td>2011</td>\n",
       "      <td>3760.69</td>\n",
       "    </tr>\n",
       "    <tr>\n",
       "      <th>5</th>\n",
       "      <td>0.00</td>\n",
       "      <td>161.03</td>\n",
       "      <td>0.0</td>\n",
       "      <td>12</td>\n",
       "      <td>2011</td>\n",
       "      <td>2843.54</td>\n",
       "    </tr>\n",
       "    <tr>\n",
       "      <th>6</th>\n",
       "      <td>0.00</td>\n",
       "      <td>1313.76</td>\n",
       "      <td>0.0</td>\n",
       "      <td>12</td>\n",
       "      <td>2011</td>\n",
       "      <td>3746.92</td>\n",
       "    </tr>\n",
       "    <tr>\n",
       "      <th>7</th>\n",
       "      <td>0.00</td>\n",
       "      <td>111.34</td>\n",
       "      <td>0.0</td>\n",
       "      <td>12</td>\n",
       "      <td>2011</td>\n",
       "      <td>3890.57</td>\n",
       "    </tr>\n",
       "  </tbody>\n",
       "</table>\n",
       "</div>"
      ],
      "text/plain": [
       "   collection_recovery_fee  last_pymnt_amnt  pub_rec_bankruptcies  \\\n",
       "0                     0.00           171.62                   0.0   \n",
       "1                     1.11           119.66                   0.0   \n",
       "2                     0.00           649.91                   0.0   \n",
       "3                     0.00           357.48                   0.0   \n",
       "5                     0.00           161.03                   0.0   \n",
       "6                     0.00          1313.76                   0.0   \n",
       "7                     0.00           111.34                   0.0   \n",
       "\n",
       "   issue_month  issue_year  monthly_savings  \n",
       "0           12        2011          1837.13  \n",
       "1           12        2011          2440.17  \n",
       "2           12        2011           936.67  \n",
       "3           12        2011          3760.69  \n",
       "5           12        2011          2843.54  \n",
       "6           12        2011          3746.92  \n",
       "7           12        2011          3890.57  "
      ]
     },
     "execution_count": 47,
     "metadata": {},
     "output_type": "execute_result"
    }
   ],
   "source": [
    "df.iloc[0:7, 36:48]"
   ]
  },
  {
   "cell_type": "markdown",
   "id": "b2f8c8e7",
   "metadata": {},
   "source": [
    "# <span style=\"background: green; color: white; padding: 5px\"> Univariate analysis"
   ]
  },
  {
   "cell_type": "markdown",
   "id": "e633712c",
   "metadata": {},
   "source": [
    "##### purpose"
   ]
  },
  {
   "cell_type": "code",
   "execution_count": 48,
   "id": "48f16250",
   "metadata": {},
   "outputs": [
    {
     "data": {
      "image/png": "[encoded data removed]",
      "text/plain": [
       "<Figure size 360x360 with 1 Axes>"
      ]
     },
     "metadata": {
      "needs_background": "light"
     },
     "output_type": "display_data"
    }
   ],
   "source": [
    "sns.displot(df, x=\"purpose\")\n",
    "plt.xticks(rotation=90)\n",
    "plt.show()"
   ]
  },
  {
   "cell_type": "markdown",
   "id": "4b170a95",
   "metadata": {},
   "source": [
    "<span style= 'background:yellow'>Based on above chart, debt_consolidation is major reason for taking loan.</span>"
   ]
  },
  {
   "cell_type": "markdown",
   "id": "c22d8750",
   "metadata": {},
   "source": [
    "##### issue_year"
   ]
  },
  {
   "cell_type": "code",
   "execution_count": 56,
   "id": "a416b06d",
   "metadata": {},
   "outputs": [
    {
     "data": {
      "text/plain": [
       "<AxesSubplot:>"
      ]
     },
     "execution_count": 56,
     "metadata": {},
     "output_type": "execute_result"
    },
    {
     "data": {
      "image/png": "[encoded data removed]",
      "text/plain": [
       "<Figure size 432x288 with 1 Axes>"
      ]
     },
     "metadata": {
      "needs_background": "light"
     },
     "output_type": "display_data"
    }
   ],
   "source": [
    "df.issue_year.value_counts().sort_index().plot.bar()"
   ]
  },
  {
   "cell_type": "markdown",
   "id": "7e464c88",
   "metadata": {},
   "source": [
    "<span style= 'background:yellow'>Based on above chart, most of the loans are from year 2011. Maybe because of recession.</span>"
   ]
  },
  {
   "cell_type": "markdown",
   "id": "7548460f",
   "metadata": {},
   "source": [
    "##### issue_month"
   ]
  },
  {
   "cell_type": "code",
   "execution_count": 51,
   "id": "37c48426",
   "metadata": {
    "scrolled": true
   },
   "outputs": [
    {
     "data": {
      "text/plain": [
       "<AxesSubplot:>"
      ]
     },
     "execution_count": 51,
     "metadata": {},
     "output_type": "execute_result"
    },
    {
     "data": {
      "image/png": "[encoded data removed]",
      "text/plain": [
       "<Figure size 432x288 with 1 Axes>"
      ]
     },
     "metadata": {
      "needs_background": "light"
     },
     "output_type": "display_data"
    }
   ],
   "source": [
    "df.issue_month.value_counts().sort_index().plot.bar()"
   ]
  },
  {
   "cell_type": "markdown",
   "id": "484cf519",
   "metadata": {},
   "source": [
    "<span style= 'background:yellow'>Based on above chart, most of the loans are taken in the month of December.</span>"
   ]
  },
  {
   "cell_type": "markdown",
   "id": "735c54ea",
   "metadata": {},
   "source": [
    "##### loan_amnt"
   ]
  },
  {
   "cell_type": "code",
   "execution_count": 130,
   "id": "981c1a0b",
   "metadata": {
    "scrolled": true
   },
   "outputs": [
    {
     "data": {
      "text/plain": [
       "<AxesSubplot:xlabel='loan_amnt', ylabel='Count'>"
      ]
     },
     "execution_count": 130,
     "metadata": {},
     "output_type": "execute_result"
    },
    {
     "data": {
      "image/png": "[encoded data removed]",
      "text/plain": [
       "<Figure size 432x288 with 1 Axes>"
      ]
     },
     "metadata": {
      "needs_background": "light"
     },
     "output_type": "display_data"
    }
   ],
   "source": [
    "sns.histplot(df, x=\"loan_amnt\", bins=20, alpha=0.7)"
   ]
  },
  {
   "cell_type": "markdown",
   "id": "ef912c6e",
   "metadata": {},
   "source": [
    "<span style= 'background:yellow'>People are mostly applying for lower loan amounts.</span>"
   ]
  },
  {
   "cell_type": "markdown",
   "id": "b8f1ec92",
   "metadata": {},
   "source": [
    "##### annual_inc"
   ]
  },
  {
   "cell_type": "code",
   "execution_count": 53,
   "id": "b400cc93",
   "metadata": {},
   "outputs": [
    {
     "data": {
      "text/plain": [
       "<AxesSubplot:xlabel='annual_inc', ylabel='Count'>"
      ]
     },
     "execution_count": 53,
     "metadata": {},
     "output_type": "execute_result"
    },
    {
     "data": {
      "image/png": "[encoded data removed]",
      "text/plain": [
       "<Figure size 432x288 with 1 Axes>"
      ]
     },
     "metadata": {
      "needs_background": "light"
     },
     "output_type": "display_data"
    }
   ],
   "source": [
    "sns.histplot(df, x=\"annual_inc\", bins=10, alpha=0.7)"
   ]
  },
  {
   "cell_type": "markdown",
   "id": "73fdd2e2",
   "metadata": {},
   "source": [
    "<span style= 'background:yellow'>Most of the loans are taken by people whos annual income is in middle.</span>"
   ]
  },
  {
   "cell_type": "markdown",
   "id": "5aa2274d",
   "metadata": {},
   "source": [
    "##### home_ownership"
   ]
  },
  {
   "cell_type": "code",
   "execution_count": 60,
   "id": "4411271c",
   "metadata": {},
   "outputs": [
    {
     "data": {
      "text/plain": [
       "<AxesSubplot:>"
      ]
     },
     "execution_count": 60,
     "metadata": {},
     "output_type": "execute_result"
    },
    {
     "data": {
      "image/png": "[encoded data removed]",
      "text/plain": [
       "<Figure size 432x288 with 1 Axes>"
      ]
     },
     "metadata": {
      "needs_background": "light"
     },
     "output_type": "display_data"
    }
   ],
   "source": [
    "df.home_ownership.value_counts().sort_values().plot.bar()"
   ]
  },
  {
   "cell_type": "markdown",
   "id": "8f3fe0d5",
   "metadata": {},
   "source": [
    "<span style= 'background:yellow'>People who have rented or mortgaged home are majorly applying for loan</span>"
   ]
  },
  {
   "cell_type": "markdown",
   "id": "1daa9b33",
   "metadata": {},
   "source": [
    "##### dti"
   ]
  },
  {
   "cell_type": "code",
   "execution_count": 61,
   "id": "8a0ee7ed",
   "metadata": {},
   "outputs": [
    {
     "data": {
      "text/plain": [
       "<AxesSubplot:xlabel='dti', ylabel='Count'>"
      ]
     },
     "execution_count": 61,
     "metadata": {},
     "output_type": "execute_result"
    },
    {
     "data": {
      "image/png": "[encoded data removed]",
      "text/plain": [
       "<Figure size 432x288 with 1 Axes>"
      ]
     },
     "metadata": {
      "needs_background": "light"
     },
     "output_type": "display_data"
    }
   ],
   "source": [
    "sns.histplot(df, x=\"dti\", bins=10, alpha=0.7)"
   ]
  },
  {
   "cell_type": "markdown",
   "id": "513aac4d",
   "metadata": {},
   "source": [
    "<span style= 'background:yellow'>Load applications are high in dti range 9 - 17. Also there is a major drop as dti goes beyond 24.</span>"
   ]
  },
  {
   "cell_type": "markdown",
   "id": "46a3d478",
   "metadata": {},
   "source": [
    "##### pub_rec_bankruptcies"
   ]
  },
  {
   "cell_type": "code",
   "execution_count": 95,
   "id": "8c72794b",
   "metadata": {},
   "outputs": [
    {
     "data": {
      "text/plain": [
       "count    36654.000000\n",
       "mean         0.043897\n",
       "std          0.205533\n",
       "min          0.000000\n",
       "25%          0.000000\n",
       "50%          0.000000\n",
       "75%          0.000000\n",
       "max          2.000000\n",
       "Name: pub_rec_bankruptcies, dtype: float64"
      ]
     },
     "execution_count": 95,
     "metadata": {},
     "output_type": "execute_result"
    }
   ],
   "source": [
    "df.pub_rec_bankruptcies.describe()"
   ]
  },
  {
   "cell_type": "code",
   "execution_count": 96,
   "id": "3b775c93",
   "metadata": {},
   "outputs": [
    {
     "data": {
      "text/plain": [
       "<AxesSubplot:xlabel='pub_rec_bankruptcies', ylabel='Count'>"
      ]
     },
     "execution_count": 96,
     "metadata": {},
     "output_type": "execute_result"
    },
    {
     "data": {
      "image/png": "[encoded data removed]",
      "text/plain": [
       "<Figure size 432x288 with 1 Axes>"
      ]
     },
     "metadata": {
      "needs_background": "light"
     },
     "output_type": "display_data"
    }
   ],
   "source": [
    "sns.histplot(df, x=\"pub_rec_bankruptcies\", alpha=0.7)"
   ]
  },
  {
   "cell_type": "markdown",
   "id": "73becd28",
   "metadata": {},
   "source": [
    "<span style= 'background:yellow'>pub_rec_bankruptcies is not a valid parameter as it is completely zeros except two outliers"
   ]
  },
  {
   "cell_type": "markdown",
   "id": "1c3afef7",
   "metadata": {},
   "source": [
    "# <span style=\"background: green; color: white; padding: 5px\"> Bivariate analysis"
   ]
  },
  {
   "cell_type": "markdown",
   "id": "3ef6a09b",
   "metadata": {},
   "source": [
    "##### Exploring correlation between Loan Amnt and Int. Rate"
   ]
  },
  {
   "cell_type": "code",
   "execution_count": 62,
   "id": "c8d2de0a",
   "metadata": {},
   "outputs": [
    {
     "data": {
      "text/html": [
       "<div>\n",
       "<style scoped>\n",
       "    .dataframe tbody tr th:only-of-type {\n",
       "        vertical-align: middle;\n",
       "    }\n",
       "\n",
       "    .dataframe tbody tr th {\n",
       "        vertical-align: top;\n",
       "    }\n",
       "\n",
       "    .dataframe thead th {\n",
       "        text-align: right;\n",
       "    }\n",
       "</style>\n",
       "<table border=\"1\" class=\"dataframe\">\n",
       "  <thead>\n",
       "    <tr style=\"text-align: right;\">\n",
       "      <th></th>\n",
       "      <th>loan_amnt</th>\n",
       "      <th>int_rate</th>\n",
       "    </tr>\n",
       "  </thead>\n",
       "  <tbody>\n",
       "    <tr>\n",
       "      <th>0</th>\n",
       "      <td>5000</td>\n",
       "      <td>10.65</td>\n",
       "    </tr>\n",
       "    <tr>\n",
       "      <th>1</th>\n",
       "      <td>2500</td>\n",
       "      <td>15.27</td>\n",
       "    </tr>\n",
       "    <tr>\n",
       "      <th>2</th>\n",
       "      <td>2400</td>\n",
       "      <td>15.96</td>\n",
       "    </tr>\n",
       "    <tr>\n",
       "      <th>3</th>\n",
       "      <td>10000</td>\n",
       "      <td>13.49</td>\n",
       "    </tr>\n",
       "    <tr>\n",
       "      <th>5</th>\n",
       "      <td>5000</td>\n",
       "      <td>7.90</td>\n",
       "    </tr>\n",
       "  </tbody>\n",
       "</table>\n",
       "</div>"
      ],
      "text/plain": [
       "   loan_amnt  int_rate\n",
       "0       5000     10.65\n",
       "1       2500     15.27\n",
       "2       2400     15.96\n",
       "3      10000     13.49\n",
       "5       5000      7.90"
      ]
     },
     "execution_count": 62,
     "metadata": {},
     "output_type": "execute_result"
    }
   ],
   "source": [
    "df_amnt_vs_int = df[['loan_amnt', 'int_rate']]\n",
    "df_amnt_vs_int.head()"
   ]
  },
  {
   "cell_type": "code",
   "execution_count": 63,
   "id": "7d3148ae",
   "metadata": {},
   "outputs": [
    {
     "data": {
      "text/plain": [
       "<AxesSubplot:xlabel='loan_amnt', ylabel='int_rate'>"
      ]
     },
     "execution_count": 63,
     "metadata": {},
     "output_type": "execute_result"
    },
    {
     "data": {
      "image/png": "[encoded data removed]",
      "text/plain": [
       "<Figure size 720x720 with 1 Axes>"
      ]
     },
     "metadata": {
      "needs_background": "light"
     },
     "output_type": "display_data"
    }
   ],
   "source": [
    "df_amnt_vs_int.plot.scatter(x = 'loan_amnt', y = 'int_rate', figsize=(10, 10))"
   ]
  },
  {
   "cell_type": "code",
   "execution_count": 64,
   "id": "72aed123",
   "metadata": {},
   "outputs": [
    {
     "data": {
      "text/html": [
       "<div>\n",
       "<style scoped>\n",
       "    .dataframe tbody tr th:only-of-type {\n",
       "        vertical-align: middle;\n",
       "    }\n",
       "\n",
       "    .dataframe tbody tr th {\n",
       "        vertical-align: top;\n",
       "    }\n",
       "\n",
       "    .dataframe thead th {\n",
       "        text-align: right;\n",
       "    }\n",
       "</style>\n",
       "<table border=\"1\" class=\"dataframe\">\n",
       "  <thead>\n",
       "    <tr style=\"text-align: right;\">\n",
       "      <th></th>\n",
       "      <th>loan_amnt</th>\n",
       "      <th>int_rate</th>\n",
       "    </tr>\n",
       "  </thead>\n",
       "  <tbody>\n",
       "    <tr>\n",
       "      <th>loan_amnt</th>\n",
       "      <td>1.000000</td>\n",
       "      <td>0.291189</td>\n",
       "    </tr>\n",
       "    <tr>\n",
       "      <th>int_rate</th>\n",
       "      <td>0.291189</td>\n",
       "      <td>1.000000</td>\n",
       "    </tr>\n",
       "  </tbody>\n",
       "</table>\n",
       "</div>"
      ],
      "text/plain": [
       "           loan_amnt  int_rate\n",
       "loan_amnt   1.000000  0.291189\n",
       "int_rate    0.291189  1.000000"
      ]
     },
     "execution_count": 64,
     "metadata": {},
     "output_type": "execute_result"
    }
   ],
   "source": [
    "df_amnt_vs_int.corr(method ='pearson')"
   ]
  },
  {
   "cell_type": "markdown",
   "id": "7edbdc50",
   "metadata": {},
   "source": [
    "<span style= 'background:yellow'>Correlation is 0.3% between Loan Amount and Int. Rate. Can be omitted from further analysis."
   ]
  },
  {
   "cell_type": "markdown",
   "id": "986e4aff",
   "metadata": {},
   "source": [
    "#### Creating a common function to analyse categorical features"
   ]
  },
  {
   "cell_type": "code",
   "execution_count": 83,
   "id": "2d423ad7",
   "metadata": {},
   "outputs": [],
   "source": [
    "def analyse_cat_param(df, param_name):\n",
    "    #creating the required pivot table for counting loans in each category\n",
    "    df_temp_pivot = pd.pivot_table(df, index=param_name, columns='loan_status', values='member_id',  aggfunc='count').reset_index()\n",
    "    # based on the count computing percentage to get clear idea of the distribution\n",
    "    df_temp_pivot['Ch_O_%'] = round((df_temp_pivot['Charged Off']/( df_temp_pivot['Fully Paid']+ df_temp_pivot['Charged Off'])*100),2)\n",
    "    df_temp_pivot['FP_%'] = round((df_temp_pivot['Fully Paid']/( df_temp_pivot['Fully Paid']+ df_temp_pivot['Charged Off'])*100),2)\n",
    "    df_temp_pivot.set_index(param_name)\n",
    "    #group by is neccessary to bring back the category names else index would be shown as x label\n",
    "    df_temp_pivot = df_temp_pivot.groupby(by=param_name).sum().sort_values(by=['Ch_O_%'], ascending = False)\n",
    "    print(df_temp_pivot)\n",
    "    #generating the graph\n",
    "    df_temp_pivot[['Ch_O_%', 'FP_%']].plot.bar(stacked = True, figsize=(10, 5))"
   ]
  },
  {
   "cell_type": "markdown",
   "id": "aabd54f2",
   "metadata": {},
   "source": [
    "##### Loan status and purpose"
   ]
  },
  {
   "cell_type": "code",
   "execution_count": 84,
   "id": "6256f090",
   "metadata": {},
   "outputs": [
    {
     "name": "stdout",
     "output_type": "stream",
     "text": [
      "loan_status         Charged Off  Fully Paid  Ch_O_%   FP_%\n",
      "purpose                                                   \n",
      "small_business              454        1169   27.97  72.03\n",
      "renewable_energy             18          77   18.95  81.05\n",
      "educational                  54         258   17.31  82.69\n",
      "moving                       90         460   16.36  83.64\n",
      "other                       605        3094   16.36  83.64\n",
      "house                        55         283   16.27  83.73\n",
      "medical                     104         537   16.22  83.78\n",
      "debt_consolidation         2677       14628   15.47  84.53\n",
      "vacation                     52         313   14.25  85.75\n",
      "home_improvement            322        2234   12.60  87.40\n",
      "car                         159        1289   10.98  89.02\n",
      "credit_card                 519        4264   10.85  89.15\n",
      "major_purchase              217        1829   10.61  89.39\n",
      "wedding                      92         801   10.30  89.70\n"
     ]
    },
    {
     "data": {
      "image/png": "[encoded data removed]",
      "text/plain": [
       "<Figure size 720x360 with 1 Axes>"
      ]
     },
     "metadata": {
      "needs_background": "light"
     },
     "output_type": "display_data"
    }
   ],
   "source": [
    "analyse_cat_param(df, 'purpose')"
   ]
  },
  {
   "cell_type": "markdown",
   "id": "fd7e6b6d",
   "metadata": {},
   "source": [
    "<span style= 'background:yellow'>Loan Purpose is coming out a key driver with purposes SMALL BUSINESS and showing higher delinquency ~18% higher than wedding, RENEWABLE ENERGY showing ~9% higher than wedding\n",
    "\n",
    "<span style= 'background:yellow'>Small business can be further analyzed by slicing the income group. For that need to bucketize the income into groups"
   ]
  },
  {
   "cell_type": "markdown",
   "id": "c53a1320",
   "metadata": {},
   "source": [
    "##### home_ownership and loan_status"
   ]
  },
  {
   "cell_type": "code",
   "execution_count": 85,
   "id": "3cea310f",
   "metadata": {},
   "outputs": [
    {
     "name": "stdout",
     "output_type": "stream",
     "text": [
      "loan_status     Charged Off  Fully Paid  Ch_O_%   FP_%\n",
      "home_ownership                                        \n",
      "OTHER                    17          76   18.28  81.72\n",
      "RENT                   2773       15261   15.38  84.62\n",
      "OWN                     434        2418   15.22  84.78\n",
      "MORTGAGE               2194       13481   14.00  86.00\n"
     ]
    },
    {
     "data": {
      "image/png": "[encoded data removed]",
      "text/plain": [
       "<Figure size 720x360 with 1 Axes>"
      ]
     },
     "metadata": {
      "needs_background": "light"
     },
     "output_type": "display_data"
    }
   ],
   "source": [
    "analyse_cat_param(df, 'home_ownership')"
   ]
  },
  {
   "cell_type": "markdown",
   "id": "525282fd",
   "metadata": {},
   "source": [
    "<span style= 'background:yellow'><b>Delinquency is higher in 'OTHER' home category</b>, but since the count is small compared to other categories, this cannot be taken as a directional input. Among other three categories MORTGAGE has lower chance of delinquency compared to RENT and OWN"
   ]
  },
  {
   "cell_type": "markdown",
   "id": "dc25fce9",
   "metadata": {},
   "source": [
    "##### Issue year of the loan and loan status"
   ]
  },
  {
   "cell_type": "code",
   "execution_count": 88,
   "id": "14a75201",
   "metadata": {},
   "outputs": [
    {
     "name": "stdout",
     "output_type": "stream",
     "text": [
      "loan_status  Charged Off  Fully Paid  Ch_O_%   FP_%\n",
      "issue_year                                         \n",
      "2007                  41         189   17.83  82.17\n",
      "2011                3143       16303   16.16  83.84\n",
      "2008                 237        1252   15.92  84.08\n",
      "2010                1430        9583   12.98  87.02\n",
      "2009                 567        3909   12.67  87.33\n"
     ]
    },
    {
     "data": {
      "image/png": "[encoded data removed]",
      "text/plain": [
       "<Figure size 720x360 with 1 Axes>"
      ]
     },
     "metadata": {
      "needs_background": "light"
     },
     "output_type": "display_data"
    }
   ],
   "source": [
    "analyse_cat_param(df, 'issue_year')"
   ]
  },
  {
   "cell_type": "markdown",
   "id": "3a75509a",
   "metadata": {},
   "source": [
    "<span style= 'background:yellow'>Though number of loans applied were highest in the year 2011, the deliquency rate is higher in 2007."
   ]
  },
  {
   "cell_type": "markdown",
   "id": "627db66c",
   "metadata": {},
   "source": [
    "##### Grade and loan status"
   ]
  },
  {
   "cell_type": "code",
   "execution_count": 93,
   "id": "89e4a30b",
   "metadata": {},
   "outputs": [
    {
     "name": "stdout",
     "output_type": "stream",
     "text": [
      "loan_status  Charged Off  Fully Paid  Ch_O_%   FP_%\n",
      "grade                                              \n",
      "G                     95         166   36.40  63.60\n",
      "F                    289         597   32.62  67.38\n",
      "E                    660        1788   26.96  73.04\n",
      "D                   1080        3755   22.34  77.66\n",
      "C                   1325        6156   17.71  82.29\n",
      "B                   1376        9721   12.40  87.60\n",
      "A                    593        9053    6.15  93.85\n"
     ]
    },
    {
     "data": {
      "image/png": "[encoded data removed]",
      "text/plain": [
       "<Figure size 720x360 with 1 Axes>"
      ]
     },
     "metadata": {
      "needs_background": "light"
     },
     "output_type": "display_data"
    }
   ],
   "source": [
    "analyse_cat_param(df, 'grade')"
   ]
  },
  {
   "attachments": {},
   "cell_type": "markdown",
   "id": "db90a9e9",
   "metadata": {},
   "source": [
    "<span style= 'background:yellow'>There is a difference of <b>~30%</b> delinquency rate in case of grade G and A. <b>People with grade G are highly likely to default.</b>\n",
    "\n",
    "<span style= 'background:yellow'>This can be futher analysed with other features."
   ]
  },
  {
   "cell_type": "markdown",
   "id": "4a02a39c",
   "metadata": {},
   "source": [
    "##### Address state and loan status"
   ]
  },
  {
   "cell_type": "code",
   "execution_count": 94,
   "id": "f426b23c",
   "metadata": {
    "scrolled": false
   },
   "outputs": [
    {
     "name": "stdout",
     "output_type": "stream",
     "text": [
      "loan_status  Charged Off  Fully Paid  Ch_O_%   FP_%\n",
      "addr_state                                         \n",
      "NE                   3.0         2.0   60.00  40.00\n",
      "NV                 103.0       354.0   22.54  77.46\n",
      "ID                   1.0         4.0   20.00  80.00\n",
      "SD                  12.0        50.0   19.35  80.65\n",
      "AK                  13.0        58.0   18.31  81.69\n",
      "FL                 485.0      2167.0   18.29  81.71\n",
      "HI                  28.0       132.0   17.50  82.50\n",
      "MO                 111.0       536.0   17.16  82.84\n",
      "NM                  30.0       147.0   16.95  83.05\n",
      "OR                  70.0       358.0   16.36  83.64\n",
      "CA                1073.0      5488.0   16.35  83.65\n",
      "MD                 156.0       810.0   16.15  83.85\n",
      "GA                 208.0      1080.0   16.15  83.85\n",
      "NJ                 269.0      1403.0   16.09  83.91\n",
      "NH                  25.0       132.0   15.92  84.08\n",
      "WA                 124.0       660.0   15.82  84.18\n",
      "NC                 113.0       606.0   15.72  84.28\n",
      "UT                  38.0       204.0   15.70  84.30\n",
      "KY                  45.0       259.0   14.80  85.20\n",
      "MI                 100.0       582.0   14.66  85.34\n",
      "SC                  64.0       377.0   14.51  85.49\n",
      "WI                  61.0       361.0   14.45  85.55\n",
      "AZ                 117.0       694.0   14.43  85.57\n",
      "OK                  40.0       241.0   14.23  85.77\n",
      "MN                  81.0       507.0   13.78  86.22\n",
      "IL                 192.0      1214.0   13.66  86.34\n",
      "CT                  91.0       581.0   13.54  86.46\n",
      "NY                 468.0      2996.0   13.51  86.49\n",
      "VA                 174.0      1135.0   13.29  86.71\n",
      "MT                  11.0        72.0   13.25  86.75\n",
      "OH                 151.0       996.0   13.16  86.84\n",
      "CO                  96.0       645.0   12.96  87.04\n",
      "RI                  24.0       162.0   12.90  87.10\n",
      "LA                  51.0       350.0   12.72  87.28\n",
      "PA                 177.0      1245.0   12.45  87.55\n",
      "WV                  21.0       148.0   12.43  87.57\n",
      "MA                 150.0      1059.0   12.41  87.59\n",
      "AL                  52.0       371.0   12.29  87.71\n",
      "KS                  30.0       215.0   12.24  87.76\n",
      "TX                 295.0      2181.0   11.91  88.09\n",
      "TN                   2.0        15.0   11.76  88.24\n",
      "AR                  26.0       203.0   11.35  88.65\n",
      "VT                   6.0        47.0   11.32  88.68\n",
      "DE                  12.0        97.0   11.01  88.99\n",
      "MS                   2.0        17.0   10.53  89.47\n",
      "DC                  13.0       182.0    6.67  93.33\n",
      "WY                   4.0        76.0    5.00  95.00\n",
      "ME                   0.0         3.0    0.00   0.00\n",
      "IN                   0.0         9.0    0.00   0.00\n",
      "IA                   0.0         5.0    0.00   0.00\n"
     ]
    },
    {
     "data": {
      "image/png": "[encoded data removed]",
      "text/plain": [
       "<Figure size 720x360 with 1 Axes>"
      ]
     },
     "metadata": {
      "needs_background": "light"
     },
     "output_type": "display_data"
    }
   ],
   "source": [
    "analyse_cat_param(df, 'addr_state')"
   ]
  },
  {
   "cell_type": "markdown",
   "id": "7e6f0f6f",
   "metadata": {},
   "source": [
    "<span style= 'background:yellow'>3/5 loans are delinquent in NE. Although the sample is very small, this is clearly an observation worth investigating further. "
   ]
  },
  {
   "cell_type": "markdown",
   "id": "2c0f4e68",
   "metadata": {},
   "source": [
    "#### Creating a common function to analyse numerical features"
   ]
  },
  {
   "cell_type": "code",
   "execution_count": 99,
   "id": "f72fdaed",
   "metadata": {},
   "outputs": [],
   "source": [
    "def analyse_num_param(df, param_name, bins, bin_labels):\n",
    "    #for numerical feature it is most important to create bins first. These bins are then considered as categories \n",
    "    #and rest of the analysis is same as categorical feature\n",
    "    df[param_name + '_bin'] = pd.cut(df[param_name], bins, labels=bin_labels)\n",
    "    df_temp_pivot = pd.pivot_table(df, index=param_name + '_bin', columns='loan_status', values='member_id',  aggfunc='count').reset_index()\n",
    "    df_temp_pivot['Ch_O_%'] = round((df_temp_pivot['Charged Off']/( df_temp_pivot['Fully Paid']+ df_temp_pivot['Charged Off'])*100),2)\n",
    "    df_temp_pivot['FP_%'] = round((df_temp_pivot['Fully Paid']/( df_temp_pivot['Fully Paid']+ df_temp_pivot['Charged Off'])*100),2)\n",
    "    df_temp_pivot.set_index(param_name + '_bin')\n",
    "    df_temp_pivot=df_temp_pivot.groupby(by=param_name+'_bin').sum().sort_values(by=['Ch_O_%'], ascending = False)\n",
    "    print(df_temp_pivot)\n",
    "    df_temp_pivot[['Ch_O_%', 'FP_%']].plot.bar(stacked = True, figsize=(10, 5))"
   ]
  },
  {
   "cell_type": "markdown",
   "id": "8cbe4bf6",
   "metadata": {},
   "source": [
    "##### dti and loan status"
   ]
  },
  {
   "cell_type": "code",
   "execution_count": 101,
   "id": "b46fae30",
   "metadata": {
    "scrolled": false
   },
   "outputs": [
    {
     "name": "stdout",
     "output_type": "stream",
     "text": [
      "loan_status  Charged Off  Fully Paid  Ch_O_%   FP_%\n",
      "dti_bin                                            \n",
      "20-25               1103        5355   17.08  82.92\n",
      "15-20               1346        7182   15.78  84.22\n",
      "10-15               1348        7819   14.70  85.30\n",
      "25-30                 87         528   14.15  85.85\n",
      "5-10                 945        6321   13.01  86.99\n",
      "0-5                  589        4031   12.75  87.25\n"
     ]
    },
    {
     "data": {
      "image/png": "[encoded data removed]",
      "text/plain": [
       "<Figure size 720x360 with 1 Axes>"
      ]
     },
     "metadata": {
      "needs_background": "light"
     },
     "output_type": "display_data"
    }
   ],
   "source": [
    "analyse_num_param(df, 'dti', [-1,5,10,15,20,25,30], ['0-5', '5-10', '10-15', '15-20', '20-25', '25-30'])"
   ]
  },
  {
   "cell_type": "markdown",
   "id": "bf993dc7",
   "metadata": {},
   "source": [
    "<span style= 'background:yellow'> There is no big difference to draw any observations"
   ]
  },
  {
   "cell_type": "markdown",
   "id": "a95ea55c",
   "metadata": {},
   "source": [
    "##### loan issue year and loan status"
   ]
  },
  {
   "cell_type": "code",
   "execution_count": 104,
   "id": "547c37ae",
   "metadata": {},
   "outputs": [
    {
     "name": "stdout",
     "output_type": "stream",
     "text": [
      "loan_status     Charged Off  Fully Paid  Ch_O_%   FP_%\n",
      "issue_year_bin                                        \n",
      "2007                     41         189   17.83  82.17\n",
      "2011                   3143       16303   16.16  83.84\n",
      "2008                    237        1252   15.92  84.08\n",
      "2010                   1430        9583   12.98  87.02\n",
      "2009                    567        3909   12.67  87.33\n"
     ]
    },
    {
     "data": {
      "image/png": "[encoded data removed]",
      "text/plain": [
       "<Figure size 720x360 with 1 Axes>"
      ]
     },
     "metadata": {
      "needs_background": "light"
     },
     "output_type": "display_data"
    }
   ],
   "source": [
    "analyse_num_param(df, 'issue_year', [2006,2007,2008,2009,2010,2011], ['2007', '2008', '2009', '2010', '2011'])"
   ]
  },
  {
   "cell_type": "markdown",
   "id": "c76e8c3c",
   "metadata": {},
   "source": [
    "<span style= 'background:yellow'> There is no big difference to draw any observations"
   ]
  },
  {
   "cell_type": "markdown",
   "id": "a4f197f4",
   "metadata": {},
   "source": [
    "##### issue month and loan status"
   ]
  },
  {
   "cell_type": "code",
   "execution_count": 106,
   "id": "1c181485",
   "metadata": {
    "scrolled": false
   },
   "outputs": [
    {
     "name": "stdout",
     "output_type": "stream",
     "text": [
      "loan_status      Charged Off  Fully Paid  Ch_O_%   FP_%\n",
      "issue_month_bin                                        \n",
      "12                       656        3363   16.32  83.68\n",
      "5                        453        2335   16.25  83.75\n",
      "9                        533        2758   16.20  83.80\n",
      "10                       546        2987   15.45  84.55\n",
      "6                        461        2547   15.33  84.67\n",
      "11                       580        3240   15.18  84.82\n",
      "7                        457        2739   14.30  85.70\n",
      "8                        450        2765   14.00  86.00\n",
      "1                        311        1957   13.71  86.29\n",
      "4                        360        2353   13.27  86.73\n",
      "3                        329        2223   12.89  87.11\n",
      "2                        282        1969   12.53  87.47\n"
     ]
    },
    {
     "data": {
      "image/png": "[encoded data removed]",
      "text/plain": [
       "<Figure size 720x360 with 1 Axes>"
      ]
     },
     "metadata": {
      "needs_background": "light"
     },
     "output_type": "display_data"
    }
   ],
   "source": [
    "analyse_num_param(df, 'issue_month', [0,1,2,3,4,5,6,7,8,9,10,11,12], ['1','2','3','4','5','6','7','8','9','10','11','12'])"
   ]
  },
  {
   "cell_type": "markdown",
   "id": "c8990588",
   "metadata": {},
   "source": [
    "<span style= 'background:yellow'> There is no big difference to draw any observations"
   ]
  },
  {
   "cell_type": "markdown",
   "id": "e2aee4c4",
   "metadata": {},
   "source": [
    "##### Loan amount and loan status"
   ]
  },
  {
   "cell_type": "code",
   "execution_count": 131,
   "id": "750dba1f",
   "metadata": {},
   "outputs": [
    {
     "data": {
      "text/plain": [
       "0         (4812.5, 9125.0]\n",
       "1          (465.5, 4812.5]\n",
       "2          (465.5, 4812.5]\n",
       "3        (9125.0, 13437.5]\n",
       "5         (4812.5, 9125.0]\n",
       "               ...        \n",
       "39711     (4812.5, 9125.0]\n",
       "39712      (465.5, 4812.5]\n",
       "39713     (4812.5, 9125.0]\n",
       "39714     (4812.5, 9125.0]\n",
       "39716     (4812.5, 9125.0]\n",
       "Name: loan_amnt, Length: 36654, dtype: category\n",
       "Categories (8, interval[float64, right]): [(465.5, 4812.5] < (4812.5, 9125.0] < (9125.0, 13437.5] < (13437.5, 17750.0] < (17750.0, 22062.5] < (22062.5, 26375.0] < (26375.0, 30687.5] < (30687.5, 35000.0]]"
      ]
     },
     "execution_count": 131,
     "metadata": {},
     "output_type": "execute_result"
    }
   ],
   "source": [
    "pd.cut(df.loan_amnt, bins=8)"
   ]
  },
  {
   "cell_type": "code",
   "execution_count": 134,
   "id": "9e4cf824",
   "metadata": {},
   "outputs": [
    {
     "name": "stdout",
     "output_type": "stream",
     "text": [
      "loan_status    Charged Off  Fully Paid  Ch_O_%   FP_%\n",
      "loan_amnt_bin                                        \n",
      "31k-35k                146         374   28.08  71.92\n",
      "26k-31k                107         414   20.54  79.46\n",
      "22k-26k                389        1531   20.26  79.74\n",
      "18k-22k                433        1981   17.94  82.06\n",
      "13k-18k                876        4474   16.37  83.63\n",
      "<5k                   1299        8016   13.95  86.05\n",
      "9k-13k                1030        6675   13.37  86.63\n",
      "5k-9k                 1138        7766   12.78  87.22\n"
     ]
    },
    {
     "data": {
      "image/png": "[encoded data removed]",
      "text/plain": [
       "<Figure size 720x360 with 1 Axes>"
      ]
     },
     "metadata": {
      "needs_background": "light"
     },
     "output_type": "display_data"
    }
   ],
   "source": [
    "analyse_num_param(df, 'loan_amnt', [500,5000,9000,13000,18000,22000,26000,31000,35000], ['<5k','5k-9k','9k-13k','13k-18k','18k-22k','22k-26k','26k-31k','31k-35k'])"
   ]
  },
  {
   "cell_type": "markdown",
   "id": "20921218",
   "metadata": {},
   "source": [
    "<span style= 'background:yellow'>It is observed that delinquency rate is ~16% higher than the lowest deliquency rate in loan amount group 31k-35k."
   ]
  },
  {
   "cell_type": "markdown",
   "id": "d774fd49",
   "metadata": {},
   "source": [
    "##### Annual income and loan status"
   ]
  },
  {
   "cell_type": "markdown",
   "id": "675b11b3",
   "metadata": {},
   "source": [
    "First we need to find out bins for annual income"
   ]
  },
  {
   "cell_type": "code",
   "execution_count": 135,
   "id": "1e19131d",
   "metadata": {},
   "outputs": [
    {
     "data": {
      "text/plain": [
       "0          (21000.5, 38001.0]\n",
       "1          (21000.5, 38001.0]\n",
       "2         (3863.996, 21000.5]\n",
       "3          (38001.0, 55001.5]\n",
       "5          (21000.5, 38001.0]\n",
       "                 ...         \n",
       "39711      (72002.0, 89002.5]\n",
       "39712    (106003.0, 123003.5]\n",
       "39713     (3863.996, 21000.5]\n",
       "39714     (89002.5, 106003.0]\n",
       "39716      (21000.5, 38001.0]\n",
       "Name: annual_inc, Length: 36654, dtype: category\n",
       "Categories (8, interval[float64, right]): [(3863.996, 21000.5] < (21000.5, 38001.0] < (38001.0, 55001.5] < (55001.5, 72002.0] < (72002.0, 89002.5] < (89002.5, 106003.0] < (106003.0, 123003.5] < (123003.5, 140004.0]]"
      ]
     },
     "execution_count": 135,
     "metadata": {},
     "output_type": "execute_result"
    }
   ],
   "source": [
    "pd.cut(df.annual_inc, bins=8)"
   ]
  },
  {
   "cell_type": "code",
   "execution_count": 136,
   "id": "ad344e2e",
   "metadata": {},
   "outputs": [
    {
     "name": "stdout",
     "output_type": "stream",
     "text": [
      "loan_status     Charged Off  Fully Paid  Ch_O_%   FP_%\n",
      "annual_inc_bin                                        \n",
      "<21k                    265        1082   19.67  80.33\n",
      "21k-38k                1203        5572   17.76  82.24\n",
      "38-55k                 1554        8413   15.59  84.41\n",
      "55k-72k                1106        6570   14.41  85.59\n",
      "72k-89k                 610        4127   12.88  87.12\n",
      "106k-123k               199        1574   11.22  88.78\n",
      "123k-140k               122         983   11.04  88.96\n",
      "89k-106k                357        2905   10.94  89.06\n"
     ]
    },
    {
     "data": {
      "image/png": "[encoded data removed]",
      "text/plain": [
       "<Figure size 720x360 with 1 Axes>"
      ]
     },
     "metadata": {
      "needs_background": "light"
     },
     "output_type": "display_data"
    }
   ],
   "source": [
    "analyse_num_param(df, 'annual_inc', [3800,21000,38000,55000,72000,89000,106000,123000,140000], ['<21k','21k-38k','38-55k','55k-72k','72k-89k','89k-106k','106k-123k','123k-140k'])"
   ]
  },
  {
   "cell_type": "markdown",
   "id": "fb77eabb",
   "metadata": {},
   "source": [
    "<span style= 'background:yellow'>~9% higher delinquency in lower income group (<21k) compared to the lowest group - 89k-106k income group of 10.94%"
   ]
  },
  {
   "cell_type": "markdown",
   "id": "6ba0ef7e",
   "metadata": {},
   "source": [
    "##### Interest rate and loan status"
   ]
  },
  {
   "cell_type": "code",
   "execution_count": 114,
   "id": "60af3710",
   "metadata": {},
   "outputs": [
    {
     "data": {
      "text/plain": [
       "0        (10.165, 12.537]\n",
       "1         (14.91, 17.282]\n",
       "2         (14.91, 17.282]\n",
       "3         (12.537, 14.91]\n",
       "5         (7.792, 10.165]\n",
       "               ...       \n",
       "39711     (7.792, 10.165]\n",
       "39712     (7.792, 10.165]\n",
       "39713    (10.165, 12.537]\n",
       "39714     (7.792, 10.165]\n",
       "39716     (12.537, 14.91]\n",
       "Name: int_rate, Length: 36654, dtype: category\n",
       "Categories (8, interval[float64, right]): [(5.401, 7.792] < (7.792, 10.165] < (10.165, 12.537] < (12.537, 14.91] < (14.91, 17.282] < (17.282, 19.655] < (19.655, 22.027] < (22.027, 24.4]]"
      ]
     },
     "execution_count": 114,
     "metadata": {},
     "output_type": "execute_result"
    }
   ],
   "source": [
    "pd.cut(df.int_rate, bins=8)"
   ]
  },
  {
   "cell_type": "code",
   "execution_count": 115,
   "id": "b75491f4",
   "metadata": {},
   "outputs": [
    {
     "name": "stdout",
     "output_type": "stream",
     "text": [
      "loan_status   Charged Off  Fully Paid  Ch_O_%   FP_%\n",
      "int_rate_bin                                        \n",
      "22.02-24.4             63          69   47.73  52.27\n",
      "19.65-22.02           277         461   37.53  62.47\n",
      "17.28-19.65           570        1371   29.37  70.63\n",
      "14.91-17.28          1095        3755   22.58  77.42\n",
      "12.53-14.91          1364        6589   17.15  82.85\n",
      "10.16-12.53          1228        7928   13.41  86.59\n",
      "7.79-10.16            482        4937    8.89  91.11\n",
      "<7.79                 339        6126    5.24  94.76\n"
     ]
    },
    {
     "data": {
      "image/png": "[encoded data removed]",
      "text/plain": [
       "<Figure size 720x360 with 1 Axes>"
      ]
     },
     "metadata": {
      "needs_background": "light"
     },
     "output_type": "display_data"
    }
   ],
   "source": [
    "analyse_num_param(df, 'int_rate', [5.4,7.79,10.16,12.53,14.91,17.28,19.65,22.02,24.4], ['<7.79','7.79-10.16','10.16-12.53','12.53-14.91','14.91-17.28','17.28-19.65','19.65-22.02','22.02-24.4'])"
   ]
  },
  {
   "cell_type": "markdown",
   "id": "67256b0b",
   "metadata": {},
   "source": [
    "<span style= 'background:yellow'>As expected, the rate of delinquency increases with increase in interest rate."
   ]
  },
  {
   "cell_type": "markdown",
   "id": "43a24d2c",
   "metadata": {},
   "source": [
    "# <span style=\"background: green; color: white; padding: 5px\"> Multivariate analysis"
   ]
  },
  {
   "cell_type": "markdown",
   "id": "3c32643b",
   "metadata": {},
   "source": [
    "##### Grade G, sub grade and loan status"
   ]
  },
  {
   "cell_type": "code",
   "execution_count": 90,
   "id": "87885dd3",
   "metadata": {},
   "outputs": [
    {
     "name": "stdout",
     "output_type": "stream",
     "text": [
      "loan_status  Charged Off  Fully Paid  Ch_O_%   FP_%\n",
      "sub_grade                                          \n",
      "G3                    19          21   47.50  52.50\n",
      "G5                     9          13   40.91  59.09\n",
      "G2                    26          40   39.39  60.61\n",
      "G1                    30          58   34.09  65.91\n",
      "G4                    11          34   24.44  75.56\n"
     ]
    },
    {
     "data": {
      "image/png": "[encoded data removed]",
      "text/plain": [
       "<Figure size 720x360 with 1 Axes>"
      ]
     },
     "metadata": {
      "needs_background": "light"
     },
     "output_type": "display_data"
    }
   ],
   "source": [
    "analyse_cat_param(df[df.grade == 'G'], 'sub_grade')"
   ]
  },
  {
   "attachments": {},
   "cell_type": "markdown",
   "id": "72bec1bd",
   "metadata": {},
   "source": [
    "<span style= 'background:yellow'>People with sub <b>grade G3</b> are mostly highly likly to be defaulters."
   ]
  },
  {
   "cell_type": "markdown",
   "id": "9bfa47d6",
   "metadata": {},
   "source": [
    "##### Grade G, purpose and loan status"
   ]
  },
  {
   "cell_type": "code",
   "execution_count": 91,
   "id": "5afe5ab4",
   "metadata": {},
   "outputs": [
    {
     "name": "stdout",
     "output_type": "stream",
     "text": [
      "loan_status         Charged Off  Fully Paid  Ch_O_%   FP_%\n",
      "purpose                                                   \n",
      "medical                     2.0         1.0   66.67  33.33\n",
      "car                         1.0         1.0   50.00  50.00\n",
      "house                       2.0         2.0   50.00  50.00\n",
      "wedding                     2.0         2.0   50.00  50.00\n",
      "other                       8.0         9.0   47.06  52.94\n",
      "small_business             20.0        25.0   44.44  55.56\n",
      "debt_consolidation         53.0        90.0   37.06  62.94\n",
      "moving                      1.0         2.0   33.33  66.67\n",
      "major_purchase              1.0         3.0   25.00  75.00\n",
      "credit_card                 3.0        17.0   15.00  85.00\n",
      "home_improvement            1.0        12.0    7.69  92.31\n",
      "educational                 0.0         1.0    0.00   0.00\n",
      "renewable_energy            1.0         0.0    0.00   0.00\n",
      "vacation                    0.0         1.0    0.00   0.00\n"
     ]
    },
    {
     "data": {
      "image/png": "[encoded data removed]",
      "text/plain": [
       "<Figure size 720x360 with 1 Axes>"
      ]
     },
     "metadata": {
      "needs_background": "light"
     },
     "output_type": "display_data"
    }
   ],
   "source": [
    "analyse_cat_param(df[df.grade == 'G'], 'purpose')"
   ]
  },
  {
   "cell_type": "markdown",
   "id": "921c0a39",
   "metadata": {},
   "source": [
    "<span style= 'background:yellow'>People with grade G who take loan for <b>medical purpose</b> have 66.67% chances of being defaulters.\n",
    "<span style= 'background:yellow'>It is also interesting to see there are no loan for the purpose of education, renewable energy and vacations."
   ]
  },
  {
   "cell_type": "markdown",
   "id": "b16846ac",
   "metadata": {},
   "source": [
    "##### Grade G, annual income and loan status"
   ]
  },
  {
   "cell_type": "code",
   "execution_count": 123,
   "id": "f2d31fe3",
   "metadata": {},
   "outputs": [
    {
     "name": "stdout",
     "output_type": "stream",
     "text": [
      "loan_status     Charged Off  Fully Paid  Ch_O_%   FP_%\n",
      "annual_inc_bin                                        \n",
      "21k-38k                  14          10   58.33  41.67\n",
      "<21k                      2           2   50.00  50.00\n",
      "72k-89k                  18          26   40.91  59.09\n",
      "38-55k                   18          28   39.13  60.87\n",
      "55k-72k                  21          34   38.18  61.82\n",
      "106k-123k                10          24   29.41  70.59\n",
      "89k-106k                  9          28   24.32  75.68\n",
      "123k-140k                 3          14   17.65  82.35\n"
     ]
    },
    {
     "data": {
      "image/png": "[encoded data removed]",
      "text/plain": [
       "<Figure size 720x360 with 1 Axes>"
      ]
     },
     "metadata": {
      "needs_background": "light"
     },
     "output_type": "display_data"
    }
   ],
   "source": [
    "analyse_cat_param(df[df.grade == 'G'], 'annual_inc_bin')"
   ]
  },
  {
   "cell_type": "markdown",
   "id": "4ec5ecd0",
   "metadata": {},
   "source": [
    "<span style= 'background:yellow'> Annual income group between <b>21k and 38k</b> and group G have 3/5 chances of being defaulters"
   ]
  },
  {
   "cell_type": "markdown",
   "id": "250f95dc",
   "metadata": {},
   "source": [
    "##### Grade G, annual income = 21k-38k, interest rate and loan status"
   ]
  },
  {
   "cell_type": "code",
   "execution_count": 129,
   "id": "076e64ee",
   "metadata": {},
   "outputs": [
    {
     "name": "stdout",
     "output_type": "stream",
     "text": [
      "loan_status   Charged Off  Fully Paid  Ch_O_%    FP_%\n",
      "int_rate_bin                                         \n",
      "22.02-24.4              5           2   71.43   28.57\n",
      "19.65-22.02             9           7   56.25   43.75\n",
      "<7.79                   0           0    0.00    0.00\n",
      "7.79-10.16              0           0    0.00    0.00\n",
      "10.16-12.53             0           0    0.00    0.00\n",
      "12.53-14.91             0           0    0.00    0.00\n",
      "14.91-17.28             0           0    0.00    0.00\n",
      "17.28-19.65             0           1    0.00  100.00\n"
     ]
    },
    {
     "data": {
      "image/png": "[encoded data removed]",
      "text/plain": [
       "<Figure size 720x360 with 1 Axes>"
      ]
     },
     "metadata": {
      "needs_background": "light"
     },
     "output_type": "display_data"
    }
   ],
   "source": [
    "analyse_cat_param(df[(df.grade == 'G')&(df.annual_inc_bin == '21k-38k')], 'int_rate_bin')"
   ]
  },
  {
   "cell_type": "markdown",
   "id": "fb55aaaa",
   "metadata": {},
   "source": [
    "<span style=\"background:yellow\">The delinquency rate for grade G and annual income between 21k-38k is ~71% for highest interest rate. Where are it is 0% for lower interest rate.<br>\n",
    "## <span style=\"background:orange\">Based on the analysis we can recomment to the company that they should give loans at lower rate of interest for applicants from group G to avoide delinquencies."
   ]
  },
  {
   "cell_type": "code",
   "execution_count": null,
   "id": "6934499b",
   "metadata": {},
   "outputs": [],
   "source": []
  }
 ],
 "metadata": {
  "kernelspec": {
   "display_name": "Python 3 (ipykernel)",
   "language": "python",
   "name": "python3"
  },
  "language_info": {
   "codemirror_mode": {
    "name": "ipython",
    "version": 3
   },
   "file_extension": ".py",
   "mimetype": "text/x-python",
   "name": "python",
   "nbconvert_exporter": "python",
   "pygments_lexer": "ipython3",
   "version": "3.9.7"
  }
 },
 "nbformat": 4,
 "nbformat_minor": 5
}
